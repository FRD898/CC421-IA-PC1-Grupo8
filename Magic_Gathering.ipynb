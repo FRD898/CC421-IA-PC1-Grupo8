{
 "cells": [
  {
   "cell_type": "markdown",
   "metadata": {
    "id": "F0STdRbh6P8n"
   },
   "source": [
    "## Curso: Inteligencia Artificial \n",
    "\n",
    "\"El presente texto ha sido preparado de manera exclusiva para los alumnos del Curso de Inteligencia Artificial, que  forma parte de la Plan de Estudio de la Escuela de Ciencia de Computación,  según  el  artículo  °44  de  la  Ley  sobre  el  Derecho  de  Autor,  D.L.  N°822.  Queda  prohibida  su  difusión  y  reproducción  por  cualquier \n",
    "medio o procedimiento, total o parcialmente fuera del marco del presente curso\".\n",
    "\n",
    "### Magic: The Gatherig\n",
    "\n",
    "Magic: The Gathering es un juego de cartas que combina estrategia y fantasía, que además de su popularidad,  también esconde una complejidad muy elevada. Tal es así, que Alex Churchill, diseñador de juegos de mesa de Cambridge y Stella Biderman, matemática del Instituto de Tecnología de Georgia han publicado un estudio en el portal arxiV donde han catalogado a 'Magic: The Gathering' como el juego más complejo del mundo, computacionalmente hablando: [Magic: The Gathering is Turing Complete\n",
    "](https://arxiv.org/abs/1904.09828).\n",
    "\n",
    "En el paper se utilizan mapas y reglas existentes para dos jugadores, implementaron una máquina de Turing universal, y descubrieron que determinar el ganador en este caso es equivalente al problema de detener esta máquina. Por un lado, por primera vez se muestra un ejemplo de un juego real en el que la definición de una estrategia ganadora no es computable, y por el otro, demuestra la imposibilidad en el caso general de comprobar la equivalencia de diferentes estrategias en un juego dado, que conduce a impacto significativo en los fundamentos de la teoría de juegos, ya que el punto de vista prevaleciente de hoy sugiere que el resultado de cualquier juego debería ser teóricamente computable.\n",
    "\n",
    "Realizamos un grupo de inferencias del juego usando el paquete [RDFLib](https://rdflib.readthedocs.io/en/stable/) de python, teniendo en cuenta las reglas del juego descritas en [Magic: The Gathering Comprehensive Rules](https://blogs.magicjudges.org/rules/cr/)."
   ]
  },
  {
   "cell_type": "code",
   "execution_count": 15,
   "metadata": {
    "colab": {
     "base_uri": "https://localhost:8080/"
    },
    "id": "KB_2d_7aQhEo",
    "outputId": "c601c74a-8756-47ed-846a-0581160f0692",
    "scrolled": true
   },
   "outputs": [
    {
     "name": "stdout",
     "output_type": "stream",
     "text": [
      "Requirement already satisfied: rdflib in /usr/local/lib/python3.7/dist-packages (5.0.0)\n",
      "Requirement already satisfied: isodate in /usr/local/lib/python3.7/dist-packages (from rdflib) (0.6.0)\n",
      "Requirement already satisfied: pyparsing in /usr/local/lib/python3.7/dist-packages (from rdflib) (2.4.7)\n",
      "Requirement already satisfied: six in /usr/local/lib/python3.7/dist-packages (from rdflib) (1.15.0)\n"
     ]
    }
   ],
   "source": [
    "!pip install rdflib"
   ]
  },
  {
   "cell_type": "code",
   "execution_count": 16,
   "metadata": {
    "ExecuteTime": {
     "end_time": "2019-10-13T00:21:54.228809Z",
     "start_time": "2019-10-13T00:21:54.216846Z"
    },
    "id": "eMByP4fWBSd-"
   },
   "outputs": [],
   "source": [
    "from rdflib import URIRef, BNode, Literal\n",
    "from rdflib import Namespace\n",
    "from rdflib.namespace import RDF, RDFS\n",
    "from rdflib import ConjunctiveGraph\n",
    "import pprint"
   ]
  },
  {
   "cell_type": "markdown",
   "metadata": {
    "id": "6xpiQnKsBSeC"
   },
   "source": [
    "# Modelado del Grafo"
   ]
  },
  {
   "cell_type": "markdown",
   "metadata": {
    "id": "UEfepU5WyU6D"
   },
   "source": [
    "Ingresando las URIs de los sujetos"
   ]
  },
  {
   "cell_type": "markdown",
   "metadata": {
    "id": "dT07NPQKyQoB"
   },
   "source": [
    "Ingresando las URIs de las instancias de la clase maestra: Objeto"
   ]
  },
  {
   "cell_type": "code",
   "execution_count": 17,
   "metadata": {
    "ExecuteTime": {
     "end_time": "2019-10-13T00:43:03.155889Z",
     "start_time": "2019-10-13T00:43:03.135978Z"
    },
    "id": "J9yguZsFBSeC"
   },
   "outputs": [],
   "source": [
    "serraAngel = URIRef('https://gatherer.wizards.com/Pages/Card/Details.aspx?multiverseid=443459') \n",
    "lesserMasticore = URIRef('https://gatherer.wizards.com/Pages/Card/Details.aspx?multiverseid=464682') \n",
    "priestOfTitania = URIRef('https://gatherer.wizards.com/Pages/Card/Details.aspx?multiverseid=391664')\n",
    "forest = URIRef('https://gatherer.wizards.com/Pages/Card/Details.aspx?multiverseid=473766')\n",
    "swamp = URIRef('https://gatherer.wizards.com/Pages/Card/Details.aspx?multiverseid=473758')\n",
    "island = URIRef('https://gatherer.wizards.com/Pages/Card/Details.aspx?multiverseid=87129')\n",
    "mountain = URIRef('https://gatherer.wizards.com/Pages/Card/Details.aspx?multiverseid=473762')\n",
    "plains = URIRef('https://gatherer.wizards.com/Pages/Card/Details.aspx?multiverseid=158969')\n",
    "worldSlayer = URIRef('https://gatherer.wizards.com/Pages/Card/Details.aspx?multiverseid=265091')\n",
    "faceOfDivinity = URIRef('https://gatherer.wizards.com/Pages/Card/Details.aspx?multiverseid=464465')\n",
    "engineeredPlague = URIRef('https://gatherer.wizards.com/Pages/Card/Details.aspx?multiverseid=12944')\n",
    "rotFarmSkeleton = URIRef('https://gatherer.wizards.com/Pages/Card/Details.aspx?multiverseid=370232')\n",
    "segovianAngel = URIRef('https://gatherer.wizards.com/Pages/Card/Details.aspx?multiverseid=464482')\n",
    "urzaArtificer = URIRef('https://gatherer.wizards.com/Pages/Card/Details.aspx?multiverseid=464024')\n",
    "starCompass = URIRef('https://gatherer.wizards.com/Pages/Card/Details.aspx?multiverseid=165565')\n",
    "avatarOfWoe = URIRef('https://gatherer.wizards.com/Pages/Card/Details.aspx?multiverseid=260729')\n",
    "avatarOfFury = URIRef('https://gatherer.wizards.com/Pages/Card/Details.aspx?multiverseid=260766')\n",
    "yawgmothPhysician = URIRef('https://gatherer.wizards.com/Pages/Card/Details.aspx?multiverseid=464573')\n",
    "basicLand = URIRef('basic_land')\n",
    "adarkarWastes = URIRef('https://gatherer.wizards.com/Pages/Card/Details.aspx?multiverseid=150663')\n",
    "cavesOfKoilos = URIRef('https://gatherer.wizards.com/Pages/Card/Details.aspx?multiverseid=423359')\n",
    "feralAbomination = URIRef('https://gatherer.wizards.com/Pages/Card/Details.aspx?multiverseid=466855')\n",
    "counterspell = URIRef('https://gatherer.wizards.com/pages/card/details.aspx?multiverseid=202437')\n",
    "terror = URIRef('https://gatherer.wizards.com/Pages/Card/Details.aspx?multiverseid=150498')\n",
    "wrathOfGod = URIRef('https://gatherer.wizards.com/Pages/Card/Details.aspx?multiverseid=378372')\n",
    "killSwitch = URIRef('https://gatherer.wizards.com/Pages/Card/Details.aspx?multiverseid=22318')"
   ]
  },
  {
   "cell_type": "code",
   "execution_count": 18,
   "metadata": {
    "ExecuteTime": {
     "end_time": "2019-10-13T00:43:03.292088Z",
     "start_time": "2019-10-13T00:43:03.285141Z"
    },
    "id": "o9I-VH4LBSeF"
   },
   "outputs": [],
   "source": [
    "n = Namespace(\"https://mtg.gamepedia.com/\")"
   ]
  },
  {
   "cell_type": "markdown",
   "metadata": {
    "id": "Ody2GXhqzSPn"
   },
   "source": [
    "Insertando las URIs de la clase: Características"
   ]
  },
  {
   "cell_type": "code",
   "execution_count": 19,
   "metadata": {
    "ExecuteTime": {
     "end_time": "2019-10-13T00:43:03.424827Z",
     "start_time": "2019-10-13T00:43:03.415858Z"
    },
    "id": "ulfcl4UXBSeH"
   },
   "outputs": [],
   "source": [
    "power = URIRef('characteristic/power')\n",
    "tougthness = URIRef('characteristic/tougthness')\n",
    "name = URIRef('characteristic/name')\n",
    "color = URIRef('characteristic/color')\n",
    "enchantCreature = URIRef('characteristic/enchantCreature')\n",
    "equip = URIRef('characteristic/equip')"
   ]
  },
  {
   "cell_type": "code",
   "execution_count": 20,
   "metadata": {
    "ExecuteTime": {
     "end_time": "2019-10-13T00:43:03.570237Z",
     "start_time": "2019-10-13T00:43:03.563262Z"
    },
    "id": "D9eIMsHgBSeJ"
   },
   "outputs": [],
   "source": [
    "g = ConjunctiveGraph()"
   ]
  },
  {
   "cell_type": "markdown",
   "metadata": {
    "id": "Dsqzh8wNzlhq"
   },
   "source": [
    "Creando las subclases de clase maestra: Objeto y subclases sucesoras"
   ]
  },
  {
   "cell_type": "code",
   "execution_count": 21,
   "metadata": {
    "ExecuteTime": {
     "end_time": "2019-10-13T00:43:03.903452Z",
     "start_time": "2019-10-13T00:43:03.888496Z"
    },
    "id": "k-d2i6q7BSeL"
   },
   "outputs": [],
   "source": [
    "# General categories\n",
    "\n",
    "g.add((n.spell, RDFS.subClassOf, n.object))\n",
    "g.add((n.land, RDFS.subClassOf, n.object))\n",
    "g.add((n.sorcery, RDFS.subClassOf, n.spell))\n",
    "g.add((n.instant, RDFS.subClassOf, n.spell))\n",
    "g.add((n.artifact, RDFS.subClassOf, n.spell))\n",
    "g.add((n.enchantment, RDFS.subClassOf, n.spell))\n",
    "g.add((n.creature, RDFS.subClassOf, n.spell))"
   ]
  },
  {
   "cell_type": "code",
   "execution_count": null,
   "metadata": {},
   "outputs": [],
   "source": []
  },
  {
   "cell_type": "raw",
   "metadata": {
    "ExecuteTime": {
     "end_time": "2019-10-13T00:43:04.061060Z",
     "start_time": "2019-10-13T00:43:04.036126Z"
    },
    "id": "lKaF2oWJBSeN"
   },
   "source": [
    "# Sub categories\n",
    "\n",
    "g.add((n.artificer, RDFS.subClassOf, n.creature))\n",
    "g.add((n.cleric, RDFS.subClassOf, n.creature))\n",
    "g.add((n.human, RDFS.subClassOf, n.creature))\n",
    "g.add((n.angel, RDFS.subClassOf, n.creature))\n",
    "g.add((n.elf, RDFS.subClassOf, n.creature))\n",
    "g.add((n.masticore, RDFS.subClassOf, n.creature))\n",
    "g.add((n.plant, RDFS.subClassOf, n.creature))\n",
    "g.add((n.skeleton, RDFS.subClassOf, n.creature))\n",
    "g.add((n.avatar, RDFS.subClassOf, n.creature))\n",
    "g.add((n.thrull, RDFS.subClassOf, n.creature))\n",
    "\n",
    "g.add((n.nonBasicLand, RDFS.subClassOf, n.land))\n",
    "g.add((n.basicLand, RDFS.subClassOf, n.land))\n",
    "\n",
    "g.add((n.equipment, RDFS.subClassOf, n.artifact))\n",
    "\n",
    "g.add((n.aura, RDFS.subClassOf, n.enchantment))"
   ]
  },
  {
   "cell_type": "markdown",
   "metadata": {
    "id": "9mYGud-Az1Fy"
   },
   "source": [
    "Ingresando los tipos de la Clase maestra:Objeto y subclases sucesoras"
   ]
  },
  {
   "cell_type": "code",
   "execution_count": 23,
   "metadata": {
    "ExecuteTime": {
     "end_time": "2019-10-13T01:13:02.889744Z",
     "start_time": "2019-10-13T01:13:02.882763Z"
    },
    "id": "cVN-kHWMBSeP"
   },
   "outputs": [],
   "source": [
    "# Non creature instances\n",
    "\n",
    "g.add((forest, RDF.type, n.basicLand))\n",
    "g.add((swamp, RDF.type, n.basicLand))\n",
    "g.add((plains, RDF.type, n.basicLand))\n",
    "g.add((mountain, RDF.type, n.basicLand))\n",
    "g.add((island, RDF.type, n.basicLand))\n",
    "\n",
    "g.add((cavesOfKoilos, RDF.type, n.nonBasicLand))\n",
    "g.add((adarkarWastes, RDF.type, n.nonBasicLand))\n",
    "\n",
    "g.add((engineeredPlague, RDF.type, n.enchantment))\n",
    "g.add((engineeredPlague, color, Literal('Black')))\n",
    "g.add((engineeredPlague, name, Literal('Engineered Plague')))\n",
    "\n",
    "g.add((wrathOfGod, RDF.type, n.sorcery))\n",
    "g.add((wrathOfGod, color, Literal('White')))\n",
    "g.add((wrathOfGod, name, Literal('Wrath of God')))\n",
    "\n",
    "g.add((terror, RDF.type, n.instant))\n",
    "g.add((terror, color, Literal('Black')))\n",
    "g.add((terror, name, Literal('Terror')))\n",
    "\n",
    "g.add((counterspell, RDF.type, n.instant))\n",
    "g.add((counterspell, color, Literal('Blue')))\n",
    "g.add((counterspell, name, Literal('Counterspell')))\n",
    "\n",
    "g.add((worldSlayer, RDF.type, n.equipment))\n",
    "g.add((worldSlayer, name, Literal('World Slayer')))\n",
    "g.add((starCompass, RDF.type, n.artifact))\n",
    "g.add((starCompass, name, Literal('Star Compass')))\n",
    "\n",
    "g.add((killSwitch, RDF.type, n.artifact))\n",
    "g.add((killSwitch, name, Literal('Kill Switch')))\n",
    "\n",
    "g.add((faceOfDivinity, RDF.type, n.aura))\n",
    "g.add((faceOfDivinity, color, Literal('White')))\n",
    "g.add((faceOfDivinity, name, Literal('Face of Divinity')))"
   ]
  },
  {
   "cell_type": "markdown",
   "metadata": {
    "id": "7PLHIKan0DQq"
   },
   "source": [
    "Creando Nombres Literales para identificación de las URIs de las instancias"
   ]
  },
  {
   "cell_type": "code",
   "execution_count": 24,
   "metadata": {
    "ExecuteTime": {
     "end_time": "2019-10-13T02:01:31.973444Z",
     "start_time": "2019-10-13T02:01:31.945531Z"
    },
    "id": "Em0WVEAmBSeS"
   },
   "outputs": [],
   "source": [
    "# Creature instances\n",
    "\n",
    "g.add((lesserMasticore, RDF.type, n.masticore))\n",
    "g.add((lesserMasticore, RDF.type, n.artifact))\n",
    "g.add((lesserMasticore, RDF.type, n.creature))\n",
    "g.add((lesserMasticore, power, Literal('2')))\n",
    "g.add((lesserMasticore, tougthness, Literal('2')))\n",
    "g.add((lesserMasticore, name, Literal('Lesser Masticore')))\n",
    "\n",
    "g.add((serraAngel, RDF.type, n.angel))\n",
    "g.add((serraAngel, color, Literal('White')))\n",
    "g.add((serraAngel, power, Literal('4')))\n",
    "g.add((serraAngel, tougthness, Literal('4')))\n",
    "g.add((serraAngel, name, Literal('Serra Angel')))\n",
    "\n",
    "g.add((segovianAngel, RDF.type, n.angel))\n",
    "g.add((segovianAngel, color, Literal('White')))\n",
    "g.add((segovianAngel, power, Literal('1')))\n",
    "g.add((segovianAngel, tougthness, Literal('1')))\n",
    "g.add((segovianAngel, name, Literal('Segovian Angel')))\n",
    "\n",
    "g.add((priestOfTitania, RDF.type, n.elf))\n",
    "g.add((priestOfTitania, color, Literal('Green')))\n",
    "g.add((priestOfTitania, power, Literal('1')))\n",
    "g.add((priestOfTitania, tougthness, Literal('1')))\n",
    "g.add((priestOfTitania, name, Literal('Priest of Titania')))\n",
    "\n",
    "g.add((rotFarmSkeleton, RDF.type, n.skeleton))\n",
    "g.add((rotFarmSkeleton, RDF.type, n.plant))\n",
    "g.add((rotFarmSkeleton, color, Literal('Green')))\n",
    "g.add((rotFarmSkeleton, color, Literal('Black')))\n",
    "g.add((rotFarmSkeleton, power, Literal('4')))\n",
    "g.add((rotFarmSkeleton, tougthness, Literal('1')))\n",
    "g.add((rotFarmSkeleton, name, Literal('Rot Farm Skeleton')))\n",
    "\n",
    "g.add((avatarOfWoe, RDF.type, n.avatar))\n",
    "g.add((avatarOfWoe, color, Literal('Black')))\n",
    "g.add((avatarOfWoe, power, Literal('6')))\n",
    "g.add((avatarOfWoe, tougthness, Literal('5')))\n",
    "g.add((avatarOfWoe, name, Literal('Avatar of Woe')))\n",
    "\n",
    "g.add((avatarOfFury, RDF.type, n.avatar))\n",
    "g.add((avatarOfFury, color, Literal('Red')))\n",
    "g.add((avatarOfFury, power, Literal('6')))\n",
    "g.add((avatarOfFury, tougthness, Literal('6')))\n",
    "g.add((avatarOfFury, name, Literal('Avatar of Fury')))\n",
    "\n",
    "g.add((yawgmothPhysician, RDF.type, n.human))\n",
    "g.add((yawgmothPhysician, RDF.type, n.cleric))\n",
    "g.add((yawgmothPhysician, color, Literal('Black')))\n",
    "g.add((yawgmothPhysician, power, Literal('2')))\n",
    "g.add((yawgmothPhysician, tougthness, Literal('4')))\n",
    "g.add((yawgmothPhysician, name, Literal('Yawgmoth, Thran Physician')))\n",
    "\n",
    "g.add((urzaArtificer, RDF.type, n.human))\n",
    "g.add((urzaArtificer, RDF.type, n.artificer))\n",
    "g.add((urzaArtificer, color, Literal('Blue')))\n",
    "g.add((urzaArtificer, power, Literal('1')))\n",
    "g.add((urzaArtificer, tougthness, Literal('4')))\n",
    "g.add((urzaArtificer, name, Literal('Urza, Lord High Artificer')))\n",
    "\n",
    "g.add((feralAbomination, RDF.type, n.thrull))\n",
    "g.add((feralAbomination, color, Literal('Black')))\n",
    "g.add((feralAbomination, power, Literal('5')))\n",
    "g.add((feralAbomination, tougthness, Literal('5')))\n",
    "g.add((feralAbomination, name, Literal('Feral Abomination')))"
   ]
  },
  {
   "cell_type": "markdown",
   "metadata": {
    "id": "PgtMBJLx0bid"
   },
   "source": [
    "Ingresando las SubPropiedades de la clase: Características y sucesoras"
   ]
  },
  {
   "cell_type": "code",
   "execution_count": 25,
   "metadata": {
    "ExecuteTime": {
     "end_time": "2019-10-13T00:43:04.339392Z",
     "start_time": "2019-10-13T00:43:04.320438Z"
    },
    "id": "LMhtcIDEBSeU"
   },
   "outputs": [],
   "source": [
    "# Properties\n",
    "\n",
    "g.add((color, RDFS.subPropertyOf, n.characteristic))\n",
    "g.add((power, RDFS.subPropertyOf, n.characteristic))\n",
    "g.add((tougthness, RDFS.subPropertyOf, n.characteristic))\n",
    "g.add((name, RDFS.subPropertyOf, n.characteristic))\n",
    "\n",
    "g.add((enchantCreature, RDFS.domain, n.aura))\n",
    "g.add((enchantCreature, RDFS.range, n.creature))\n",
    "g.add((enchantCreature, RDFS.subPropertyOf, n.characteristic))\n",
    "g.add((equip, RDFS.domain, n.equipment))\n",
    "g.add((equip, RDFS.range, n.creature))\n",
    "g.add((equip, RDFS.subPropertyOf, n.characteristic))"
   ]
  },
  {
   "cell_type": "code",
   "execution_count": 26,
   "metadata": {
    "ExecuteTime": {
     "end_time": "2019-10-13T00:43:04.514013Z",
     "start_time": "2019-10-13T00:43:04.502013Z"
    },
    "id": "EXPe0QoQBSeW"
   },
   "outputs": [],
   "source": [
    "# Labels definition\n",
    "\n",
    "g.add((color, RDFS.subPropertyOf, RDFS.label))\n",
    "g.add((power, RDFS.subPropertyOf, RDFS.label))\n",
    "g.add((tougthness, RDFS.subPropertyOf, RDFS.label))\n",
    "g.add((name, RDFS.subPropertyOf, RDFS.label))"
   ]
  },
  {
   "cell_type": "markdown",
   "metadata": {
    "id": "T-m1UvBs2K6E"
   },
   "source": [
    "Ingresando los nombres literales de las propiedades y sub-propiedades"
   ]
  },
  {
   "cell_type": "code",
   "execution_count": 27,
   "metadata": {
    "ExecuteTime": {
     "end_time": "2019-10-13T01:10:42.902109Z",
     "start_time": "2019-10-13T01:10:42.888147Z"
    },
    "id": "040WoEJvBSeY"
   },
   "outputs": [],
   "source": [
    "# Names\n",
    "\n",
    "g.add((n.object, name, Literal('Object')))\n",
    "g.add((n.sorcery, name, Literal('Sorcery')))\n",
    "g.add((n.enchantment, name, Literal('Enchantment')))\n",
    "g.add((n.creature, name, Literal('Creature')))\n",
    "g.add((n.instant, name, Literal('Instant')))\n",
    "g.add((n.artifact, name, Literal('Artifact')))\n",
    "g.add((n.nonBasicLand, name, Literal('Non Basic Land')))\n",
    "g.add((n.basicLand, name, Literal('Basic Land')))\n",
    "g.add((n.aura, name, Literal('Aura')))\n",
    "g.add((n.equipment, name, Literal('Equipment')))\n",
    "g.add((n.spell, name, Literal('Spell')))\n",
    "g.add((n.elf, name, Literal('Elf')))\n",
    "g.add((n.angel, name, Literal('Angel')))\n",
    "g.add((n.avatar, name, Literal('Avatar')))\n",
    "g.add((n.artificer, name, Literal('Artificer')))\n",
    "g.add((n.skeleton, name, Literal('Skeleton')))\n",
    "g.add((n.human, name, Literal('Human')))\n",
    "g.add((n.land, name, Literal('Land')))\n",
    "g.add((n.cleric, name, Literal('Cleric')))\n",
    "g.add((n.plant, name, Literal('Plant')))\n",
    "g.add((forest, name, Literal('Forest')))\n",
    "g.add((plains, name, Literal('Plains')))\n",
    "g.add((swamp, name, Literal('Swamp')))\n",
    "g.add((mountain, name, Literal('Mountain')))\n",
    "g.add((island, name, Literal('Islands')))\n",
    "g.add((cavesOfKoilos, name, Literal('Caves of Koilos')))\n",
    "g.add((adarkarWastes, name, Literal('Adarkar Wastes')))\n",
    "g.add((n.thrull, name, Literal('Thrull')))\n",
    "g.add((n.masticore, name, Literal('Masticore')))\n",
    "g.add((n.enchantCreature, name, Literal('Enchant Creature')))\n",
    "g.add((feralAbomination, name, Literal('Feral Abomination')))\n",
    "g.add((faceOfDivinity, name, Literal('Face of Divinity')))"
   ]
  },
  {
   "cell_type": "code",
   "execution_count": 28,
   "metadata": {
    "ExecuteTime": {
     "end_time": "2019-10-13T02:44:59.218743Z",
     "start_time": "2019-10-13T02:44:59.195799Z"
    },
    "colab": {
     "base_uri": "https://localhost:8080/"
    },
    "id": "4shXMhDGBSea",
    "outputId": "47374332-324e-44cb-e061-571549583b06"
   },
   "outputs": [
    {
     "name": "stdout",
     "output_type": "stream",
     "text": [
      "b'<?xml version=\"1.0\" encoding=\"UTF-8\"?><rdf:RDF   xmlns:ns1=\"characteristic/\"   xmlns:rdf=\"http://www.w3.org/1999/02/22-rdf-syntax-ns#\"   xmlns:rdfs=\"http://www.w3.org/2000/01/rdf-schema#\">  <rdf:Description rdf:about=\"https://mtg.gamepedia.com/enchantment\">    <rdfs:subClassOf rdf:resource=\"https://mtg.gamepedia.com/spell\"/>    <ns1:name>Enchantment</ns1:name>  </rdf:Description>  <rdf:Description rdf:about=\"https://mtg.gamepedia.com/artifact\">    <ns1:name>Artifact</ns1:name>    <rdfs:subClassOf rdf:resource=\"https://mtg.gamepedia.com/spell\"/>  </rdf:Description>  <rdf:Description rdf:about=\"https://gatherer.wizards.com/Pages/Card/Details.aspx?multiverseid=260766\">    <ns1:name>Avatar of Fury</ns1:name>    <ns1:color>Red</ns1:color>    <ns1:tougthness>6</ns1:tougthness>    <ns1:power>6</ns1:power>    <rdf:type rdf:resource=\"https://mtg.gamepedia.com/avatar\"/>  </rdf:Description>  <rdf:Description rdf:about=\"https://mtg.gamepedia.com/thrull\">    <rdfs:subClassOf rdf:resource=\"https://mtg.gamepedia.com/creature\"/>    <ns1:name>Thrull</ns1:name>  </rdf:Description>  <rdf:Description rdf:about=\"characteristic/power\">    <rdfs:subPropertyOf rdf:resource=\"https://mtg.gamepedia.com/characteristic\"/>    <rdfs:subPropertyOf rdf:resource=\"http://www.w3.org/2000/01/rdf-schema#label\"/>  </rdf:Description>  <rdf:Description rdf:about=\"https://mtg.gamepedia.com/skeleton\">    <ns1:name>Skeleton</ns1:name>    <rdfs:subClassOf rdf:resource=\"https://mtg.gamepedia.com/creature\"/>  </rdf:Description>  <rdf:Description rdf:about=\"https://gatherer.wizards.com/Pages/Card/Details.aspx?multiverseid=150498\">    <ns1:name>Terror</ns1:name>    <rdf:type rdf:resource=\"https://mtg.gamepedia.com/instant\"/>    <ns1:color>Black</ns1:color>  </rdf:Description>  <rdf:Description rdf:about=\"https://gatherer.wizards.com/Pages/Card/Details.aspx?multiverseid=158969\">    <rdf:type rdf:resource=\"https://mtg.gamepedia.com/basicLand\"/>    <ns1:name>Plains</ns1:name>  </rdf:Description>  <rdf:Description rdf:about=\"https://mtg.gamepedia.com/artificer\">    <ns1:name>Artificer</ns1:name>    <rdfs:subClassOf rdf:resource=\"https://mtg.gamepedia.com/creature\"/>  </rdf:Description>  <rdf:Description rdf:about=\"https://mtg.gamepedia.com/elf\">    <ns1:name>Elf</ns1:name>    <rdfs:subClassOf rdf:resource=\"https://mtg.gamepedia.com/creature\"/>  </rdf:Description>  <rdf:Description rdf:about=\"https://gatherer.wizards.com/Pages/Card/Details.aspx?multiverseid=265091\">    <ns1:name>World Slayer</ns1:name>    <rdf:type rdf:resource=\"https://mtg.gamepedia.com/equipment\"/>  </rdf:Description>  <rdf:Description rdf:about=\"https://gatherer.wizards.com/Pages/Card/Details.aspx?multiverseid=391664\">    <ns1:color>Green</ns1:color>    <ns1:name>Priest of Titania</ns1:name>    <rdf:type rdf:resource=\"https://mtg.gamepedia.com/elf\"/>    <ns1:power>1</ns1:power>    <ns1:tougthness>1</ns1:tougthness>  </rdf:Description>  <rdf:Description rdf:about=\"https://mtg.gamepedia.com/avatar\">    <ns1:name>Avatar</ns1:name>    <rdfs:subClassOf rdf:resource=\"https://mtg.gamepedia.com/creature\"/>  </rdf:Description>  <rdf:Description rdf:about=\"https://gatherer.wizards.com/Pages/Card/Details.aspx?multiverseid=464573\">    <rdf:type rdf:resource=\"https://mtg.gamepedia.com/cleric\"/>    <rdf:type rdf:resource=\"https://mtg.gamepedia.com/human\"/>    <ns1:tougthness>4</ns1:tougthness>    <ns1:color>Black</ns1:color>    <ns1:name>Yawgmoth, Thran Physician</ns1:name>    <ns1:power>2</ns1:power>  </rdf:Description>  <rdf:Description rdf:about=\"https://gatherer.wizards.com/Pages/Card/Details.aspx?multiverseid=464482\">    <ns1:power>1</ns1:power>    <ns1:name>Segovian Angel</ns1:name>    <ns1:tougthness>1</ns1:tougthness>    <rdf:type rdf:resource=\"https://mtg.gamepedia.com/angel\"/>    <ns1:color>White</ns1:color>  </rdf:Description>  <rdf:Description rdf:about=\"https://gatherer.wizards.com/Pages/Card/Details.aspx?multiverseid=150663\">    <rdf:type rdf:resource=\"https://mtg.gamepedia.com/nonBasicLand\"/>    <ns1:name>Adarkar Wastes</ns1:name>  </rdf:Description>  <rdf:Description rdf:about=\"characteristic/color\">    <rdfs:subPropertyOf rdf:resource=\"http://www.w3.org/2000/01/rdf-schema#label\"/>    <rdfs:subPropertyOf rdf:resource=\"https://mtg.gamepedia.com/characteristic\"/>  </rdf:Description>  <rdf:Description rdf:about=\"https://gatherer.wizards.com/Pages/Card/Details.aspx?multiverseid=370232\">    <rdf:type rdf:resource=\"https://mtg.gamepedia.com/plant\"/>    <ns1:power>4</ns1:power>    <rdf:type rdf:resource=\"https://mtg.gamepedia.com/skeleton\"/>    <ns1:tougthness>1</ns1:tougthness>    <ns1:color>Green</ns1:color>    <ns1:color>Black</ns1:color>    <ns1:name>Rot Farm Skeleton</ns1:name>  </rdf:Description>  <rdf:Description rdf:about=\"https://mtg.gamepedia.com/creature\">    <rdfs:subClassOf rdf:resource=\"https://mtg.gamepedia.com/spell\"/>    <ns1:name>Creature</ns1:name>  </rdf:Description>  <rdf:Description rdf:about=\"https://mtg.gamepedia.com/basicLand\">    <rdfs:subClassOf rdf:resource=\"https://mtg.gamepedia.com/land\"/>    <ns1:name>Basic Land</ns1:name>  </rdf:Description>  <rdf:Description rdf:about=\"https://mtg.gamepedia.com/masticore\">    <ns1:name>Masticore</ns1:name>    <rdfs:subClassOf rdf:resource=\"https://mtg.gamepedia.com/creature\"/>  </rdf:Description>  <rdf:Description rdf:about=\"https://gatherer.wizards.com/Pages/Card/Details.aspx?multiverseid=260729\">    <ns1:color>Black</ns1:color>    <rdf:type rdf:resource=\"https://mtg.gamepedia.com/avatar\"/>    <ns1:name>Avatar of Woe</ns1:name>    <ns1:tougthness>5</ns1:tougthness>    <ns1:power>6</ns1:power>  </rdf:Description>  <rdf:Description rdf:about=\"https://gatherer.wizards.com/Pages/Card/Details.aspx?multiverseid=464024\">    <ns1:power>1</ns1:power>    <ns1:color>Blue</ns1:color>    <ns1:name>Urza, Lord High Artificer</ns1:name>    <ns1:tougthness>4</ns1:tougthness>    <rdf:type rdf:resource=\"https://mtg.gamepedia.com/artificer\"/>    <rdf:type rdf:resource=\"https://mtg.gamepedia.com/human\"/>  </rdf:Description>  <rdf:Description rdf:about=\"https://gatherer.wizards.com/Pages/Card/Details.aspx?multiverseid=443459\">    <ns1:tougthness>4</ns1:tougthness>    <ns1:power>4</ns1:power>    <ns1:name>Serra Angel</ns1:name>    <ns1:color>White</ns1:color>    <rdf:type rdf:resource=\"https://mtg.gamepedia.com/angel\"/>  </rdf:Description>  <rdf:Description rdf:about=\"https://gatherer.wizards.com/Pages/Card/Details.aspx?multiverseid=466855\">    <ns1:color>Black</ns1:color>    <ns1:name>Feral Abomination</ns1:name>    <rdf:type rdf:resource=\"https://mtg.gamepedia.com/thrull\"/>    <ns1:tougthness>5</ns1:tougthness>    <ns1:power>5</ns1:power>  </rdf:Description>  <rdf:Description rdf:about=\"characteristic/enchantCreature\">    <rdfs:domain rdf:resource=\"https://mtg.gamepedia.com/aura\"/>    <rdfs:range rdf:resource=\"https://mtg.gamepedia.com/creature\"/>    <rdfs:subPropertyOf rdf:resource=\"https://mtg.gamepedia.com/characteristic\"/>  </rdf:Description>  <rdf:Description rdf:about=\"characteristic/equip\">    <rdfs:domain rdf:resource=\"https://mtg.gamepedia.com/equipment\"/>    <rdfs:subPropertyOf rdf:resource=\"https://mtg.gamepedia.com/characteristic\"/>    <rdfs:range rdf:resource=\"https://mtg.gamepedia.com/creature\"/>  </rdf:Description>  <rdf:Description rdf:about=\"https://gatherer.wizards.com/Pages/Card/Details.aspx?multiverseid=464465\">    <rdf:type rdf:resource=\"https://mtg.gamepedia.com/aura\"/>    <ns1:color>White</ns1:color>    <ns1:name>Face of Divinity</ns1:name>  </rdf:Description>  <rdf:Description rdf:about=\"https://gatherer.wizards.com/pages/card/details.aspx?multiverseid=202437\">    <rdf:type rdf:resource=\"https://mtg.gamepedia.com/instant\"/>    <ns1:name>Counterspell</ns1:name>    <ns1:color>Blue</ns1:color>  </rdf:Description>  <rdf:Description rdf:about=\"https://gatherer.wizards.com/Pages/Card/Details.aspx?multiverseid=473758\">    <ns1:name>Swamp</ns1:name>    <rdf:type rdf:resource=\"https://mtg.gamepedia.com/basicLand\"/>  </rdf:Description>  <rdf:Description rdf:about=\"https://mtg.gamepedia.com/human\">    <ns1:name>Human</ns1:name>    <rdfs:subClassOf rdf:resource=\"https://mtg.gamepedia.com/creature\"/>  </rdf:Description>  <rdf:Description rdf:about=\"https://gatherer.wizards.com/Pages/Card/Details.aspx?multiverseid=473762\">    <ns1:name>Mountain</ns1:name>    <rdf:type rdf:resource=\"https://mtg.gamepedia.com/basicLand\"/>  </rdf:Description>  <rdf:Description rdf:about=\"https://gatherer.wizards.com/Pages/Card/Details.aspx?multiverseid=464682\">    <ns1:name>Lesser Masticore</ns1:name>    <rdf:type rdf:resource=\"https://mtg.gamepedia.com/creature\"/>    <rdf:type rdf:resource=\"https://mtg.gamepedia.com/masticore\"/>    <ns1:power>2</ns1:power>    <rdf:type rdf:resource=\"https://mtg.gamepedia.com/artifact\"/>    <ns1:tougthness>2</ns1:tougthness>  </rdf:Description>  <rdf:Description rdf:about=\"https://mtg.gamepedia.com/cleric\">    <rdfs:subClassOf rdf:resource=\"https://mtg.gamepedia.com/creature\"/>    <ns1:name>Cleric</ns1:name>  </rdf:Description>  <rdf:Description rdf:about=\"https://gatherer.wizards.com/Pages/Card/Details.aspx?multiverseid=87129\">    <rdf:type rdf:resource=\"https://mtg.gamepedia.com/basicLand\"/>    <ns1:name>Islands</ns1:name>  </rdf:Description>  <rdf:Description rdf:about=\"https://gatherer.wizards.com/Pages/Card/Details.aspx?multiverseid=378372\">    <ns1:name>Wrath of God</ns1:name>    <rdf:type rdf:resource=\"https://mtg.gamepedia.com/sorcery\"/>    <ns1:color>White</ns1:color>  </rdf:Description>  <rdf:Description rdf:about=\"https://mtg.gamepedia.com/spell\">    <rdfs:subClassOf rdf:resource=\"https://mtg.gamepedia.com/object\"/>    <ns1:name>Spell</ns1:name>  </rdf:Description>  <rdf:Description rdf:about=\"https://gatherer.wizards.com/Pages/Card/Details.aspx?multiverseid=423359\">    <rdf:type rdf:resource=\"https://mtg.gamepedia.com/nonBasicLand\"/>    <ns1:name>Caves of Koilos</ns1:name>  </rdf:Description>  <rdf:Description rdf:about=\"characteristic/tougthness\">    <rdfs:subPropertyOf rdf:resource=\"http://www.w3.org/2000/01/rdf-schema#label\"/>    <rdfs:subPropertyOf rdf:resource=\"https://mtg.gamepedia.com/characteristic\"/>  </rdf:Description>  <rdf:Description rdf:about=\"https://mtg.gamepedia.com/instant\">    <ns1:name>Instant</ns1:name>    <rdfs:subClassOf rdf:resource=\"https://mtg.gamepedia.com/spell\"/>  </rdf:Description>  <rdf:Description rdf:about=\"https://mtg.gamepedia.com/sorcery\">    <ns1:name>Sorcery</ns1:name>    <rdfs:subClassOf rdf:resource=\"https://mtg.gamepedia.com/spell\"/>  </rdf:Description>  <rdf:Description rdf:about=\"https://mtg.gamepedia.com/aura\">    <ns1:name>Aura</ns1:name>    <rdfs:subClassOf rdf:resource=\"https://mtg.gamepedia.com/enchantment\"/>  </rdf:Description>  <rdf:Description rdf:about=\"https://mtg.gamepedia.com/angel\">    <rdfs:subClassOf rdf:resource=\"https://mtg.gamepedia.com/creature\"/>    <ns1:name>Angel</ns1:name>  </rdf:Description>  <rdf:Description rdf:about=\"https://gatherer.wizards.com/Pages/Card/Details.aspx?multiverseid=165565\">    <rdf:type rdf:resource=\"https://mtg.gamepedia.com/artifact\"/>    <ns1:name>Star Compass</ns1:name>  </rdf:Description>  <rdf:Description rdf:about=\"https://gatherer.wizards.com/Pages/Card/Details.aspx?multiverseid=12944\">    <ns1:color>Black</ns1:color>    <ns1:name>Engineered Plague</ns1:name>    <rdf:type rdf:resource=\"https://mtg.gamepedia.com/enchantment\"/>  </rdf:Description>  <rdf:Description rdf:about=\"https://mtg.gamepedia.com/nonBasicLand\">    <ns1:name>Non Basic Land</ns1:name>    <rdfs:subClassOf rdf:resource=\"https://mtg.gamepedia.com/land\"/>  </rdf:Description>  <rdf:Description rdf:about=\"https://mtg.gamepedia.com/object\">    <ns1:name>Object</ns1:name>  </rdf:Description>  <rdf:Description rdf:about=\"https://mtg.gamepedia.com/plant\">    <rdfs:subClassOf rdf:resource=\"https://mtg.gamepedia.com/creature\"/>    <ns1:name>Plant</ns1:name>  </rdf:Description>  <rdf:Description rdf:about=\"https://gatherer.wizards.com/Pages/Card/Details.aspx?multiverseid=473766\">    <rdf:type rdf:resource=\"https://mtg.gamepedia.com/basicLand\"/>    <ns1:name>Forest</ns1:name>  </rdf:Description>  <rdf:Description rdf:about=\"https://mtg.gamepedia.com/enchantCreature\">    <ns1:name>Enchant Creature</ns1:name>  </rdf:Description>  <rdf:Description rdf:about=\"https://mtg.gamepedia.com/land\">    <ns1:name>Land</ns1:name>    <rdfs:subClassOf rdf:resource=\"https://mtg.gamepedia.com/object\"/>  </rdf:Description>  <rdf:Description rdf:about=\"https://mtg.gamepedia.com/equipment\">    <ns1:name>Equipment</ns1:name>    <rdfs:subClassOf rdf:resource=\"https://mtg.gamepedia.com/artifact\"/>  </rdf:Description>  <rdf:Description rdf:about=\"https://gatherer.wizards.com/Pages/Card/Details.aspx?multiverseid=22318\">    <rdf:type rdf:resource=\"https://mtg.gamepedia.com/artifact\"/>    <ns1:name>Kill Switch</ns1:name>  </rdf:Description>  <rdf:Description rdf:about=\"characteristic/name\">    <rdfs:subPropertyOf rdf:resource=\"https://mtg.gamepedia.com/characteristic\"/>    <rdfs:subPropertyOf rdf:resource=\"http://www.w3.org/2000/01/rdf-schema#label\"/>  </rdf:Description></rdf:RDF>'\n"
     ]
    }
   ],
   "source": [
    "print(str(g.serialize(format='xml')).replace('\\\\n', ''))"
   ]
  },
  {
   "cell_type": "code",
   "execution_count": 29,
   "metadata": {
    "colab": {
     "base_uri": "https://localhost:8080/"
    },
    "id": "rNqc6ltnQvw6",
    "outputId": "ec55b392-0420-4965-bf55-fdb441a175d4"
   },
   "outputs": [
    {
     "name": "stdout",
     "output_type": "stream",
     "text": [
      "<?xml version=\"1.0\" encoding=\"UTF-8\"?>\n",
      "<rdf:RDF\n",
      "   xmlns:ns1=\"characteristic/\"\n",
      "   xmlns:rdf=\"http://www.w3.org/1999/02/22-rdf-syntax-ns#\"\n",
      "   xmlns:rdfs=\"http://www.w3.org/2000/01/rdf-schema#\"\n",
      ">\n",
      "  <rdf:Description rdf:about=\"https://mtg.gamepedia.com/enchantment\">\n",
      "    <rdfs:subClassOf rdf:resource=\"https://mtg.gamepedia.com/spell\"/>\n",
      "    <ns1:name>Enchantment</ns1:name>\n",
      "  </rdf:Description>\n",
      "  <rdf:Description rdf:about=\"https://mtg.gamepedia.com/artifact\">\n",
      "    <ns1:name>Artifact</ns1:name>\n",
      "    <rdfs:subClassOf rdf:resource=\"https://mtg.gamepedia.com/spell\"/>\n",
      "  </rdf:Description>\n",
      "  <rdf:Description rdf:about=\"https://gatherer.wizards.com/Pages/Card/Details.aspx?multiverseid=260766\">\n",
      "    <ns1:name>Avatar of Fury</ns1:name>\n",
      "    <ns1:color>Red</ns1:color>\n",
      "    <ns1:tougthness>6</ns1:tougthness>\n",
      "    <ns1:power>6</ns1:power>\n",
      "    <rdf:type rdf:resource=\"https://mtg.gamepedia.com/avatar\"/>\n",
      "  </rdf:Description>\n",
      "  <rdf:Description rdf:about=\"https://mtg.gamepedia.com/thrull\">\n",
      "    <rdfs:subClassOf rdf:resource=\"https://mtg.gamepedia.com/creature\"/>\n",
      "    <ns1:name>Thrull</ns1:name>\n",
      "  </rdf:Description>\n",
      "  <rdf:Description rdf:about=\"characteristic/power\">\n",
      "    <rdfs:subPropertyOf rdf:resource=\"https://mtg.gamepedia.com/characteristic\"/>\n",
      "    <rdfs:subPropertyOf rdf:resource=\"http://www.w3.org/2000/01/rdf-schema#label\"/>\n",
      "  </rdf:Description>\n",
      "  <rdf:Description rdf:about=\"https://mtg.gamepedia.com/skeleton\">\n",
      "    <ns1:name>Skeleton</ns1:name>\n",
      "    <rdfs:subClassOf rdf:resource=\"https://mtg.gamepedia.com/creature\"/>\n",
      "  </rdf:Description>\n",
      "  <rdf:Description rdf:about=\"https://gatherer.wizards.com/Pages/Card/Details.aspx?multiverseid=150498\">\n",
      "    <ns1:name>Terror</ns1:name>\n",
      "    <rdf:type rdf:resource=\"https://mtg.gamepedia.com/instant\"/>\n",
      "    <ns1:color>Black</ns1:color>\n",
      "  </rdf:Description>\n",
      "  <rdf:Description rdf:about=\"https://gatherer.wizards.com/Pages/Card/Details.aspx?multiverseid=158969\">\n",
      "    <rdf:type rdf:resource=\"https://mtg.gamepedia.com/basicLand\"/>\n",
      "    <ns1:name>Plains</ns1:name>\n",
      "  </rdf:Description>\n",
      "  <rdf:Description rdf:about=\"https://mtg.gamepedia.com/artificer\">\n",
      "    <ns1:name>Artificer</ns1:name>\n",
      "    <rdfs:subClassOf rdf:resource=\"https://mtg.gamepedia.com/creature\"/>\n",
      "  </rdf:Description>\n",
      "  <rdf:Description rdf:about=\"https://mtg.gamepedia.com/elf\">\n",
      "    <ns1:name>Elf</ns1:name>\n",
      "    <rdfs:subClassOf rdf:resource=\"https://mtg.gamepedia.com/creature\"/>\n",
      "  </rdf:Description>\n",
      "  <rdf:Description rdf:about=\"https://gatherer.wizards.com/Pages/Card/Details.aspx?multiverseid=265091\">\n",
      "    <ns1:name>World Slayer</ns1:name>\n",
      "    <rdf:type rdf:resource=\"https://mtg.gamepedia.com/equipment\"/>\n",
      "  </rdf:Description>\n",
      "  <rdf:Description rdf:about=\"https://gatherer.wizards.com/Pages/Card/Details.aspx?multiverseid=391664\">\n",
      "    <ns1:color>Green</ns1:color>\n",
      "    <ns1:name>Priest of Titania</ns1:name>\n",
      "    <rdf:type rdf:resource=\"https://mtg.gamepedia.com/elf\"/>\n",
      "    <ns1:power>1</ns1:power>\n",
      "    <ns1:tougthness>1</ns1:tougthness>\n",
      "  </rdf:Description>\n",
      "  <rdf:Description rdf:about=\"https://mtg.gamepedia.com/avatar\">\n",
      "    <ns1:name>Avatar</ns1:name>\n",
      "    <rdfs:subClassOf rdf:resource=\"https://mtg.gamepedia.com/creature\"/>\n",
      "  </rdf:Description>\n",
      "  <rdf:Description rdf:about=\"https://gatherer.wizards.com/Pages/Card/Details.aspx?multiverseid=464573\">\n",
      "    <rdf:type rdf:resource=\"https://mtg.gamepedia.com/cleric\"/>\n",
      "    <rdf:type rdf:resource=\"https://mtg.gamepedia.com/human\"/>\n",
      "    <ns1:tougthness>4</ns1:tougthness>\n",
      "    <ns1:color>Black</ns1:color>\n",
      "    <ns1:name>Yawgmoth, Thran Physician</ns1:name>\n",
      "    <ns1:power>2</ns1:power>\n",
      "  </rdf:Description>\n",
      "  <rdf:Description rdf:about=\"https://gatherer.wizards.com/Pages/Card/Details.aspx?multiverseid=464482\">\n",
      "    <ns1:power>1</ns1:power>\n",
      "    <ns1:name>Segovian Angel</ns1:name>\n",
      "    <ns1:tougthness>1</ns1:tougthness>\n",
      "    <rdf:type rdf:resource=\"https://mtg.gamepedia.com/angel\"/>\n",
      "    <ns1:color>White</ns1:color>\n",
      "  </rdf:Description>\n",
      "  <rdf:Description rdf:about=\"https://gatherer.wizards.com/Pages/Card/Details.aspx?multiverseid=150663\">\n",
      "    <rdf:type rdf:resource=\"https://mtg.gamepedia.com/nonBasicLand\"/>\n",
      "    <ns1:name>Adarkar Wastes</ns1:name>\n",
      "  </rdf:Description>\n",
      "  <rdf:Description rdf:about=\"characteristic/color\">\n",
      "    <rdfs:subPropertyOf rdf:resource=\"http://www.w3.org/2000/01/rdf-schema#label\"/>\n",
      "    <rdfs:subPropertyOf rdf:resource=\"https://mtg.gamepedia.com/characteristic\"/>\n",
      "  </rdf:Description>\n",
      "  <rdf:Description rdf:about=\"https://gatherer.wizards.com/Pages/Card/Details.aspx?multiverseid=370232\">\n",
      "    <rdf:type rdf:resource=\"https://mtg.gamepedia.com/plant\"/>\n",
      "    <ns1:power>4</ns1:power>\n",
      "    <rdf:type rdf:resource=\"https://mtg.gamepedia.com/skeleton\"/>\n",
      "    <ns1:tougthness>1</ns1:tougthness>\n",
      "    <ns1:color>Green</ns1:color>\n",
      "    <ns1:color>Black</ns1:color>\n",
      "    <ns1:name>Rot Farm Skeleton</ns1:name>\n",
      "  </rdf:Description>\n",
      "  <rdf:Description rdf:about=\"https://mtg.gamepedia.com/creature\">\n",
      "    <rdfs:subClassOf rdf:resource=\"https://mtg.gamepedia.com/spell\"/>\n",
      "    <ns1:name>Creature</ns1:name>\n",
      "  </rdf:Description>\n",
      "  <rdf:Description rdf:about=\"https://mtg.gamepedia.com/basicLand\">\n",
      "    <rdfs:subClassOf rdf:resource=\"https://mtg.gamepedia.com/land\"/>\n",
      "    <ns1:name>Basic Land</ns1:name>\n",
      "  </rdf:Description>\n",
      "  <rdf:Description rdf:about=\"https://mtg.gamepedia.com/masticore\">\n",
      "    <ns1:name>Masticore</ns1:name>\n",
      "    <rdfs:subClassOf rdf:resource=\"https://mtg.gamepedia.com/creature\"/>\n",
      "  </rdf:Description>\n",
      "  <rdf:Description rdf:about=\"https://gatherer.wizards.com/Pages/Card/Details.aspx?multiverseid=260729\">\n",
      "    <ns1:color>Black</ns1:color>\n",
      "    <rdf:type rdf:resource=\"https://mtg.gamepedia.com/avatar\"/>\n",
      "    <ns1:name>Avatar of Woe</ns1:name>\n",
      "    <ns1:tougthness>5</ns1:tougthness>\n",
      "    <ns1:power>6</ns1:power>\n",
      "  </rdf:Description>\n",
      "  <rdf:Description rdf:about=\"https://gatherer.wizards.com/Pages/Card/Details.aspx?multiverseid=464024\">\n",
      "    <ns1:power>1</ns1:power>\n",
      "    <ns1:color>Blue</ns1:color>\n",
      "    <ns1:name>Urza, Lord High Artificer</ns1:name>\n",
      "    <ns1:tougthness>4</ns1:tougthness>\n",
      "    <rdf:type rdf:resource=\"https://mtg.gamepedia.com/artificer\"/>\n",
      "    <rdf:type rdf:resource=\"https://mtg.gamepedia.com/human\"/>\n",
      "  </rdf:Description>\n",
      "  <rdf:Description rdf:about=\"https://gatherer.wizards.com/Pages/Card/Details.aspx?multiverseid=443459\">\n",
      "    <ns1:tougthness>4</ns1:tougthness>\n",
      "    <ns1:power>4</ns1:power>\n",
      "    <ns1:name>Serra Angel</ns1:name>\n",
      "    <ns1:color>White</ns1:color>\n",
      "    <rdf:type rdf:resource=\"https://mtg.gamepedia.com/angel\"/>\n",
      "  </rdf:Description>\n",
      "  <rdf:Description rdf:about=\"https://gatherer.wizards.com/Pages/Card/Details.aspx?multiverseid=466855\">\n",
      "    <ns1:color>Black</ns1:color>\n",
      "    <ns1:name>Feral Abomination</ns1:name>\n",
      "    <rdf:type rdf:resource=\"https://mtg.gamepedia.com/thrull\"/>\n",
      "    <ns1:tougthness>5</ns1:tougthness>\n",
      "    <ns1:power>5</ns1:power>\n",
      "  </rdf:Description>\n",
      "  <rdf:Description rdf:about=\"characteristic/enchantCreature\">\n",
      "    <rdfs:domain rdf:resource=\"https://mtg.gamepedia.com/aura\"/>\n",
      "    <rdfs:range rdf:resource=\"https://mtg.gamepedia.com/creature\"/>\n",
      "    <rdfs:subPropertyOf rdf:resource=\"https://mtg.gamepedia.com/characteristic\"/>\n",
      "  </rdf:Description>\n",
      "  <rdf:Description rdf:about=\"characteristic/equip\">\n",
      "    <rdfs:domain rdf:resource=\"https://mtg.gamepedia.com/equipment\"/>\n",
      "    <rdfs:subPropertyOf rdf:resource=\"https://mtg.gamepedia.com/characteristic\"/>\n",
      "    <rdfs:range rdf:resource=\"https://mtg.gamepedia.com/creature\"/>\n",
      "  </rdf:Description>\n",
      "  <rdf:Description rdf:about=\"https://gatherer.wizards.com/Pages/Card/Details.aspx?multiverseid=464465\">\n",
      "    <rdf:type rdf:resource=\"https://mtg.gamepedia.com/aura\"/>\n",
      "    <ns1:color>White</ns1:color>\n",
      "    <ns1:name>Face of Divinity</ns1:name>\n",
      "  </rdf:Description>\n",
      "  <rdf:Description rdf:about=\"https://gatherer.wizards.com/pages/card/details.aspx?multiverseid=202437\">\n",
      "    <rdf:type rdf:resource=\"https://mtg.gamepedia.com/instant\"/>\n",
      "    <ns1:name>Counterspell</ns1:name>\n",
      "    <ns1:color>Blue</ns1:color>\n",
      "  </rdf:Description>\n",
      "  <rdf:Description rdf:about=\"https://gatherer.wizards.com/Pages/Card/Details.aspx?multiverseid=473758\">\n",
      "    <ns1:name>Swamp</ns1:name>\n",
      "    <rdf:type rdf:resource=\"https://mtg.gamepedia.com/basicLand\"/>\n",
      "  </rdf:Description>\n",
      "  <rdf:Description rdf:about=\"https://mtg.gamepedia.com/human\">\n",
      "    <ns1:name>Human</ns1:name>\n",
      "    <rdfs:subClassOf rdf:resource=\"https://mtg.gamepedia.com/creature\"/>\n",
      "  </rdf:Description>\n",
      "  <rdf:Description rdf:about=\"https://gatherer.wizards.com/Pages/Card/Details.aspx?multiverseid=473762\">\n",
      "    <ns1:name>Mountain</ns1:name>\n",
      "    <rdf:type rdf:resource=\"https://mtg.gamepedia.com/basicLand\"/>\n",
      "  </rdf:Description>\n",
      "  <rdf:Description rdf:about=\"https://gatherer.wizards.com/Pages/Card/Details.aspx?multiverseid=464682\">\n",
      "    <ns1:name>Lesser Masticore</ns1:name>\n",
      "    <rdf:type rdf:resource=\"https://mtg.gamepedia.com/creature\"/>\n",
      "    <rdf:type rdf:resource=\"https://mtg.gamepedia.com/masticore\"/>\n",
      "    <ns1:power>2</ns1:power>\n",
      "    <rdf:type rdf:resource=\"https://mtg.gamepedia.com/artifact\"/>\n",
      "    <ns1:tougthness>2</ns1:tougthness>\n",
      "  </rdf:Description>\n",
      "  <rdf:Description rdf:about=\"https://mtg.gamepedia.com/cleric\">\n",
      "    <rdfs:subClassOf rdf:resource=\"https://mtg.gamepedia.com/creature\"/>\n",
      "    <ns1:name>Cleric</ns1:name>\n",
      "  </rdf:Description>\n",
      "  <rdf:Description rdf:about=\"https://gatherer.wizards.com/Pages/Card/Details.aspx?multiverseid=87129\">\n",
      "    <rdf:type rdf:resource=\"https://mtg.gamepedia.com/basicLand\"/>\n",
      "    <ns1:name>Islands</ns1:name>\n",
      "  </rdf:Description>\n",
      "  <rdf:Description rdf:about=\"https://gatherer.wizards.com/Pages/Card/Details.aspx?multiverseid=378372\">\n",
      "    <ns1:name>Wrath of God</ns1:name>\n",
      "    <rdf:type rdf:resource=\"https://mtg.gamepedia.com/sorcery\"/>\n",
      "    <ns1:color>White</ns1:color>\n",
      "  </rdf:Description>\n",
      "  <rdf:Description rdf:about=\"https://mtg.gamepedia.com/spell\">\n",
      "    <rdfs:subClassOf rdf:resource=\"https://mtg.gamepedia.com/object\"/>\n",
      "    <ns1:name>Spell</ns1:name>\n",
      "  </rdf:Description>\n",
      "  <rdf:Description rdf:about=\"https://gatherer.wizards.com/Pages/Card/Details.aspx?multiverseid=423359\">\n",
      "    <rdf:type rdf:resource=\"https://mtg.gamepedia.com/nonBasicLand\"/>\n",
      "    <ns1:name>Caves of Koilos</ns1:name>\n",
      "  </rdf:Description>\n",
      "  <rdf:Description rdf:about=\"characteristic/tougthness\">\n",
      "    <rdfs:subPropertyOf rdf:resource=\"http://www.w3.org/2000/01/rdf-schema#label\"/>\n",
      "    <rdfs:subPropertyOf rdf:resource=\"https://mtg.gamepedia.com/characteristic\"/>\n",
      "  </rdf:Description>\n",
      "  <rdf:Description rdf:about=\"https://mtg.gamepedia.com/instant\">\n",
      "    <ns1:name>Instant</ns1:name>\n",
      "    <rdfs:subClassOf rdf:resource=\"https://mtg.gamepedia.com/spell\"/>\n",
      "  </rdf:Description>\n",
      "  <rdf:Description rdf:about=\"https://mtg.gamepedia.com/sorcery\">\n",
      "    <ns1:name>Sorcery</ns1:name>\n",
      "    <rdfs:subClassOf rdf:resource=\"https://mtg.gamepedia.com/spell\"/>\n",
      "  </rdf:Description>\n",
      "  <rdf:Description rdf:about=\"https://mtg.gamepedia.com/aura\">\n",
      "    <ns1:name>Aura</ns1:name>\n",
      "    <rdfs:subClassOf rdf:resource=\"https://mtg.gamepedia.com/enchantment\"/>\n",
      "  </rdf:Description>\n",
      "  <rdf:Description rdf:about=\"https://mtg.gamepedia.com/angel\">\n",
      "    <rdfs:subClassOf rdf:resource=\"https://mtg.gamepedia.com/creature\"/>\n",
      "    <ns1:name>Angel</ns1:name>\n",
      "  </rdf:Description>\n",
      "  <rdf:Description rdf:about=\"https://gatherer.wizards.com/Pages/Card/Details.aspx?multiverseid=165565\">\n",
      "    <rdf:type rdf:resource=\"https://mtg.gamepedia.com/artifact\"/>\n",
      "    <ns1:name>Star Compass</ns1:name>\n",
      "  </rdf:Description>\n",
      "  <rdf:Description rdf:about=\"https://gatherer.wizards.com/Pages/Card/Details.aspx?multiverseid=12944\">\n",
      "    <ns1:color>Black</ns1:color>\n",
      "    <ns1:name>Engineered Plague</ns1:name>\n",
      "    <rdf:type rdf:resource=\"https://mtg.gamepedia.com/enchantment\"/>\n",
      "  </rdf:Description>\n",
      "  <rdf:Description rdf:about=\"https://mtg.gamepedia.com/nonBasicLand\">\n",
      "    <ns1:name>Non Basic Land</ns1:name>\n",
      "    <rdfs:subClassOf rdf:resource=\"https://mtg.gamepedia.com/land\"/>\n",
      "  </rdf:Description>\n",
      "  <rdf:Description rdf:about=\"https://mtg.gamepedia.com/object\">\n",
      "    <ns1:name>Object</ns1:name>\n",
      "  </rdf:Description>\n",
      "  <rdf:Description rdf:about=\"https://mtg.gamepedia.com/plant\">\n",
      "    <rdfs:subClassOf rdf:resource=\"https://mtg.gamepedia.com/creature\"/>\n",
      "    <ns1:name>Plant</ns1:name>\n",
      "  </rdf:Description>\n",
      "  <rdf:Description rdf:about=\"https://gatherer.wizards.com/Pages/Card/Details.aspx?multiverseid=473766\">\n",
      "    <rdf:type rdf:resource=\"https://mtg.gamepedia.com/basicLand\"/>\n",
      "    <ns1:name>Forest</ns1:name>\n",
      "  </rdf:Description>\n",
      "  <rdf:Description rdf:about=\"https://mtg.gamepedia.com/enchantCreature\">\n",
      "    <ns1:name>Enchant Creature</ns1:name>\n",
      "  </rdf:Description>\n",
      "  <rdf:Description rdf:about=\"https://mtg.gamepedia.com/land\">\n",
      "    <ns1:name>Land</ns1:name>\n",
      "    <rdfs:subClassOf rdf:resource=\"https://mtg.gamepedia.com/object\"/>\n",
      "  </rdf:Description>\n",
      "  <rdf:Description rdf:about=\"https://mtg.gamepedia.com/equipment\">\n",
      "    <ns1:name>Equipment</ns1:name>\n",
      "    <rdfs:subClassOf rdf:resource=\"https://mtg.gamepedia.com/artifact\"/>\n",
      "  </rdf:Description>\n",
      "  <rdf:Description rdf:about=\"https://gatherer.wizards.com/Pages/Card/Details.aspx?multiverseid=22318\">\n",
      "    <rdf:type rdf:resource=\"https://mtg.gamepedia.com/artifact\"/>\n",
      "    <ns1:name>Kill Switch</ns1:name>\n",
      "  </rdf:Description>\n",
      "  <rdf:Description rdf:about=\"characteristic/name\">\n",
      "    <rdfs:subPropertyOf rdf:resource=\"https://mtg.gamepedia.com/characteristic\"/>\n",
      "    <rdfs:subPropertyOf rdf:resource=\"http://www.w3.org/2000/01/rdf-schema#label\"/>\n",
      "  </rdf:Description>\n",
      "</rdf:RDF>\n"
     ]
    }
   ],
   "source": [
    "texto = str(g.serialize(format=\"xml\", encoding='utf-8').decode())\n",
    "for line in texto.splitlines():\n",
    "    print(line)"
   ]
  },
  {
   "cell_type": "code",
   "execution_count": 30,
   "metadata": {
    "id": "1oX6fgsq59yk"
   },
   "outputs": [],
   "source": [
    "g.serialize(destination='magic.rdf', format='xml')"
   ]
  },
  {
   "cell_type": "markdown",
   "metadata": {
    "id": "ODadXNwgBSed"
   },
   "source": [
    "# Inferencias"
   ]
  },
  {
   "cell_type": "markdown",
   "metadata": {
    "id": "9JrscuHm3TP7"
   },
   "source": [
    "Primera Inferencia: Encontrar las dependencias (subclases) para la sublcase Masticore"
   ]
  },
  {
   "cell_type": "code",
   "execution_count": 31,
   "metadata": {
    "ExecuteTime": {
     "end_time": "2019-10-13T02:10:56.654693Z",
     "start_time": "2019-10-13T02:10:56.648696Z"
    },
    "colab": {
     "base_uri": "https://localhost:8080/"
    },
    "id": "c7IbPABoBSeg",
    "outputId": "2e19d5b4-d15b-4690-834d-68289b074faa"
   },
   "outputs": [
    {
     "name": "stdout",
     "output_type": "stream",
     "text": [
      "Masticore\n",
      "Creature\n",
      "Spell\n",
      "Object\n"
     ]
    }
   ],
   "source": [
    "for s in g.transitive_objects(n.masticore, RDFS.subClassOf):\n",
    "    print(g.value(s, name))"
   ]
  },
  {
   "cell_type": "code",
   "execution_count": 32,
   "metadata": {
    "id": "jMT09ILSw6cj"
   },
   "outputs": [],
   "source": [
    "def isSubClassOf(subClass, superClass, graph):\n",
    "    if subClass == superClass: return True\n",
    "    for parentClass in graph.objects(subClass, RDFS.subClassOf):\n",
    "        if isSubClassOf(parentClass, superClass, graph): return True\n",
    "        else:return False"
   ]
  },
  {
   "cell_type": "code",
   "execution_count": 33,
   "metadata": {
    "colab": {
     "base_uri": "https://localhost:8080/"
    },
    "id": "GpXIzrhuxAUy",
    "outputId": "6eb37f54-643e-41cf-8a25-9b2d5aab02a3"
   },
   "outputs": [
    {
     "data": {
      "text/plain": [
       "True"
      ]
     },
     "execution_count": 33,
     "metadata": {
      "tags": []
     },
     "output_type": "execute_result"
    }
   ],
   "source": [
    "isSubClassOf(n.artificer, n.creature, g)"
   ]
  },
  {
   "cell_type": "markdown",
   "metadata": {
    "id": "jl8sZN4a3jdr"
   },
   "source": [
    "Segunda Inferencia: Encontrar los tipos asociados a la instancia: urzaArtificer"
   ]
  },
  {
   "cell_type": "code",
   "execution_count": 34,
   "metadata": {
    "colab": {
     "base_uri": "https://localhost:8080/"
    },
    "id": "opG7v-6RBSeo",
    "outputId": "0dbdbe1d-a663-49dd-db23-324d77912adb"
   },
   "outputs": [
    {
     "name": "stdout",
     "output_type": "stream",
     "text": [
      "Urza, Lord High Artificer\n",
      "Artificer\n",
      "Human\n"
     ]
    }
   ],
   "source": [
    "for s in g.transitive_objects(urzaArtificer, RDF.type):\n",
    "  print(g.value(s, name))"
   ]
  },
  {
   "cell_type": "markdown",
   "metadata": {
    "id": "tpi2Lxdh8keI"
   },
   "source": [
    "Tercera Inferencia: Encontrar todas las dependencias Inferiores pertenecientes o derivadas de Spell. \n",
    "Ejemplo: Spell->Artifact->Masticore,"
   ]
  },
  {
   "cell_type": "code",
   "execution_count": 35,
   "metadata": {
    "colab": {
     "base_uri": "https://localhost:8080/"
    },
    "id": "sKV9X_DqxkI_",
    "outputId": "bd484a42-b9af-4a2e-e932-352f683fbcaf"
   },
   "outputs": [
    {
     "name": "stdout",
     "output_type": "stream",
     "text": [
      "Spell\n",
      "Enchantment\n",
      "Aura\n",
      "Creature\n",
      "Angel\n",
      "Artificer\n",
      "Elf\n",
      "Masticore\n",
      "Cleric\n",
      "Avatar\n",
      "Thrull\n",
      "Plant\n",
      "Human\n",
      "Skeleton\n",
      "Instant\n",
      "Sorcery\n",
      "Artifact\n",
      "Equipment\n"
     ]
    }
   ],
   "source": [
    "for s in g.transitive_subjects (RDFS.subClassOf,n.spell):\n",
    "    print(g.value(s, name))"
   ]
  },
  {
   "cell_type": "markdown",
   "metadata": {
    "id": "oBjvO3buHBc_"
   },
   "source": [
    "Cuarta Inferencia: Inferencia de dominio y rango."
   ]
  },
  {
   "cell_type": "code",
   "execution_count": 36,
   "metadata": {
    "ExecuteTime": {
     "end_time": "2019-10-13T02:40:13.811861Z",
     "start_time": "2019-10-13T02:40:13.806872Z"
    },
    "id": "rhvs6VjfBSei"
   },
   "outputs": [],
   "source": [
    "def DR_inference(x,P,y):\n",
    "    for s,p,o in g.triples((x, RDF.type, None)): category_x = o\n",
    "    lstx = [str(g.value(s,name)) for s in g.transitive_objects(category_x, RDFS.subClassOf)]\n",
    "    \n",
    "    for s,p,o in g.triples((y, RDF.type, None)): category_y = o\n",
    "    lsty = [str(g.value(s,name)) for s in g.transitive_objects(category_y, RDFS.subClassOf)]     \n",
    "        \n",
    "    for s,p,o in g.triples((equip, RDFS.domain,  None)): domainP = str(g.value(o,name))\n",
    "    for s,p,o in g.triples((equip, RDFS.range,  None)): rangeP = str(g.value(o,name))\n",
    "    \n",
    "    if (domainP in lstx) & (rangeP in lsty):\n",
    "        lst = [str(g.value(category_x, name)), str(g.value(category_y, name))]\n",
    "    else:\n",
    "        lst = [\"Error: domain or range mismatch\"]\n",
    "    \n",
    "    return lst"
   ]
  },
  {
   "cell_type": "markdown",
   "metadata": {
    "id": "EUDlR2dN3_rU"
   },
   "source": [
    "En este ejemplo en particular, la propiedad \"equip\" tiene como dominio al World Slayer (artefacto) y como rango al Serra Angel (criatura). En el juego, algunos artefactos cuentan con la posibilidad de ser equipados en criaturas. Cuando ocurre eso, las caracteristicas de la criatura afectada cambian."
   ]
  },
  {
   "cell_type": "code",
   "execution_count": 37,
   "metadata": {
    "ExecuteTime": {
     "end_time": "2019-10-13T02:40:15.684435Z",
     "start_time": "2019-10-13T02:40:15.679427Z"
    },
    "colab": {
     "base_uri": "https://localhost:8080/"
    },
    "id": "3Ie_nErABSem",
    "outputId": "e87a5bfa-1231-4514-a37d-6bd6cb0efa5b"
   },
   "outputs": [
    {
     "data": {
      "text/plain": [
       "['Equipment', 'Angel']"
      ]
     },
     "execution_count": 37,
     "metadata": {
      "tags": []
     },
     "output_type": "execute_result"
    }
   ],
   "source": [
    "DR_inference(worldSlayer, equip, serraAngel)"
   ]
  },
  {
   "cell_type": "markdown",
   "metadata": {
    "id": "8i0j6R_hZsx5"
   },
   "source": [
    "Quinta \"Inferencia\". Inferencia del tipo Unión"
   ]
  },
  {
   "cell_type": "code",
   "execution_count": 38,
   "metadata": {
    "id": "cZTPfcKWBSeq"
   },
   "outputs": [],
   "source": [
    "def union_inference(x,y):\n",
    "    lst1 = list()\n",
    "    lst2 = list()\n",
    "\n",
    "    for s,p,o in g.triples((x, RDF.type, None)): cl = o\n",
    "    for s in g.transitive_objects(o, RDFS.subClassOf): lst1.append(s)\n",
    "    for s,p,o in g.triples((y, RDF.type, None)): cl = o\n",
    "    for s in g.transitive_objects(o, RDFS.subClassOf): lst2.append(s)\n",
    "\n",
    "    lst = sorted(set(lst1) & set(lst2), key = lst1.index)    \n",
    "    return str(g.value(lst[0],name)) "
   ]
  },
  {
   "cell_type": "code",
   "execution_count": 39,
   "metadata": {
    "colab": {
     "base_uri": "https://localhost:8080/",
     "height": 35
    },
    "id": "sDA7PIB0AsFc",
    "outputId": "41b3740b-3716-4435-b0c5-505d3018b9c9"
   },
   "outputs": [
    {
     "data": {
      "application/vnd.google.colaboratory.intrinsic+json": {
       "type": "string"
      },
      "text/plain": [
       "'Basic Land'"
      ]
     },
     "execution_count": 39,
     "metadata": {
      "tags": []
     },
     "output_type": "execute_result"
    }
   ],
   "source": [
    "union_inference(forest,plains)"
   ]
  },
  {
   "cell_type": "markdown",
   "metadata": {
    "id": "RkhRMCnpqZhz"
   },
   "source": [
    "Sexta Inferencia: Determinar si la carta priestOfTitania pertenece a la Subclase Creature y si forest pertenece a la Subclase land"
   ]
  },
  {
   "cell_type": "code",
   "execution_count": 40,
   "metadata": {
    "id": "p7MpR6XZr7yb"
   },
   "outputs": [],
   "source": [
    "#Prueba directa sin inferencias, no da respuesta: \n",
    "for s,p,o in g.triples((priestOfTitania,RDFS.subClassOf,n.creature)):\n",
    "    print(s,p,o)"
   ]
  },
  {
   "cell_type": "code",
   "execution_count": 41,
   "metadata": {
    "id": "C4eTwlG2qYPG"
   },
   "outputs": [],
   "source": [
    "def ExisteEnClase(s,p,o):\n",
    "    m=s\n",
    "    for a,b,c in g.triples((s,None,None)):\n",
    "        for e in g.transitive_objects(c, RDF.type):\n",
    "            for f in g.transitive_objects(e,RDFS.subClassOf):\n",
    "                if (f==c):\n",
    "                    return(g.value(s,name),p,g.value(o,name))\n"
   ]
  },
  {
   "cell_type": "code",
   "execution_count": 42,
   "metadata": {
    "colab": {
     "base_uri": "https://localhost:8080/"
    },
    "id": "OcOyZmCmz-bj",
    "outputId": "a2602bdd-460c-4fd6-b77e-9a1a8a12ec6f"
   },
   "outputs": [
    {
     "data": {
      "text/plain": [
       "(rdflib.term.Literal('Priest of Titania'),\n",
       " rdflib.term.URIRef('http://www.w3.org/2000/01/rdf-schema#subClassOf'),\n",
       " rdflib.term.Literal('Creature'))"
      ]
     },
     "execution_count": 42,
     "metadata": {
      "tags": []
     },
     "output_type": "execute_result"
    }
   ],
   "source": [
    "ExisteEnClase(priestOfTitania,RDFS.subClassOf,n.creature)"
   ]
  },
  {
   "cell_type": "code",
   "execution_count": 43,
   "metadata": {
    "colab": {
     "base_uri": "https://localhost:8080/"
    },
    "id": "myLxfh233_Wv",
    "outputId": "b17a0175-17b2-40fb-a0f0-2cd7e124c5c6"
   },
   "outputs": [
    {
     "data": {
      "text/plain": [
       "(rdflib.term.Literal('Forest'),\n",
       " rdflib.term.URIRef('http://www.w3.org/2000/01/rdf-schema#subClassOf'),\n",
       " rdflib.term.Literal('Land'))"
      ]
     },
     "execution_count": 43,
     "metadata": {
      "tags": []
     },
     "output_type": "execute_result"
    }
   ],
   "source": [
    "ExisteEnClase(forest,RDFS.subClassOf,n.land)"
   ]
  },
  {
   "cell_type": "code",
   "execution_count": 44,
   "metadata": {
    "id": "eJWzg5ZtUDSX"
   },
   "outputs": [],
   "source": [
    "#rotFarmSkeleton\n",
    "def isCreature(carta):\n",
    "    for s in g.transitive_subjects (RDFS.subClassOf, n.creature):\n",
    "        if (g.value(s, name)== g.value(carta)): \n",
    "            return True \n",
    "        else: return False"
   ]
  },
  {
   "cell_type": "code",
   "execution_count": 45,
   "metadata": {
    "colab": {
     "base_uri": "https://localhost:8080/"
    },
    "id": "Okd4LAM1alOu",
    "outputId": "7811e5ef-7b30-4b89-9b4d-0a2525c6b92e"
   },
   "outputs": [
    {
     "data": {
      "text/plain": [
       "rdflib.term.URIRef"
      ]
     },
     "execution_count": 45,
     "metadata": {
      "tags": []
     },
     "output_type": "execute_result"
    }
   ],
   "source": [
    "isCreature(serraAngel)\n",
    "type(serraAngel)"
   ]
  },
  {
   "cell_type": "code",
   "execution_count": 46,
   "metadata": {
    "colab": {
     "base_uri": "https://localhost:8080/"
    },
    "id": "3uutleTOgS14",
    "outputId": "389e62c6-4529-4726-bf3b-d5782eae9610"
   },
   "outputs": [
    {
     "name": "stdout",
     "output_type": "stream",
     "text": [
      "https://mtg.gamepedia.com/creature <class 'rdflib.term.URIRef'>\n",
      "https://mtg.gamepedia.com/angel <class 'rdflib.term.URIRef'>\n",
      "https://gatherer.wizards.com/Pages/Card/Details.aspx?multiverseid=443459 <class 'rdflib.term.URIRef'>\n",
      "https://gatherer.wizards.com/Pages/Card/Details.aspx?multiverseid=464482 <class 'rdflib.term.URIRef'>\n",
      "https://mtg.gamepedia.com/artificer <class 'rdflib.term.URIRef'>\n",
      "https://gatherer.wizards.com/Pages/Card/Details.aspx?multiverseid=464024 <class 'rdflib.term.URIRef'>\n",
      "https://mtg.gamepedia.com/elf <class 'rdflib.term.URIRef'>\n",
      "https://gatherer.wizards.com/Pages/Card/Details.aspx?multiverseid=391664 <class 'rdflib.term.URIRef'>\n",
      "https://mtg.gamepedia.com/masticore <class 'rdflib.term.URIRef'>\n",
      "https://gatherer.wizards.com/Pages/Card/Details.aspx?multiverseid=464682 <class 'rdflib.term.URIRef'>\n",
      "https://mtg.gamepedia.com/cleric <class 'rdflib.term.URIRef'>\n",
      "https://gatherer.wizards.com/Pages/Card/Details.aspx?multiverseid=464573 <class 'rdflib.term.URIRef'>\n",
      "https://mtg.gamepedia.com/avatar <class 'rdflib.term.URIRef'>\n",
      "https://gatherer.wizards.com/Pages/Card/Details.aspx?multiverseid=260766 <class 'rdflib.term.URIRef'>\n",
      "https://gatherer.wizards.com/Pages/Card/Details.aspx?multiverseid=260729 <class 'rdflib.term.URIRef'>\n",
      "characteristic/equip <class 'rdflib.term.URIRef'>\n",
      "https://mtg.gamepedia.com/thrull <class 'rdflib.term.URIRef'>\n",
      "https://gatherer.wizards.com/Pages/Card/Details.aspx?multiverseid=466855 <class 'rdflib.term.URIRef'>\n",
      "https://mtg.gamepedia.com/plant <class 'rdflib.term.URIRef'>\n",
      "https://gatherer.wizards.com/Pages/Card/Details.aspx?multiverseid=370232 <class 'rdflib.term.URIRef'>\n",
      "https://mtg.gamepedia.com/human <class 'rdflib.term.URIRef'>\n",
      "characteristic/enchantCreature <class 'rdflib.term.URIRef'>\n",
      "https://mtg.gamepedia.com/skeleton <class 'rdflib.term.URIRef'>\n"
     ]
    }
   ],
   "source": [
    "for s in g.transitive_subjects(None, n.creature):\n",
    "    print(s, type(s))"
   ]
  },
  {
   "cell_type": "markdown",
   "metadata": {
    "id": "3NjATkFQcGDh"
   },
   "source": [
    "Séptima inferencia:"
   ]
  },
  {
   "cell_type": "code",
   "execution_count": 47,
   "metadata": {
    "id": "iX97HPaVeQMa"
   },
   "outputs": [],
   "source": [
    "def combat(x,y):\n",
    "    for s,p,o in g.triples((x, power, None)): \n",
    "        name1 = g.value(s,name)\n",
    "        power1 = o\n",
    "    for s,p,o in g.triples((x, tougthness, None)): \n",
    "        tougthness1 = o\n",
    "    for s,p,o in g.triples((y, power, None)):\n",
    "        name2 = g.value(s,name)\n",
    "        power2 = o\n",
    "    for s,p,o in g.triples((y, tougthness, None)): \n",
    "        tougthness2 = o\n",
    "\n",
    "    if power1 > tougthness2:\n",
    "        print(name2, \"just died\")\n",
    "    if power2 > tougthness1:\n",
    "        print(name1, \"just died\")\n",
    "    if power1 < tougthness2:\n",
    "        print(name2, \"survived\")\n",
    "    if power2 < tougthness1:\n",
    "        print(name1, \"survived\")"
   ]
  },
  {
   "cell_type": "code",
   "execution_count": 49,
   "metadata": {
    "colab": {
     "base_uri": "https://localhost:8080/"
    },
    "id": "XvqL0ZvosBNQ",
    "outputId": "3e36f758-dedb-4ce1-9678-3abe7f5bfc0a"
   },
   "outputs": [
    {
     "name": "stdout",
     "output_type": "stream",
     "text": [
      "Collecting ontospy[HTML]\n",
      "\u001b[?25l  Downloading https://files.pythonhosted.org/packages/b4/99/fae085e15dd328f2b6edec4cfc1ad434a4f96d37f7a79b74591e371d23e7/ontospy-1.9.8.3-py2.py3-none-any.whl (7.6MB)\n",
      "\u001b[K     |████████████████████████████████| 7.6MB 6.1MB/s \n",
      "\u001b[33m  WARNING: ontospy 1.9.8.3 does not provide the extra 'html'\u001b[0m\n",
      "\u001b[?25hCollecting SPARQLWrapper\n",
      "  Downloading https://files.pythonhosted.org/packages/00/9b/443fbe06996c080ee9c1f01b04e2f683b2b07e149905f33a2397ee3b80a2/SPARQLWrapper-1.8.5-py3-none-any.whl\n",
      "Collecting pyfiglet\n",
      "\u001b[?25l  Downloading https://files.pythonhosted.org/packages/33/07/fcfdd7a2872f5b348953de35acce1544dab0c1e8368dca54279b1cde5c15/pyfiglet-0.8.post1-py2.py3-none-any.whl (865kB)\n",
      "\u001b[K     |████████████████████████████████| 870kB 37.6MB/s \n",
      "\u001b[?25hRequirement already satisfied: html5lib in /usr/local/lib/python3.7/dist-packages (from ontospy[HTML]) (1.0.1)\n",
      "Requirement already satisfied: click in /usr/local/lib/python3.7/dist-packages (from ontospy[HTML]) (7.1.2)\n",
      "Collecting colorama\n",
      "  Downloading https://files.pythonhosted.org/packages/44/98/5b86278fbbf250d239ae0ecb724f8572af1c91f4a11edf4d36a206189440/colorama-0.4.4-py2.py3-none-any.whl\n",
      "Requirement already satisfied: pyparsing in /usr/local/lib/python3.7/dist-packages (from ontospy[HTML]) (2.4.7)\n",
      "Collecting keepalive\n",
      "  Downloading https://files.pythonhosted.org/packages/6a/11/8eaf21d74b06cfabd42ca9d2b7b216e071faa416753faeb3322f1863f585/keepalive-0.5.tar.gz\n",
      "Requirement already satisfied: requests in /usr/local/lib/python3.7/dist-packages (from ontospy[HTML]) (2.23.0)\n",
      "Collecting rdflib-jsonld\n",
      "\u001b[?25l  Downloading https://files.pythonhosted.org/packages/f5/17/45e137be0d93b70827fe5529c0400731344a978bc792193d7d9152e6dbe4/rdflib-jsonld-0.5.0.tar.gz (55kB)\n",
      "\u001b[K     |████████████████████████████████| 61kB 6.5MB/s \n",
      "\u001b[?25hRequirement already satisfied: rdflib in /usr/local/lib/python3.7/dist-packages (from ontospy[HTML]) (5.0.0)\n",
      "Requirement already satisfied: webencodings in /usr/local/lib/python3.7/dist-packages (from html5lib->ontospy[HTML]) (0.5.1)\n",
      "Requirement already satisfied: six>=1.9 in /usr/local/lib/python3.7/dist-packages (from html5lib->ontospy[HTML]) (1.15.0)\n",
      "Requirement already satisfied: chardet<4,>=3.0.2 in /usr/local/lib/python3.7/dist-packages (from requests->ontospy[HTML]) (3.0.4)\n",
      "Requirement already satisfied: urllib3!=1.25.0,!=1.25.1,<1.26,>=1.21.1 in /usr/local/lib/python3.7/dist-packages (from requests->ontospy[HTML]) (1.24.3)\n",
      "Requirement already satisfied: idna<3,>=2.5 in /usr/local/lib/python3.7/dist-packages (from requests->ontospy[HTML]) (2.10)\n",
      "Requirement already satisfied: certifi>=2017.4.17 in /usr/local/lib/python3.7/dist-packages (from requests->ontospy[HTML]) (2020.12.5)\n",
      "Requirement already satisfied: isodate in /usr/local/lib/python3.7/dist-packages (from rdflib->ontospy[HTML]) (0.6.0)\n",
      "Building wheels for collected packages: keepalive, rdflib-jsonld\n",
      "  Building wheel for keepalive (setup.py) ... \u001b[?25l\u001b[?25hdone\n",
      "  Created wheel for keepalive: filename=keepalive-0.5-cp37-none-any.whl size=8937 sha256=1c878c3d0f0a31985653f774b99c76f6c4a0f922bd2dd517871f0b1043a12dd3\n",
      "  Stored in directory: /root/.cache/pip/wheels/dc/56/d1/1f5ce7b1976ed0030f39e69f33af490745441216b762be9a69\n",
      "  Building wheel for rdflib-jsonld (setup.py) ... \u001b[?25l\u001b[?25hdone\n",
      "  Created wheel for rdflib-jsonld: filename=rdflib_jsonld-0.5.0-py2.py3-none-any.whl size=15348 sha256=c973bad82ae38a50e9ce12d2fe9c642d50772440bfb560e935953ff8f213fba6\n",
      "  Stored in directory: /root/.cache/pip/wheels/8d/e4/7f/9ebcb3e400c694e645c3adba40ef3e9bda78384ac3b9b0d13d\n",
      "Successfully built keepalive rdflib-jsonld\n",
      "Installing collected packages: SPARQLWrapper, pyfiglet, colorama, keepalive, rdflib-jsonld, ontospy\n",
      "Successfully installed SPARQLWrapper-1.8.5 colorama-0.4.4 keepalive-0.5 ontospy-1.9.8.3 pyfiglet-0.8.post1 rdflib-jsonld-0.5.0\n"
     ]
    }
   ],
   "source": [
    "!pip3 install ontospy[HTML]"
   ]
  },
  {
   "cell_type": "code",
   "execution_count": 50,
   "metadata": {
    "colab": {
     "base_uri": "https://localhost:8080/"
    },
    "id": "kx-gMr-mzKI4",
    "outputId": "2f4512b0-5768-4a76-8a88-8429ab827403"
   },
   "outputs": [
    {
     "name": "stdout",
     "output_type": "stream",
     "text": [
      "\u001b[32mReading: <magic.rdf>\u001b[0m\n",
      ".. trying rdf serialization: <xml>\u001b[0m\n",
      "\u001b[1m..... success!\u001b[0m\n",
      "\u001b[37m----------\n",
      "Loaded 148 triples.\n",
      "----------\u001b[0m\n",
      "\u001b[32mRDF sources loaded successfully: 1 of 1.\u001b[0m\n",
      "\u001b[37m..... 'magic.rdf'\u001b[0m\n",
      "\u001b[37m----------\u001b[0m\n"
     ]
    },
    {
     "name": "stderr",
     "output_type": "stream",
     "text": [
      "\u001b[32mScanning entities...\u001b[0m\n",
      "\u001b[2m----------\u001b[0m\n",
      "\u001b[2mOntologies.........: 0\u001b[0m\n",
      "\u001b[2mClasses............: 22\u001b[0m\n",
      "\u001b[2mProperties.........: 0\u001b[0m\n",
      "\u001b[2m..annotation.......: 0\u001b[0m\n",
      "\u001b[2m..datatype.........: 0\u001b[0m\n",
      "\u001b[2m..object...........: 0\u001b[0m\n",
      "\u001b[2mConcepts (SKOS)....: 0\u001b[0m\n",
      "\u001b[2mShapes (SHACL).....: 0\u001b[0m\n",
      "\u001b[2m----------\u001b[0m\n"
     ]
    }
   ],
   "source": [
    "import ontospy\n",
    "\n",
    "model = ontospy.Ontospy(\"magic.rdf\", verbose=True)"
   ]
  },
  {
   "cell_type": "code",
   "execution_count": null,
   "metadata": {
    "id": "t9kvY5Xu590y"
   },
   "outputs": [],
   "source": []
  }
 ],
 "metadata": {
  "colab": {
   "collapsed_sections": [],
   "name": "Magic_Gathering.ipynb",
   "provenance": []
  },
  "kernelspec": {
   "display_name": "Python 3",
   "language": "python",
   "name": "python3"
  },
  "language_info": {
   "codemirror_mode": {
    "name": "ipython",
    "version": 3
   },
   "file_extension": ".py",
   "mimetype": "text/x-python",
   "name": "python",
   "nbconvert_exporter": "python",
   "pygments_lexer": "ipython3",
   "version": "3.8.5"
  },
  "toc": {
   "base_numbering": 1,
   "nav_menu": {},
   "number_sections": true,
   "sideBar": true,
   "skip_h1_title": false,
   "title_cell": "Table of Contents",
   "title_sidebar": "Contents",
   "toc_cell": false,
   "toc_position": {},
   "toc_section_display": true,
   "toc_window_display": false
  }
 },
 "nbformat": 4,
 "nbformat_minor": 1
}
