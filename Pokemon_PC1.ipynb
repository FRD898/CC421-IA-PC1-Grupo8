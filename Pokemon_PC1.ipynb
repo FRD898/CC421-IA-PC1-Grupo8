{
 "cells": [
  {
   "cell_type": "markdown",
   "metadata": {
    "colab_type": "text",
    "id": "view-in-github"
   },
   "source": [
    "<a href=\"https://colab.research.google.com/github/FRD898/CC421-IA-PC1-Grupo8/blob/main/Pokemon_PC1.ipynb\" target=\"_parent\"><img src=\"https://colab.research.google.com/assets/colab-badge.svg\" alt=\"Open In Colab\"/></a>"
   ]
  },
  {
   "cell_type": "markdown",
   "metadata": {
    "id": "_t0SXiWVxgkb"
   },
   "source": [
    "## Ingresando  todas las URIREF"
   ]
  },
  {
   "cell_type": "code",
   "execution_count": 2,
   "metadata": {},
   "outputs": [],
   "source": [
    "from rdflib import URIRef, BNode, Literal\n",
    "from rdflib import Namespace\n",
    "from rdflib.namespace import RDF, RDFS\n",
    "from rdflib import ConjunctiveGraph\n",
    "import pprint"
   ]
  },
  {
   "cell_type": "code",
   "execution_count": 3,
   "metadata": {},
   "outputs": [],
   "source": [
    "squirtle = URIRef('https://api.pokemon.com/el/pokedex/Squirtle') \n",
    "wartortle = URIRef('https://api.pokemon.com/el/pokedex/Wartortle') \n",
    "blastoise = URIRef('https://api.pokemon.com/el/pokedex/Blastoise')\n",
    "caterpie = URIRef('https://api.pokemon.com/el/pokedex/Caterpie')\n",
    "metapod = URIRef('https://api.pokemon.com/el/pokedex/Metapod') \n",
    "butterfree = URIRef('https://api.pokemon.com/el/pokedex/Butterfree')"
   ]
  },
  {
   "cell_type": "code",
   "execution_count": 5,
   "metadata": {},
   "outputs": [],
   "source": [
    "n = Namespace(\"https://pokemon.fandom.com/es/wiki/\")"
   ]
  },
  {
   "cell_type": "code",
   "execution_count": 6,
   "metadata": {},
   "outputs": [],
   "source": [
    "g = ConjunctiveGraph()"
   ]
  },
  {
   "cell_type": "code",
   "execution_count": 7,
   "metadata": {},
   "outputs": [],
   "source": [
    "torrente = URIRef(\"https://pokemon.fandom.com/es/wiki/Torrente\")\n",
    "polvoescudo = URIRef(\"https://pokemon.fandom.com/es/wiki/Polvo_escudo\")\n",
    "mudar = URIRef(\"https://pokemon.fandom.com/es/wiki/Mudar\")\n",
    "ojocompuesto = URIRef(\"https://pokemon.fandom.com/es/wiki/Ojo_compuesto\")"
   ]
  },
  {
   "cell_type": "markdown",
   "metadata": {},
   "source": [
    "## URI Caracteristicas"
   ]
  },
  {
   "cell_type": "code",
   "execution_count": 8,
   "metadata": {},
   "outputs": [],
   "source": [
    "nombre = URIRef(\"caracteristica/nombre\")\n",
    "habilidad = URIRef(\"caracteristica/habilidad\")\n",
    "categoria = URIRef(\"caracteristica/categoria\")\n",
    "evoluciona_a = URIRef(\"caracteristica/evoluciona_a\")"
   ]
  },
  {
   "cell_type": "code",
   "execution_count": 9,
   "metadata": {},
   "outputs": [],
   "source": [
    "g.add((n.tierra, RDFS.subClassOf, n.pokemon))\n",
    "g.add((n.agua, RDFS.subClassOf, n.pokemon))\n",
    "g.add((n.planta, RDFS.subClassOf, n.pokemon))\n",
    "g.add((n.fuego, RDFS.subClassOf, n.pokemon))\n",
    "g.add((n.electrico, RDFS.subClassOf, n.pokemon))\n",
    "g.add((n.bicho, RDFS.subClassOf, n.pokemon))\n",
    "g.add((n.veneno, RDFS.subClassOf, n.pokemon))\n",
    "g.add((n.volador, RDFS.subClassOf, n.pokemon))"
   ]
  },
  {
   "cell_type": "code",
   "execution_count": 10,
   "metadata": {},
   "outputs": [],
   "source": [
    "g.add((squirtle, RDF.type, n.agua))\n",
    "g.add((squirtle, habilidad, n.torrente))\n",
    "g.add((squirtle, evoluciona_a, wartortle))\n",
    "g.add((squirtle, nombre, Literal('Squirtle')))\n",
    "\n",
    "g.add((wartortle, RDF.type, n.agua))\n",
    "g.add((wartortle, habilidad, n.torrente))\n",
    "g.add((wartortle, evoluciona_a, blastoise))\n",
    "g.add((wartortle, nombre, Literal('Wartortle')))\n",
    "\n",
    "g.add((blastoise, RDF.type, n.agua))\n",
    "g.add((blastoise, habilidad, n.torrente))\n",
    "g.add((blastoise, nombre, Literal('Blastoise')))\n",
    "\n",
    "g.add((caterpie, RDF.type, n.bicho))\n",
    "g.add((caterpie, habilidad, n.polvoescudo))\n",
    "g.add((caterpie, evoluciona_a, metapod))\n",
    "g.add((caterpie, nombre, Literal('Caterpie')))\n",
    "\n",
    "g.add((metapod, RDF.type, n.bicho))\n",
    "g.add((metapod, habilidad, n.mudar))\n",
    "g.add((metapod, evoluciona_a, butterfree))\n",
    "g.add((metapod, nombre, Literal('Metapod')))\n",
    "\n",
    "g.add((butterfree, RDF.type, n.bicho))\n",
    "g.add((butterfree, RDF.type, n.volador))\n",
    "g.add((butterfree, habilidad, n.ojocompuesto))\n",
    "g.add((butterfree, nombre, Literal('Butterfree')))"
   ]
  },
  {
   "cell_type": "code",
   "execution_count": 11,
   "metadata": {},
   "outputs": [],
   "source": [
    "g.add((nombre, RDFS.subPropertyOf, n.characteristic))\n",
    "g.add((habilidad, RDFS.subPropertyOf, n.characteristic))\n",
    "g.add((categoria, RDFS.subPropertyOf, n.characteristic))\n",
    "g.add((evoluciona_a, RDFS.subPropertyOf, n.characteristic))\n",
    "\n",
    "g.add((evoluciona_a, RDFS.domain, n.pokemon))\n",
    "g.add((evoluciona_a, RDFS.range, n.pokemon))"
   ]
  },
  {
   "cell_type": "code",
   "execution_count": 12,
   "metadata": {},
   "outputs": [],
   "source": [
    "g.add((nombre, RDFS.subPropertyOf, RDFS.label))\n",
    "g.add((habilidad, RDFS.subPropertyOf, RDFS.label))\n",
    "g.add((categoria, RDFS.subPropertyOf, RDFS.label))\n",
    "g.add((evoluciona_a, RDFS.subPropertyOf, RDFS.label))"
   ]
  },
  {
   "cell_type": "code",
   "execution_count": 13,
   "metadata": {},
   "outputs": [
    {
     "name": "stdout",
     "output_type": "stream",
     "text": [
      "b'<?xml version=\"1.0\" encoding=\"UTF-8\"?><rdf:RDF   xmlns:ns1=\"caracteristica/\"   xmlns:rdf=\"http://www.w3.org/1999/02/22-rdf-syntax-ns#\"   xmlns:rdfs=\"http://www.w3.org/2000/01/rdf-schema#\">  <rdf:Description rdf:about=\"caracteristica/evoluciona_a\">    <rdfs:subPropertyOf rdf:resource=\"https://pokemon.fandom.com/es/wiki/characteristic\"/>    <rdfs:subPropertyOf rdf:resource=\"http://www.w3.org/2000/01/rdf-schema#label\"/>    <rdfs:domain rdf:resource=\"https://pokemon.fandom.com/es/wiki/pokemon\"/>    <rdfs:range rdf:resource=\"https://pokemon.fandom.com/es/wiki/pokemon\"/>  </rdf:Description>  <rdf:Description rdf:about=\"https://api.pokemon.com/el/pokedex/Squirtle\">    <ns1:habilidad rdf:resource=\"https://pokemon.fandom.com/es/wiki/torrente\"/>    <ns1:evoluciona_a rdf:resource=\"https://api.pokemon.com/el/pokedex/Wartortle\"/>    <ns1:nombre>Squirtle</ns1:nombre>    <rdf:type rdf:resource=\"https://pokemon.fandom.com/es/wiki/agua\"/>  </rdf:Description>  <rdf:Description rdf:about=\"https://api.pokemon.com/el/pokedex/Caterpie\">    <ns1:evoluciona_a rdf:resource=\"https://api.pokemon.com/el/pokedex/Metapod\"/>    <ns1:habilidad rdf:resource=\"https://pokemon.fandom.com/es/wiki/polvoescudo\"/>    <rdf:type rdf:resource=\"https://pokemon.fandom.com/es/wiki/bicho\"/>    <ns1:nombre>Caterpie</ns1:nombre>  </rdf:Description>  <rdf:Description rdf:about=\"https://api.pokemon.com/el/pokedex/Butterfree\">    <ns1:nombre>Butterfree</ns1:nombre>    <rdf:type rdf:resource=\"https://pokemon.fandom.com/es/wiki/volador\"/>    <rdf:type rdf:resource=\"https://pokemon.fandom.com/es/wiki/bicho\"/>    <ns1:habilidad rdf:resource=\"https://pokemon.fandom.com/es/wiki/ojocompuesto\"/>  </rdf:Description>  <rdf:Description rdf:about=\"https://api.pokemon.com/el/pokedex/Blastoise\">    <rdf:type rdf:resource=\"https://pokemon.fandom.com/es/wiki/agua\"/>    <ns1:nombre>Blastoise</ns1:nombre>    <ns1:habilidad rdf:resource=\"https://pokemon.fandom.com/es/wiki/torrente\"/>  </rdf:Description>  <rdf:Description rdf:about=\"https://api.pokemon.com/el/pokedex/Metapod\">    <rdf:type rdf:resource=\"https://pokemon.fandom.com/es/wiki/bicho\"/>    <ns1:habilidad rdf:resource=\"https://pokemon.fandom.com/es/wiki/mudar\"/>    <ns1:nombre>Metapod</ns1:nombre>    <ns1:evoluciona_a rdf:resource=\"https://api.pokemon.com/el/pokedex/Butterfree\"/>  </rdf:Description>  <rdf:Description rdf:about=\"caracteristica/categoria\">    <rdfs:subPropertyOf rdf:resource=\"https://pokemon.fandom.com/es/wiki/characteristic\"/>    <rdfs:subPropertyOf rdf:resource=\"http://www.w3.org/2000/01/rdf-schema#label\"/>  </rdf:Description>  <rdf:Description rdf:about=\"https://pokemon.fandom.com/es/wiki/electrico\">    <rdfs:subClassOf rdf:resource=\"https://pokemon.fandom.com/es/wiki/pokemon\"/>  </rdf:Description>  <rdf:Description rdf:about=\"caracteristica/nombre\">    <rdfs:subPropertyOf rdf:resource=\"http://www.w3.org/2000/01/rdf-schema#label\"/>    <rdfs:subPropertyOf rdf:resource=\"https://pokemon.fandom.com/es/wiki/characteristic\"/>  </rdf:Description>  <rdf:Description rdf:about=\"https://pokemon.fandom.com/es/wiki/veneno\">    <rdfs:subClassOf rdf:resource=\"https://pokemon.fandom.com/es/wiki/pokemon\"/>  </rdf:Description>  <rdf:Description rdf:about=\"caracteristica/habilidad\">    <rdfs:subPropertyOf rdf:resource=\"http://www.w3.org/2000/01/rdf-schema#label\"/>    <rdfs:subPropertyOf rdf:resource=\"https://pokemon.fandom.com/es/wiki/characteristic\"/>  </rdf:Description>  <rdf:Description rdf:about=\"https://pokemon.fandom.com/es/wiki/tierra\">    <rdfs:subClassOf rdf:resource=\"https://pokemon.fandom.com/es/wiki/pokemon\"/>  </rdf:Description>  <rdf:Description rdf:about=\"https://api.pokemon.com/el/pokedex/Wartortle\">    <ns1:evoluciona_a rdf:resource=\"https://api.pokemon.com/el/pokedex/Blastoise\"/>    <rdf:type rdf:resource=\"https://pokemon.fandom.com/es/wiki/agua\"/>    <ns1:nombre>Wartortle</ns1:nombre>    <ns1:habilidad rdf:resource=\"https://pokemon.fandom.com/es/wiki/torrente\"/>  </rdf:Description>  <rdf:Description rdf:about=\"https://pokemon.fandom.com/es/wiki/volador\">    <rdfs:subClassOf rdf:resource=\"https://pokemon.fandom.com/es/wiki/pokemon\"/>  </rdf:Description>  <rdf:Description rdf:about=\"https://pokemon.fandom.com/es/wiki/agua\">    <rdfs:subClassOf rdf:resource=\"https://pokemon.fandom.com/es/wiki/pokemon\"/>  </rdf:Description>  <rdf:Description rdf:about=\"https://pokemon.fandom.com/es/wiki/planta\">    <rdfs:subClassOf rdf:resource=\"https://pokemon.fandom.com/es/wiki/pokemon\"/>  </rdf:Description>  <rdf:Description rdf:about=\"https://pokemon.fandom.com/es/wiki/fuego\">    <rdfs:subClassOf rdf:resource=\"https://pokemon.fandom.com/es/wiki/pokemon\"/>  </rdf:Description>  <rdf:Description rdf:about=\"https://pokemon.fandom.com/es/wiki/bicho\">    <rdfs:subClassOf rdf:resource=\"https://pokemon.fandom.com/es/wiki/pokemon\"/>  </rdf:Description></rdf:RDF>'\n"
     ]
    }
   ],
   "source": [
    "print(str(g.serialize(format='xml')).replace('\\\\n', ''))"
   ]
  },
  {
   "cell_type": "code",
   "execution_count": 14,
   "metadata": {},
   "outputs": [
    {
     "name": "stdout",
     "output_type": "stream",
     "text": [
      "<?xml version=\"1.0\" encoding=\"UTF-8\"?>\n",
      "<rdf:RDF\n",
      "   xmlns:ns1=\"caracteristica/\"\n",
      "   xmlns:rdf=\"http://www.w3.org/1999/02/22-rdf-syntax-ns#\"\n",
      "   xmlns:rdfs=\"http://www.w3.org/2000/01/rdf-schema#\"\n",
      ">\n",
      "  <rdf:Description rdf:about=\"caracteristica/evoluciona_a\">\n",
      "    <rdfs:subPropertyOf rdf:resource=\"https://pokemon.fandom.com/es/wiki/characteristic\"/>\n",
      "    <rdfs:subPropertyOf rdf:resource=\"http://www.w3.org/2000/01/rdf-schema#label\"/>\n",
      "    <rdfs:domain rdf:resource=\"https://pokemon.fandom.com/es/wiki/pokemon\"/>\n",
      "    <rdfs:range rdf:resource=\"https://pokemon.fandom.com/es/wiki/pokemon\"/>\n",
      "  </rdf:Description>\n",
      "  <rdf:Description rdf:about=\"https://api.pokemon.com/el/pokedex/Squirtle\">\n",
      "    <ns1:habilidad rdf:resource=\"https://pokemon.fandom.com/es/wiki/torrente\"/>\n",
      "    <ns1:evoluciona_a rdf:resource=\"https://api.pokemon.com/el/pokedex/Wartortle\"/>\n",
      "    <ns1:nombre>Squirtle</ns1:nombre>\n",
      "    <rdf:type rdf:resource=\"https://pokemon.fandom.com/es/wiki/agua\"/>\n",
      "  </rdf:Description>\n",
      "  <rdf:Description rdf:about=\"https://api.pokemon.com/el/pokedex/Caterpie\">\n",
      "    <ns1:evoluciona_a rdf:resource=\"https://api.pokemon.com/el/pokedex/Metapod\"/>\n",
      "    <ns1:habilidad rdf:resource=\"https://pokemon.fandom.com/es/wiki/polvoescudo\"/>\n",
      "    <rdf:type rdf:resource=\"https://pokemon.fandom.com/es/wiki/bicho\"/>\n",
      "    <ns1:nombre>Caterpie</ns1:nombre>\n",
      "  </rdf:Description>\n",
      "  <rdf:Description rdf:about=\"https://api.pokemon.com/el/pokedex/Butterfree\">\n",
      "    <ns1:nombre>Butterfree</ns1:nombre>\n",
      "    <rdf:type rdf:resource=\"https://pokemon.fandom.com/es/wiki/volador\"/>\n",
      "    <rdf:type rdf:resource=\"https://pokemon.fandom.com/es/wiki/bicho\"/>\n",
      "    <ns1:habilidad rdf:resource=\"https://pokemon.fandom.com/es/wiki/ojocompuesto\"/>\n",
      "  </rdf:Description>\n",
      "  <rdf:Description rdf:about=\"https://api.pokemon.com/el/pokedex/Blastoise\">\n",
      "    <rdf:type rdf:resource=\"https://pokemon.fandom.com/es/wiki/agua\"/>\n",
      "    <ns1:nombre>Blastoise</ns1:nombre>\n",
      "    <ns1:habilidad rdf:resource=\"https://pokemon.fandom.com/es/wiki/torrente\"/>\n",
      "  </rdf:Description>\n",
      "  <rdf:Description rdf:about=\"https://api.pokemon.com/el/pokedex/Metapod\">\n",
      "    <rdf:type rdf:resource=\"https://pokemon.fandom.com/es/wiki/bicho\"/>\n",
      "    <ns1:habilidad rdf:resource=\"https://pokemon.fandom.com/es/wiki/mudar\"/>\n",
      "    <ns1:nombre>Metapod</ns1:nombre>\n",
      "    <ns1:evoluciona_a rdf:resource=\"https://api.pokemon.com/el/pokedex/Butterfree\"/>\n",
      "  </rdf:Description>\n",
      "  <rdf:Description rdf:about=\"caracteristica/categoria\">\n",
      "    <rdfs:subPropertyOf rdf:resource=\"https://pokemon.fandom.com/es/wiki/characteristic\"/>\n",
      "    <rdfs:subPropertyOf rdf:resource=\"http://www.w3.org/2000/01/rdf-schema#label\"/>\n",
      "  </rdf:Description>\n",
      "  <rdf:Description rdf:about=\"https://pokemon.fandom.com/es/wiki/electrico\">\n",
      "    <rdfs:subClassOf rdf:resource=\"https://pokemon.fandom.com/es/wiki/pokemon\"/>\n",
      "  </rdf:Description>\n",
      "  <rdf:Description rdf:about=\"caracteristica/nombre\">\n",
      "    <rdfs:subPropertyOf rdf:resource=\"http://www.w3.org/2000/01/rdf-schema#label\"/>\n",
      "    <rdfs:subPropertyOf rdf:resource=\"https://pokemon.fandom.com/es/wiki/characteristic\"/>\n",
      "  </rdf:Description>\n",
      "  <rdf:Description rdf:about=\"https://pokemon.fandom.com/es/wiki/veneno\">\n",
      "    <rdfs:subClassOf rdf:resource=\"https://pokemon.fandom.com/es/wiki/pokemon\"/>\n",
      "  </rdf:Description>\n",
      "  <rdf:Description rdf:about=\"caracteristica/habilidad\">\n",
      "    <rdfs:subPropertyOf rdf:resource=\"http://www.w3.org/2000/01/rdf-schema#label\"/>\n",
      "    <rdfs:subPropertyOf rdf:resource=\"https://pokemon.fandom.com/es/wiki/characteristic\"/>\n",
      "  </rdf:Description>\n",
      "  <rdf:Description rdf:about=\"https://pokemon.fandom.com/es/wiki/tierra\">\n",
      "    <rdfs:subClassOf rdf:resource=\"https://pokemon.fandom.com/es/wiki/pokemon\"/>\n",
      "  </rdf:Description>\n",
      "  <rdf:Description rdf:about=\"https://api.pokemon.com/el/pokedex/Wartortle\">\n",
      "    <ns1:evoluciona_a rdf:resource=\"https://api.pokemon.com/el/pokedex/Blastoise\"/>\n",
      "    <rdf:type rdf:resource=\"https://pokemon.fandom.com/es/wiki/agua\"/>\n",
      "    <ns1:nombre>Wartortle</ns1:nombre>\n",
      "    <ns1:habilidad rdf:resource=\"https://pokemon.fandom.com/es/wiki/torrente\"/>\n",
      "  </rdf:Description>\n",
      "  <rdf:Description rdf:about=\"https://pokemon.fandom.com/es/wiki/volador\">\n",
      "    <rdfs:subClassOf rdf:resource=\"https://pokemon.fandom.com/es/wiki/pokemon\"/>\n",
      "  </rdf:Description>\n",
      "  <rdf:Description rdf:about=\"https://pokemon.fandom.com/es/wiki/agua\">\n",
      "    <rdfs:subClassOf rdf:resource=\"https://pokemon.fandom.com/es/wiki/pokemon\"/>\n",
      "  </rdf:Description>\n",
      "  <rdf:Description rdf:about=\"https://pokemon.fandom.com/es/wiki/planta\">\n",
      "    <rdfs:subClassOf rdf:resource=\"https://pokemon.fandom.com/es/wiki/pokemon\"/>\n",
      "  </rdf:Description>\n",
      "  <rdf:Description rdf:about=\"https://pokemon.fandom.com/es/wiki/fuego\">\n",
      "    <rdfs:subClassOf rdf:resource=\"https://pokemon.fandom.com/es/wiki/pokemon\"/>\n",
      "  </rdf:Description>\n",
      "  <rdf:Description rdf:about=\"https://pokemon.fandom.com/es/wiki/bicho\">\n",
      "    <rdfs:subClassOf rdf:resource=\"https://pokemon.fandom.com/es/wiki/pokemon\"/>\n",
      "  </rdf:Description>\n",
      "</rdf:RDF>\n"
     ]
    }
   ],
   "source": [
    "texto = str(g.serialize(format=\"xml\", encoding='utf-8').decode())\n",
    "for line in texto.splitlines():\n",
    "    print(line)"
   ]
  }
 ],
 "metadata": {
  "colab": {
   "authorship_tag": "ABX9TyP1ntWpwMOVDBFEk4DvcseU",
   "include_colab_link": true,
   "name": "Pokemon-PC1.ipynb",
   "provenance": []
  },
  "kernelspec": {
   "display_name": "Python 3",
   "language": "python",
   "name": "python3"
  },
  "language_info": {
   "codemirror_mode": {
    "name": "ipython",
    "version": 3
   },
   "file_extension": ".py",
   "mimetype": "text/x-python",
   "name": "python",
   "nbconvert_exporter": "python",
   "pygments_lexer": "ipython3",
   "version": "3.8.5"
  }
 },
 "nbformat": 4,
 "nbformat_minor": 1
}
