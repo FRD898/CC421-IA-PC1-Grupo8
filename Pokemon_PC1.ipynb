{
 "cells": [
  {
   "cell_type": "markdown",
   "metadata": {
    "colab_type": "text",
    "id": "view-in-github"
   },
   "source": [
    "<a href=\"https://colab.research.google.com/github/FRD898/CC421-IA-PC1-Grupo8/blob/main/Pokemon_PC1.ipynb\" target=\"_parent\"><img src=\"https://colab.research.google.com/assets/colab-badge.svg\" alt=\"Open In Colab\"/></a>"
   ]
  },
  {
   "cell_type": "code",
   "execution_count": 27,
   "metadata": {},
   "outputs": [],
   "source": [
    "from rdflib import URIRef, BNode, Literal\n",
    "from rdflib import Namespace\n",
    "from rdflib.namespace import RDF, RDFS\n",
    "from rdflib import ConjunctiveGraph\n",
    "import pprint"
   ]
  },
  {
   "cell_type": "markdown",
   "metadata": {
    "id": "_t0SXiWVxgkb"
   },
   "source": [
    "## Ingresando  todas las URIREF"
   ]
  },
  {
   "cell_type": "code",
   "execution_count": 28,
   "metadata": {},
   "outputs": [],
   "source": [
    "chimchar = URIRef(\"https://api.pokemon.com/el/pokedex/chimchar\")\n",
    "monferno = URIRef(\"https://api.pokemon.com/el/pokedex/monferno\")\n",
    "infernape = URIRef(\"https://api.pokemon.com/el/pokedex/infernape\")\n",
    "\n",
    "piplup = URIRef(\"https://api.pokemon.com/el/pokedex/piplup\")\n",
    "prinplup = URIRef(\"https://api.pokemon.com/el/pokedex/prinplup\")\n",
    "empoleon = URIRef(\"https://api.pokemon.com/el/pokedex/empoleon\")\n",
    "\n",
    "starly = URIRef(\"https://api.pokemon.com/el/pokedex/starly\")\n",
    "staravia = URIRef(\"https://api.pokemon.com/el/pokedex/staravia\")\n",
    "staraptor = URIRef(\"https://api.pokemon.com/el/pokedex/staraptor\")\n",
    "\n",
    "pokemon = URIRef(\"https://pokemon.fandom.com/es/wiki/Pok%C3%A9mon#.C2.BFQu.C3.A9_son_los_Pok.C3.A9mon.3F\")\n",
    "efectividad = URIRef(\"https://pokemon.fandom.com/es/wiki/Tipos_elementales#Efectividades_de_los_tipos\")"
   ]
  },
  {
   "cell_type": "markdown",
   "metadata": {},
   "source": [
    "## Namespace "
   ]
  },
  {
   "cell_type": "code",
   "execution_count": 29,
   "metadata": {},
   "outputs": [],
   "source": [
    "n = Namespace(\"https://pokemon.fandom.com/es/wiki/\")\n"
   ]
  },
  {
   "cell_type": "code",
   "execution_count": 30,
   "metadata": {},
   "outputs": [],
   "source": [
    "g = ConjunctiveGraph()"
   ]
  },
  {
   "cell_type": "markdown",
   "metadata": {},
   "source": [
    "## URI Caracteristicas"
   ]
  },
  {
   "cell_type": "code",
   "execution_count": 31,
   "metadata": {},
   "outputs": [],
   "source": [
    "caracteristicas= n.pantalla_de_datos\n",
    "nombre = n.mote\n",
    "habilidad = n.habilidad\n",
    "especie = n.especie\n",
    "evolucion = n.evolucion\n",
    "\n",
    "g.add((nombre, RDFS.subPropertyOf, RDFS.label))\n",
    "g.add((habilidad, RDFS.subPropertyOf, RDFS.label))\n",
    "g.add((especie, RDFS.subPropertyOf, RDFS.label))\n",
    "g.add((evolucion, RDFS.subPropertyOf, RDFS.label))\n",
    "g.add((efectividad, RDFS.subPropertyOf, RDFS.label))\n"
   ]
  },
  {
   "cell_type": "markdown",
   "metadata": {},
   "source": [
    "## Subclases de Pokemon"
   ]
  },
  {
   "cell_type": "code",
   "execution_count": 32,
   "metadata": {},
   "outputs": [],
   "source": [
    "#Subclases por tipo de elemento\n",
    "g.add((n.tipo_tierra, RDFS.subClassOf, n.pokemon))\n",
    "g.add((n.tipo_tierra, efectividad, n.tipo_acero))\n",
    "\n",
    "g.add((n.tipo_agua, RDFS.subClassOf, n.pokemon))\n",
    "\n",
    "g.add((n.tipo_planta, RDFS.subClassOf, n.pokemon))\n",
    "\n",
    "g.add((n.tipo_fuego, RDFS.subClassOf, n.pokemon))\n",
    "g.add((n.tipo_fuego, efectividad, n.acero))\n",
    "g.add((n.tipo_fuego, efectividad, n.bicho))\n",
    "g.add((n.tipo_fuego, efectividad, n.planta))\n",
    "g.add((n.tipo_fuego, efectividad, n.hielo))\n",
    "\n",
    "g.add((n.tipo_electrico, RDFS.subClassOf, n.pokemon))\n",
    "g.add((n.tipo_electrico, efectividad, n.agua))\n",
    "g.add((n.tipo_electrico, efectividad, n.volador))\n",
    "\n",
    "g.add((n.tipo_volador, RDFS.subClassOf, n.pokemon))\n",
    "g.add((n.tipo_volador, efectividad, n.bicho))\n",
    "g.add((n.tipo_volador, efectividad, n.lucha))\n",
    "g.add((n.tipo_volador, efectividad, n.planta))\n",
    "\n",
    "g.add((n.tipo_bicho, RDFS.subClassOf, n.pokemon))\n",
    "\n",
    "g.add((n.tipo_veneno, RDFS.subClassOf, n.pokemon))\n",
    "\n",
    "g.add((n.tipo_planta, RDFS.subClassOf, n.pokemon))\n",
    "\n",
    "g.add((n.tipo_lucha, RDFS.subClassOf, n.pokemon))\n",
    "\n",
    "g.add((n.tipo_acero, RDFS.subClassOf, n.pokemon))\n",
    "\n",
    "#subclases por generación\n",
    "g.add((n.Primera_generacion, RDFS.subClassOf, n.pokemon))\n",
    "g.add((n.Segunda_generacion, RDFS.subClassOf, n.pokemon))\n",
    "g.add((n.Tercera_generacion, RDFS.subClassOf, n.pokemon))\n",
    "g.add((n.Cuarta_generacion, RDFS.subClassOf, n.pokemon))\n"
   ]
  },
  {
   "cell_type": "markdown",
   "metadata": {},
   "source": [
    "## Properties"
   ]
  },
  {
   "cell_type": "code",
   "execution_count": 33,
   "metadata": {},
   "outputs": [],
   "source": [
    "g.add((caracteristicas, RDFS.subPropertyOf, n.pokemon))\n",
    "\n",
    "g.add((nombre, RDFS.subPropertyOf, caracteristicas))\n",
    "g.add((habilidad, RDFS.subPropertyOf, caracteristicas))\n",
    "g.add((especie, RDFS.subPropertyOf, caracteristicas))\n",
    "\n",
    "g.add((evolucion, RDFS.subPropertyOf, caracteristicas))\n",
    "g.add((evolucion, RDFS.domain, n.pokemon))\n",
    "g.add((evolucion, RDFS.range, n.pokemon))\n",
    "\n",
    "g.add((efectividad, RDFS.subPropertyOf, n.tipo_fuego))\n",
    "g.add((efectividad, RDFS.subPropertyOf, n.tipo_electrico))\n",
    "\n"
   ]
  },
  {
   "cell_type": "markdown",
   "metadata": {},
   "source": [
    "### Instancias de pokemon"
   ]
  },
  {
   "cell_type": "code",
   "execution_count": 34,
   "metadata": {},
   "outputs": [],
   "source": [
    "g.add((chimchar, RDF.type, n.tipo_fuego))\n",
    "g.add((chimchar, RDF.type, n.Cuarta_generacion))\n",
    "g.add((chimchar, habilidad, n.mar_llamas))\n",
    "g.add((chimchar, evolucion, monferno))\n",
    "g.add((chimchar, nombre, Literal('Chimchar')))\n",
    "\n",
    "\n",
    "g.add((monferno, RDF.type, n.tipo_fuego))\n",
    "g.add((monferno, RDF.type, n.tipo_lucha))\n",
    "g.add((monferno, RDF.type, n.Cuarta_generacion))\n",
    "g.add((monferno, habilidad, n.mar_llamas))\n",
    "g.add((monferno, evolucion, infernape))\n",
    "g.add((monferno, nombre, Literal('Monferno')))\n",
    "\n",
    "g.add((infernape, RDF.type, n.tipo_fuego))\n",
    "g.add((infernape, RDF.type, n.tipo_lucha))\n",
    "g.add((infernape, RDF.type, n.Cuarta_generacion))\n",
    "g.add((infernape, habilidad, n.mar_llamas))\n",
    "g.add((infernape, nombre, Literal('Infernape')))\n",
    "\n",
    "g.add((piplup, RDF.type, n.tipo_agua))\n",
    "g.add((piplup, RDF.type, n.Cuarta_generacion))\n",
    "g.add((piplup, habilidad, n.torrente))\n",
    "g.add((piplup, evolucion, prinplup))\n",
    "g.add((piplup, nombre, Literal('Piplup')))\n",
    "\n",
    "\n",
    "g.add((prinplup, RDF.type, n.tipo_agua))\n",
    "g.add((prinplup, RDF.type, n.Cuarta_generacion))\n",
    "g.add((prinplup, habilidad, n.torrente))\n",
    "g.add((prinplup, evolucion, empoleon))\n",
    "g.add((prinplup, nombre, Literal('Prinplup')))\n",
    "\n",
    "g.add((empoleon, RDF.type, n.tipo_agua))\n",
    "g.add((empoleon, RDF.type, n.tipo_acero))\n",
    "g.add((empoleon, RDF.type, n.Cuarta_generacion))\n",
    "g.add((empoleon, habilidad, n.torrente))\n",
    "g.add((empoleon, nombre, Literal('Empoleon')))\n",
    "\n",
    "g.add((starly, RDF.type, n.tipo_normal))\n",
    "g.add((starly, RDF.type, n.tipo_volador))\n",
    "g.add((starly, RDF.type, n.Cuarta_generacion))\n",
    "g.add((starly, habilidad, n.vista_lince))\n",
    "g.add((starly, evolucion, staravia))\n",
    "g.add((starly, nombre, Literal('Starly')))\n",
    "\n",
    "\n",
    "g.add((staravia, RDF.type, n.tipo_normal))\n",
    "g.add((staravia, RDF.type, n.tipo_volador))\n",
    "g.add((staravia, RDF.type, n.Cuarta_generacion))\n",
    "g.add((staravia, habilidad, n.intimidacion))\n",
    "g.add((staravia, evolucion, staraptor))\n",
    "g.add((staravia, nombre, Literal('Staravia')))\n",
    "\n",
    "g.add((staraptor, RDF.type, n.tipo_normal))\n",
    "g.add((staraptor, RDF.type, n.tipo_volador))\n",
    "g.add((staraptor, RDF.type, n.Cuarta_generacion))\n",
    "g.add((staraptor, habilidad, n.intimidacion))\n",
    "g.add((staraptor, nombre, Literal('Staraptor')))\n",
    "\n"
   ]
  },
  {
   "cell_type": "markdown",
   "metadata": {},
   "source": [
    "### Labels"
   ]
  },
  {
   "cell_type": "code",
   "execution_count": 35,
   "metadata": {},
   "outputs": [
    {
     "name": "stdout",
     "output_type": "stream",
     "text": [
      "<?xml version=\"1.0\" encoding=\"UTF-8\"?>\n",
      "<rdf:RDF\n",
      "   xmlns:ns1=\"https://pokemon.fandom.com/es/wiki/\"\n",
      "   xmlns:ns2=\"https://pokemon.fandom.com/es/wiki/Tipos_elementales#\"\n",
      "   xmlns:rdf=\"http://www.w3.org/1999/02/22-rdf-syntax-ns#\"\n",
      "   xmlns:rdfs=\"http://www.w3.org/2000/01/rdf-schema#\"\n",
      ">\n",
      "  <rdf:Description rdf:about=\"https://pokemon.fandom.com/es/wiki/evolucion\">\n",
      "    <rdfs:range rdf:resource=\"https://pokemon.fandom.com/es/wiki/pokemon\"/>\n",
      "    <rdfs:domain rdf:resource=\"https://pokemon.fandom.com/es/wiki/pokemon\"/>\n",
      "    <rdfs:subPropertyOf rdf:resource=\"https://pokemon.fandom.com/es/wiki/pantalla_de_datos\"/>\n",
      "    <rdfs:subPropertyOf rdf:resource=\"http://www.w3.org/2000/01/rdf-schema#label\"/>\n",
      "  </rdf:Description>\n",
      "  <rdf:Description rdf:about=\"https://api.pokemon.com/el/pokedex/empoleon\">\n",
      "    <ns1:habilidad rdf:resource=\"https://pokemon.fandom.com/es/wiki/torrente\"/>\n",
      "    <rdf:type rdf:resource=\"https://pokemon.fandom.com/es/wiki/Cuarta_generacion\"/>\n",
      "    <ns1:mote>Empoleon</ns1:mote>\n",
      "    <rdf:type rdf:resource=\"https://pokemon.fandom.com/es/wiki/tipo_acero\"/>\n",
      "    <rdf:type rdf:resource=\"https://pokemon.fandom.com/es/wiki/tipo_agua\"/>\n",
      "  </rdf:Description>\n",
      "  <rdf:Description rdf:about=\"https://api.pokemon.com/el/pokedex/prinplup\">\n",
      "    <rdf:type rdf:resource=\"https://pokemon.fandom.com/es/wiki/tipo_agua\"/>\n",
      "    <ns1:mote>Prinplup</ns1:mote>\n",
      "    <rdf:type rdf:resource=\"https://pokemon.fandom.com/es/wiki/Cuarta_generacion\"/>\n",
      "    <ns1:evolucion rdf:resource=\"https://api.pokemon.com/el/pokedex/empoleon\"/>\n",
      "    <ns1:habilidad rdf:resource=\"https://pokemon.fandom.com/es/wiki/torrente\"/>\n",
      "  </rdf:Description>\n",
      "  <rdf:Description rdf:about=\"https://api.pokemon.com/el/pokedex/starly\">\n",
      "    <ns1:evolucion rdf:resource=\"https://api.pokemon.com/el/pokedex/staravia\"/>\n",
      "    <ns1:mote>Starly</ns1:mote>\n",
      "    <rdf:type rdf:resource=\"https://pokemon.fandom.com/es/wiki/Cuarta_generacion\"/>\n",
      "    <ns1:habilidad rdf:resource=\"https://pokemon.fandom.com/es/wiki/vista_lince\"/>\n",
      "    <rdf:type rdf:resource=\"https://pokemon.fandom.com/es/wiki/tipo_normal\"/>\n",
      "    <rdf:type rdf:resource=\"https://pokemon.fandom.com/es/wiki/tipo_volador\"/>\n",
      "  </rdf:Description>\n",
      "  <rdf:Description rdf:about=\"https://api.pokemon.com/el/pokedex/staraptor\">\n",
      "    <rdf:type rdf:resource=\"https://pokemon.fandom.com/es/wiki/tipo_normal\"/>\n",
      "    <rdf:type rdf:resource=\"https://pokemon.fandom.com/es/wiki/Cuarta_generacion\"/>\n",
      "    <ns1:habilidad rdf:resource=\"https://pokemon.fandom.com/es/wiki/intimidacion\"/>\n",
      "    <ns1:mote>Staraptor</ns1:mote>\n",
      "    <rdf:type rdf:resource=\"https://pokemon.fandom.com/es/wiki/tipo_volador\"/>\n",
      "  </rdf:Description>\n",
      "  <rdf:Description rdf:about=\"https://api.pokemon.com/el/pokedex/piplup\">\n",
      "    <rdf:type rdf:resource=\"https://pokemon.fandom.com/es/wiki/tipo_agua\"/>\n",
      "    <rdf:type rdf:resource=\"https://pokemon.fandom.com/es/wiki/Cuarta_generacion\"/>\n",
      "    <ns1:evolucion rdf:resource=\"https://api.pokemon.com/el/pokedex/prinplup\"/>\n",
      "    <ns1:mote>Piplup</ns1:mote>\n",
      "    <ns1:habilidad rdf:resource=\"https://pokemon.fandom.com/es/wiki/torrente\"/>\n",
      "  </rdf:Description>\n",
      "  <rdf:Description rdf:about=\"https://pokemon.fandom.com/es/wiki/tipo_electrico\">\n",
      "    <ns2:Efectividades_de_los_tipos rdf:resource=\"https://pokemon.fandom.com/es/wiki/volador\"/>\n",
      "    <rdfs:subClassOf rdf:resource=\"https://pokemon.fandom.com/es/wiki/pokemon\"/>\n",
      "    <ns2:Efectividades_de_los_tipos rdf:resource=\"https://pokemon.fandom.com/es/wiki/agua\"/>\n",
      "  </rdf:Description>\n",
      "  <rdf:Description rdf:about=\"https://pokemon.fandom.com/es/wiki/tipo_fuego\">\n",
      "    <ns2:Efectividades_de_los_tipos rdf:resource=\"https://pokemon.fandom.com/es/wiki/acero\"/>\n",
      "    <rdfs:subClassOf rdf:resource=\"https://pokemon.fandom.com/es/wiki/pokemon\"/>\n",
      "    <ns2:Efectividades_de_los_tipos rdf:resource=\"https://pokemon.fandom.com/es/wiki/planta\"/>\n",
      "    <ns2:Efectividades_de_los_tipos rdf:resource=\"https://pokemon.fandom.com/es/wiki/hielo\"/>\n",
      "    <ns2:Efectividades_de_los_tipos rdf:resource=\"https://pokemon.fandom.com/es/wiki/bicho\"/>\n",
      "  </rdf:Description>\n",
      "  <rdf:Description rdf:about=\"https://pokemon.fandom.com/es/wiki/Cuarta_generacion\">\n",
      "    <rdfs:subClassOf rdf:resource=\"https://pokemon.fandom.com/es/wiki/pokemon\"/>\n",
      "  </rdf:Description>\n",
      "  <rdf:Description rdf:about=\"https://pokemon.fandom.com/es/wiki/tipo_acero\">\n",
      "    <rdfs:subClassOf rdf:resource=\"https://pokemon.fandom.com/es/wiki/pokemon\"/>\n",
      "  </rdf:Description>\n",
      "  <rdf:Description rdf:about=\"https://pokemon.fandom.com/es/wiki/especie\">\n",
      "    <rdfs:subPropertyOf rdf:resource=\"http://www.w3.org/2000/01/rdf-schema#label\"/>\n",
      "    <rdfs:subPropertyOf rdf:resource=\"https://pokemon.fandom.com/es/wiki/pantalla_de_datos\"/>\n",
      "  </rdf:Description>\n",
      "  <rdf:Description rdf:about=\"https://api.pokemon.com/el/pokedex/monferno\">\n",
      "    <rdf:type rdf:resource=\"https://pokemon.fandom.com/es/wiki/tipo_fuego\"/>\n",
      "    <ns1:mote>Monferno</ns1:mote>\n",
      "    <rdf:type rdf:resource=\"https://pokemon.fandom.com/es/wiki/Cuarta_generacion\"/>\n",
      "    <ns1:habilidad rdf:resource=\"https://pokemon.fandom.com/es/wiki/mar_llamas\"/>\n",
      "    <rdf:type rdf:resource=\"https://pokemon.fandom.com/es/wiki/tipo_lucha\"/>\n",
      "    <ns1:evolucion rdf:resource=\"https://api.pokemon.com/el/pokedex/infernape\"/>\n",
      "  </rdf:Description>\n",
      "  <rdf:Description rdf:about=\"https://pokemon.fandom.com/es/wiki/tipo_tierra\">\n",
      "    <ns2:Efectividades_de_los_tipos rdf:resource=\"https://pokemon.fandom.com/es/wiki/tipo_acero\"/>\n",
      "    <rdfs:subClassOf rdf:resource=\"https://pokemon.fandom.com/es/wiki/pokemon\"/>\n",
      "  </rdf:Description>\n",
      "  <rdf:Description rdf:about=\"https://pokemon.fandom.com/es/wiki/tipo_lucha\">\n",
      "    <rdfs:subClassOf rdf:resource=\"https://pokemon.fandom.com/es/wiki/pokemon\"/>\n",
      "  </rdf:Description>\n",
      "  <rdf:Description rdf:about=\"https://pokemon.fandom.com/es/wiki/tipo_volador\">\n",
      "    <rdfs:subClassOf rdf:resource=\"https://pokemon.fandom.com/es/wiki/pokemon\"/>\n",
      "    <ns2:Efectividades_de_los_tipos rdf:resource=\"https://pokemon.fandom.com/es/wiki/bicho\"/>\n",
      "    <ns2:Efectividades_de_los_tipos rdf:resource=\"https://pokemon.fandom.com/es/wiki/planta\"/>\n",
      "    <ns2:Efectividades_de_los_tipos rdf:resource=\"https://pokemon.fandom.com/es/wiki/lucha\"/>\n",
      "  </rdf:Description>\n",
      "  <rdf:Description rdf:about=\"https://pokemon.fandom.com/es/wiki/mote\">\n",
      "    <rdfs:subPropertyOf rdf:resource=\"https://pokemon.fandom.com/es/wiki/pantalla_de_datos\"/>\n",
      "    <rdfs:subPropertyOf rdf:resource=\"http://www.w3.org/2000/01/rdf-schema#label\"/>\n",
      "  </rdf:Description>\n",
      "  <rdf:Description rdf:about=\"https://api.pokemon.com/el/pokedex/staravia\">\n",
      "    <rdf:type rdf:resource=\"https://pokemon.fandom.com/es/wiki/Cuarta_generacion\"/>\n",
      "    <ns1:mote>Staravia</ns1:mote>\n",
      "    <rdf:type rdf:resource=\"https://pokemon.fandom.com/es/wiki/tipo_normal\"/>\n",
      "    <ns1:evolucion rdf:resource=\"https://api.pokemon.com/el/pokedex/staraptor\"/>\n",
      "    <rdf:type rdf:resource=\"https://pokemon.fandom.com/es/wiki/tipo_volador\"/>\n",
      "    <ns1:habilidad rdf:resource=\"https://pokemon.fandom.com/es/wiki/intimidacion\"/>\n",
      "  </rdf:Description>\n",
      "  <rdf:Description rdf:about=\"https://pokemon.fandom.com/es/wiki/tipo_agua\">\n",
      "    <rdfs:subClassOf rdf:resource=\"https://pokemon.fandom.com/es/wiki/pokemon\"/>\n",
      "  </rdf:Description>\n",
      "  <rdf:Description rdf:about=\"https://pokemon.fandom.com/es/wiki/Tipos_elementales#Efectividades_de_los_tipos\">\n",
      "    <rdfs:subPropertyOf rdf:resource=\"http://www.w3.org/2000/01/rdf-schema#label\"/>\n",
      "    <rdfs:subPropertyOf rdf:resource=\"https://pokemon.fandom.com/es/wiki/tipo_electrico\"/>\n",
      "    <rdfs:subPropertyOf rdf:resource=\"https://pokemon.fandom.com/es/wiki/tipo_fuego\"/>\n",
      "  </rdf:Description>\n",
      "  <rdf:Description rdf:about=\"https://pokemon.fandom.com/es/wiki/Primera_generacion\">\n",
      "    <rdfs:subClassOf rdf:resource=\"https://pokemon.fandom.com/es/wiki/pokemon\"/>\n",
      "  </rdf:Description>\n",
      "  <rdf:Description rdf:about=\"https://pokemon.fandom.com/es/wiki/pantalla_de_datos\">\n",
      "    <rdfs:subPropertyOf rdf:resource=\"https://pokemon.fandom.com/es/wiki/pokemon\"/>\n",
      "  </rdf:Description>\n",
      "  <rdf:Description rdf:about=\"https://api.pokemon.com/el/pokedex/chimchar\">\n",
      "    <rdf:type rdf:resource=\"https://pokemon.fandom.com/es/wiki/Cuarta_generacion\"/>\n",
      "    <ns1:evolucion rdf:resource=\"https://api.pokemon.com/el/pokedex/monferno\"/>\n",
      "    <ns1:mote>Chimchar</ns1:mote>\n",
      "    <rdf:type rdf:resource=\"https://pokemon.fandom.com/es/wiki/tipo_fuego\"/>\n",
      "    <ns1:habilidad rdf:resource=\"https://pokemon.fandom.com/es/wiki/mar_llamas\"/>\n",
      "  </rdf:Description>\n",
      "  <rdf:Description rdf:about=\"https://api.pokemon.com/el/pokedex/infernape\">\n",
      "    <rdf:type rdf:resource=\"https://pokemon.fandom.com/es/wiki/Cuarta_generacion\"/>\n",
      "    <rdf:type rdf:resource=\"https://pokemon.fandom.com/es/wiki/tipo_lucha\"/>\n",
      "    <rdf:type rdf:resource=\"https://pokemon.fandom.com/es/wiki/tipo_fuego\"/>\n",
      "    <ns1:mote>Infernape</ns1:mote>\n",
      "    <ns1:habilidad rdf:resource=\"https://pokemon.fandom.com/es/wiki/mar_llamas\"/>\n",
      "  </rdf:Description>\n",
      "  <rdf:Description rdf:about=\"https://pokemon.fandom.com/es/wiki/tipo_bicho\">\n",
      "    <rdfs:subClassOf rdf:resource=\"https://pokemon.fandom.com/es/wiki/pokemon\"/>\n",
      "  </rdf:Description>\n",
      "  <rdf:Description rdf:about=\"https://pokemon.fandom.com/es/wiki/habilidad\">\n",
      "    <rdfs:subPropertyOf rdf:resource=\"http://www.w3.org/2000/01/rdf-schema#label\"/>\n",
      "    <rdfs:subPropertyOf rdf:resource=\"https://pokemon.fandom.com/es/wiki/pantalla_de_datos\"/>\n",
      "  </rdf:Description>\n",
      "  <rdf:Description rdf:about=\"https://pokemon.fandom.com/es/wiki/tipo_veneno\">\n",
      "    <rdfs:subClassOf rdf:resource=\"https://pokemon.fandom.com/es/wiki/pokemon\"/>\n",
      "  </rdf:Description>\n",
      "  <rdf:Description rdf:about=\"https://pokemon.fandom.com/es/wiki/tipo_planta\">\n",
      "    <rdfs:subClassOf rdf:resource=\"https://pokemon.fandom.com/es/wiki/pokemon\"/>\n",
      "  </rdf:Description>\n",
      "  <rdf:Description rdf:about=\"https://pokemon.fandom.com/es/wiki/Segunda_generacion\">\n",
      "    <rdfs:subClassOf rdf:resource=\"https://pokemon.fandom.com/es/wiki/pokemon\"/>\n",
      "  </rdf:Description>\n",
      "  <rdf:Description rdf:about=\"https://pokemon.fandom.com/es/wiki/Tercera_generacion\">\n",
      "    <rdfs:subClassOf rdf:resource=\"https://pokemon.fandom.com/es/wiki/pokemon\"/>\n",
      "  </rdf:Description>\n",
      "</rdf:RDF>\n",
      "\n"
     ]
    }
   ],
   "source": [
    "print(g.serialize(format=\"xml\").decode(\"utf-8\"))"
   ]
  },
  {
   "cell_type": "markdown",
   "metadata": {},
   "source": [
    "# Inferencias"
   ]
  },
  {
   "cell_type": "code",
   "execution_count": null,
   "metadata": {},
   "outputs": [],
   "source": []
  }
 ],
 "metadata": {
  "colab": {
   "authorship_tag": "ABX9TyP1ntWpwMOVDBFEk4DvcseU",
   "include_colab_link": true,
   "name": "Pokemon-PC1.ipynb",
   "provenance": []
  },
  "kernelspec": {
   "display_name": "Python 3",
   "language": "python",
   "name": "python3"
  },
  "language_info": {
   "codemirror_mode": {
    "name": "ipython",
    "version": 3
   },
   "file_extension": ".py",
   "mimetype": "text/x-python",
   "name": "python",
   "nbconvert_exporter": "python",
   "pygments_lexer": "ipython3",
   "version": "3.8.5"
  }
 },
 "nbformat": 4,
 "nbformat_minor": 1
}
