{
  "nbformat": 4,
  "nbformat_minor": 0,
  "metadata": {
    "colab": {
      "name": "Pokemon_PC1.ipynb",
      "provenance": [],
      "collapsed_sections": []
    },
    "kernelspec": {
      "display_name": "Python 3",
      "language": "python",
      "name": "python3"
    },
    "language_info": {
      "codemirror_mode": {
        "name": "ipython",
        "version": 3
      },
      "file_extension": ".py",
      "mimetype": "text/x-python",
      "name": "python",
      "nbconvert_exporter": "python",
      "pygments_lexer": "ipython3",
      "version": "3.9.1"
    }
  },
  "cells": [
    {
      "cell_type": "markdown",
      "metadata": {
        "id": "view-in-github"
      },
      "source": [
        "<a href=\"https://colab.research.google.com/github/FRD898/CC421-IA-PC1-Grupo8/blob/main/Pokemon_PC1.ipynb\" target=\"_parent\"><img src=\"https://colab.research.google.com/assets/colab-badge.svg\" alt=\"Open In Colab\"/></a>"
      ]
    },
    {
      "cell_type": "code",
      "metadata": {
        "colab": {
          "base_uri": "https://localhost:8080/"
        },
        "id": "yOdPUbFzh6dm",
        "outputId": "a2f42293-6eeb-431c-8018-c9915533a13f"
      },
      "source": [
        "!pip install rdflib"
      ],
      "execution_count": 1,
      "outputs": [
        {
          "output_type": "stream",
          "text": [
            "Collecting rdflib\n",
            "\u001b[?25l  Downloading https://files.pythonhosted.org/packages/d0/6b/6454aa1db753c0f8bc265a5bd5c10b5721a4bb24160fb4faf758cf6be8a1/rdflib-5.0.0-py3-none-any.whl (231kB)\n",
            "\r\u001b[K     |█▍                              | 10kB 14.6MB/s eta 0:00:01\r\u001b[K     |██▉                             | 20kB 13.1MB/s eta 0:00:01\r\u001b[K     |████▎                           | 30kB 10.0MB/s eta 0:00:01\r\u001b[K     |█████▊                          | 40kB 8.1MB/s eta 0:00:01\r\u001b[K     |███████                         | 51kB 5.5MB/s eta 0:00:01\r\u001b[K     |████████▌                       | 61kB 5.9MB/s eta 0:00:01\r\u001b[K     |██████████                      | 71kB 6.1MB/s eta 0:00:01\r\u001b[K     |███████████▍                    | 81kB 6.7MB/s eta 0:00:01\r\u001b[K     |████████████▊                   | 92kB 6.3MB/s eta 0:00:01\r\u001b[K     |██████████████▏                 | 102kB 6.8MB/s eta 0:00:01\r\u001b[K     |███████████████▋                | 112kB 6.8MB/s eta 0:00:01\r\u001b[K     |█████████████████               | 122kB 6.8MB/s eta 0:00:01\r\u001b[K     |██████████████████▍             | 133kB 6.8MB/s eta 0:00:01\r\u001b[K     |███████████████████▉            | 143kB 6.8MB/s eta 0:00:01\r\u001b[K     |█████████████████████▎          | 153kB 6.8MB/s eta 0:00:01\r\u001b[K     |██████████████████████▊         | 163kB 6.8MB/s eta 0:00:01\r\u001b[K     |████████████████████████        | 174kB 6.8MB/s eta 0:00:01\r\u001b[K     |█████████████████████████▌      | 184kB 6.8MB/s eta 0:00:01\r\u001b[K     |███████████████████████████     | 194kB 6.8MB/s eta 0:00:01\r\u001b[K     |████████████████████████████▍   | 204kB 6.8MB/s eta 0:00:01\r\u001b[K     |█████████████████████████████▉  | 215kB 6.8MB/s eta 0:00:01\r\u001b[K     |███████████████████████████████▏| 225kB 6.8MB/s eta 0:00:01\r\u001b[K     |████████████████████████████████| 235kB 6.8MB/s \n",
            "\u001b[?25hRequirement already satisfied: pyparsing in /usr/local/lib/python3.7/dist-packages (from rdflib) (2.4.7)\n",
            "Requirement already satisfied: six in /usr/local/lib/python3.7/dist-packages (from rdflib) (1.15.0)\n",
            "Collecting isodate\n",
            "\u001b[?25l  Downloading https://files.pythonhosted.org/packages/9b/9f/b36f7774ff5ea8e428fdcfc4bb332c39ee5b9362ddd3d40d9516a55221b2/isodate-0.6.0-py2.py3-none-any.whl (45kB)\n",
            "\u001b[K     |████████████████████████████████| 51kB 5.0MB/s \n",
            "\u001b[?25hInstalling collected packages: isodate, rdflib\n",
            "Successfully installed isodate-0.6.0 rdflib-5.0.0\n"
          ],
          "name": "stdout"
        }
      ]
    },
    {
      "cell_type": "code",
      "metadata": {
        "id": "iwNsx18MgtUJ"
      },
      "source": [
        "from rdflib import URIRef, BNode, Literal\n",
        "from rdflib import Namespace\n",
        "from rdflib.namespace import RDF, RDFS\n",
        "from rdflib import ConjunctiveGraph\n",
        "import pprint"
      ],
      "execution_count": 2,
      "outputs": []
    },
    {
      "cell_type": "markdown",
      "metadata": {
        "id": "_t0SXiWVxgkb"
      },
      "source": [
        "## Ingresando  todas las URIREF"
      ]
    },
    {
      "cell_type": "code",
      "metadata": {
        "id": "GBiTKfeLgtUM"
      },
      "source": [
        "charmander = URIRef(\"https://api.pokemon.com/el/pokedex/charmander\")\n",
        "charmeleon = URIRef(\"https://api.pokemon.com/el/pokedex/charmeleon\")\n",
        "charizard = URIRef(\"https://api.pokemon.com/el/pokedex/charizard\")\n",
        "\n",
        "pichu = URIRef(\"https://api.pokemon.com/el/pokedex/pichu\")\n",
        "pikachu = URIRef(\"https://api.pokemon.com/el/pokedex/pikachu\")\n",
        "raichu = URIRef(\"https://api.pokemon.com/el/pokedex/raichu\")\n",
        "\n",
        "torchic = URIRef(\"https://api.pokemon.com/el/pokedex/torchic\")\n",
        "combusken = URIRef(\"https://api.pokemon.com/el/pokedex/combusken\")\n",
        "blaziken = URIRef(\"https://api.pokemon.com/el/pokedex/blaziken\")\n",
        "\n",
        "regice = URIRef(\"https://api.pokemon.com/el/pokedex/regice\")\n",
        "\n",
        "bagon = URIRef(\"https://api.pokemon.com/el/pokedex/bagon\")\n",
        "shelgon = URIRef(\"https://api.pokemon.com/el/pokedex/Shelgon\")\n",
        "salamence = URIRef(\"https://api.pokemon.com/el/pokedex/https://api.pokemon.com/el/pokedex/Salamence\")\n",
        "\n",
        "\n",
        "pokemon = URIRef(\"https://pokemon.fandom.com/es/wiki/Pok%C3%A9mon#.C2.BFQu.C3.A9_son_los_Pok.C3.A9mon.3F\")\n",
        "generaciones = URIRef(\"https://pokemon.fandom.com/es/wiki/Generaciones_Pokémon\")\n",
        "efectividad = URIRef(\"https://pokemon.fandom.com/es/wiki/Tipos_elementales#Efectividades_de_los_tipos\")\n",
        "\n"
      ],
      "execution_count": 3,
      "outputs": []
    },
    {
      "cell_type": "markdown",
      "metadata": {
        "id": "AGd3pqS6gtUO"
      },
      "source": [
        "## Namespace "
      ]
    },
    {
      "cell_type": "code",
      "metadata": {
        "id": "-GeASpTZgtUP"
      },
      "source": [
        "n = Namespace(\"https://pokemon.fandom.com/es/wiki/\")\n"
      ],
      "execution_count": 4,
      "outputs": []
    },
    {
      "cell_type": "code",
      "metadata": {
        "id": "pPS7krQKgtUQ"
      },
      "source": [
        "g = ConjunctiveGraph()"
      ],
      "execution_count": 5,
      "outputs": []
    },
    {
      "cell_type": "markdown",
      "metadata": {
        "id": "GpH9GVV2gtUQ"
      },
      "source": [
        "## URI Caracteristicas"
      ]
    },
    {
      "cell_type": "code",
      "metadata": {
        "id": "9KmPQFxRgtUR"
      },
      "source": [
        "caracteristicas= n.pantalla_de_datos\n",
        "nombre = n.mote\n",
        "habilidad = n.habilidad\n",
        "especie = n.especie\n",
        "evolucion = n.evolucion\n",
        "g.add((nombre, RDFS.subPropertyOf, RDFS.label))\n",
        "g.add((habilidad, RDFS.subPropertyOf, RDFS.label))\n",
        "g.add((especie, RDFS.subPropertyOf, RDFS.label))\n",
        "g.add((evolucion, RDFS.subPropertyOf, RDFS.label))\n",
        "\n",
        "g.add((efectividad, RDFS.subPropertyOf, RDFS.label))\n",
        "\n",
        "#habilidad = URIRef(\"https://pokemon.fandom.com/es/wiki/Habilidad\")\n",
        "#especie = URIRef(\"https://pokemon.fandom.com/es/wiki/Especie\")\n",
        "#evoluciona_a = URIRef(\"https://pokemon.fandom.com/es/wiki/Evolucion\")\n",
        "\n"
      ],
      "execution_count": 6,
      "outputs": []
    },
    {
      "cell_type": "markdown",
      "metadata": {
        "id": "-ldbeG_-gtUS"
      },
      "source": [
        "## Subclases de Pokemon"
      ]
    },
    {
      "cell_type": "code",
      "metadata": {
        "id": "y1NUzQg9gtUS"
      },
      "source": [
        "#Subclases por tipo de elemento\n",
        "g.add((n.tipo_tierra, RDFS.subClassOf, n.pokemon))\n",
        "g.add((n.tipo_tierra, efectividad, n.tipo_acero))\n",
        "\n",
        "g.add((n.tipo_agua, RDFS.subClassOf, n.pokemon))\n",
        "\n",
        "g.add((n.tipo_planta, RDFS.subClassOf, n.pokemon))\n",
        "\n",
        "g.add((n.tipo_fuego, RDFS.subClassOf, n.pokemon))\n",
        "g.add((n.tipo_fuego, efectividad, n.acero))\n",
        "g.add((n.tipo_fuego, efectividad, n.bicho))\n",
        "g.add((n.tipo_fuego, efectividad, n.planta))\n",
        "g.add((n.tipo_fuego, efectividad, n.hielo))\n",
        "\n",
        "g.add((n.tipo_electrico, RDFS.subClassOf, n.pokemon))\n",
        "g.add((n.tipo_electrico, efectividad, n.agua))\n",
        "g.add((n.tipo_electrico, efectividad, n.volador))\n",
        "\n",
        "g.add((n.tipo_volador, RDFS.subClassOf, n.pokemon))\n",
        "g.add((n.tipo_volador, efectividad, n.bicho))\n",
        "g.add((n.tipo_volador, efectividad, n.lucha))\n",
        "g.add((n.tipo_volador, efectividad, n.planta))\n",
        "\n",
        "g.add((n.tipo_bicho, RDFS.subClassOf, n.pokemon))\n",
        "\n",
        "g.add((n.tipo_veneno, RDFS.subClassOf, n.pokemon))\n",
        "\n",
        "g.add((n.tipo_planta, RDFS.subClassOf, n.pokemon))\n",
        "\n",
        "g.add((n.tipo_lucha, RDFS.subClassOf, n.pokemon))\n",
        "\n",
        "g.add((n.tipo_hielo, RDFS.subClassOf, n.pokemon))\n",
        "\n",
        "g.add((n.tipo_dragon, RDFS.subClassOf, n.pokemon))\n",
        "\n",
        "\n",
        "\n",
        "#subclases por generación\n",
        "g.add((n.primera_generacion, RDFS.subClassOf, n.pokemon))\n",
        "g.add((n.segunda_generacion, RDFS.subClassOf, n.pokemon))\n",
        "g.add((n.tercera_generacion, RDFS.subClassOf, n.pokemon))\n",
        "g.add((n.cuarta_generacion, RDFS.subClassOf, n.pokemon))\n"
      ],
      "execution_count": 7,
      "outputs": []
    },
    {
      "cell_type": "markdown",
      "metadata": {
        "id": "Y88Jo7BHgtUT"
      },
      "source": [
        "## Properties"
      ]
    },
    {
      "cell_type": "code",
      "metadata": {
        "id": "yxkKH8g5gtUT"
      },
      "source": [
        "g.add((caracteristicas, RDFS.subPropertyOf, n.pokemon))\n",
        "\n",
        "g.add((nombre, RDFS.subPropertyOf, caracteristicas))\n",
        "g.add((habilidad, RDFS.subPropertyOf, caracteristicas))\n",
        "g.add((especie, RDFS.subPropertyOf, caracteristicas))\n",
        "\n",
        "g.add((evolucion, RDFS.subPropertyOf, caracteristicas))\n",
        "g.add((evolucion, RDFS.domain, n.pokemon))\n",
        "g.add((evolucion, RDFS.range, n.pokemon))\n",
        "\n",
        "g.add((efectividad, RDFS.subPropertyOf, n.tipo_fuego))\n",
        "g.add((efectividad, RDFS.subPropertyOf, n.tipo_electrico))\n"
      ],
      "execution_count": 8,
      "outputs": []
    },
    {
      "cell_type": "markdown",
      "metadata": {
        "id": "sILjjuNzgtUU"
      },
      "source": [
        "### Instancias de pokemon"
      ]
    },
    {
      "cell_type": "code",
      "metadata": {
        "id": "gT0dUjU3gtUU"
      },
      "source": [
        "g.add((charmander, RDF.type, n.tipo_fuego))\n",
        "g.add((charmander, RDF.type, n.primera_generacion))\n",
        "g.add((charmander, habilidad, n.mar_llamas))\n",
        "g.add((charmander, evolucion, charmeleon))\n",
        "g.add((charmander, nombre, Literal('Charmander')))\n",
        "\n",
        "\n",
        "g.add((charmeleon, RDF.type, n.tipo_fuego))\n",
        "g.add((charmeleon, RDF.type, n.primera_generacion))\n",
        "g.add((charmeleon, habilidad, n.mar_llamas))\n",
        "g.add((charmeleon, evolucion, charizard))\n",
        "g.add((charmeleon, nombre, Literal('Charmeleon')))\n",
        "\n",
        "g.add((charizard, RDF.type, n.tipo_fuego))\n",
        "g.add((charizard, RDF.type, n.tipo_volador))\n",
        "g.add((charizard, RDF.type, n.primera_generacion))\n",
        "g.add((charizard, habilidad, n.mar_llamas))\n",
        "g.add((charizard, nombre, Literal('Charizard')))\n",
        "\n",
        "g.add((pichu, RDF.type, n.tipo_electrico))\n",
        "g.add((pichu, RDF.type, n.primera_generacion))\n",
        "g.add((pichu, habilidad, n.electricidad_estatica))\n",
        "g.add((pichu, evolucion, pikachu))\n",
        "g.add((pichu, nombre, Literal('Pichu')))\n",
        "\n",
        "g.add((pikachu, RDF.type, n.tipo_electrico))\n",
        "g.add((pikachu, RDF.type, n.primera_generacion))\n",
        "g.add((pikachu, habilidad, n.electricidad_estatica))\n",
        "g.add((pikachu, evolucion, raichu))\n",
        "g.add((pikachu, nombre, Literal('Pikachu')))\n",
        "\n",
        "g.add((raichu, RDF.type, n.tipo_electrico))\n",
        "g.add((raichu, RDF.type, n.primera_generacion))\n",
        "g.add((raichu, habilidad, n.electricidad_estatica))\n",
        "g.add((raichu, nombre, Literal('Raichu')))\n",
        "\n",
        "g.add((torchic, RDF.type, n.tipo_fuego))\n",
        "g.add((torchic, RDF.type, n.tercera_generacion))\n",
        "g.add((torchic, habilidad, n.mar_llamas))\n",
        "g.add((torchic, evolucion, combusken))\n",
        "g.add((torchic, nombre, Literal('Torchic')))\n",
        "\n",
        "g.add((combusken, RDF.type, n.tipo_fuego))\n",
        "g.add((combusken, RDF.type, n.tipo_lucha))\n",
        "g.add((combusken, RDF.type, n.tercera_generacion))\n",
        "g.add((combusken, habilidad, n.mar_llamas))\n",
        "g.add((combusken, evolucion, blaziken))\n",
        "g.add((combusken, nombre, Literal('Combusken')))\n",
        "\n",
        "g.add((blaziken, RDF.type, n.tipo_fuego))\n",
        "g.add((blaziken, RDF.type, n.tipo_lucha))\n",
        "g.add((blaziken, RDF.type, n.tercera_generacion))\n",
        "g.add((blaziken, habilidad, n.mar_llamas))\n",
        "g.add((blaziken, nombre, Literal('Blaziken')))\n",
        "\n",
        "g.add((regice, RDF.type, n.tipo_hielo))\n",
        "g.add((regice, RDF.type, n.tercera_generacion))\n",
        "g.add((regice, habilidad, n.cuerpo_puro))\n",
        "g.add((regice, nombre, Literal('Regice')))\n",
        "\n",
        "g.add((bagon, RDF.type, n.tipo_dragon))\n",
        "g.add((bagon, RDF.type, n.tercera_generacion))\n",
        "g.add((bagon, habilidad, n.cabeza_roca))\n",
        "g.add((bagon, evolucion, shelgon))\n",
        "g.add((bagon, nombre, Literal('Bagon')))\n",
        "\n",
        "g.add((shelgon, RDF.type, n.tipo_dragon))\n",
        "g.add((shelgon, RDF.type, n.tercera_generacion))\n",
        "g.add((shelgon, habilidad, n.cabeza_roca))\n",
        "g.add((shelgon, evolucion, salamence))\n",
        "g.add((shelgon, nombre, Literal('Bagon')))\n",
        "\n",
        "g.add((salamence, RDF.type, n.tipo_dragon))\n",
        "g.add((salamence, RDF.type, n.tipo_volador))\n",
        "g.add((salamence, RDF.type, n.tercera_generacion))\n",
        "g.add((salamence, habilidad, n.intimidacion))\n",
        "g.add((salamence, nombre, Literal('Salamence')))\n",
        "\n",
        "\n",
        "\n",
        "\n",
        "\n",
        "\n",
        "\n",
        "\n",
        "\n"
      ],
      "execution_count": 9,
      "outputs": []
    },
    {
      "cell_type": "markdown",
      "metadata": {
        "id": "-7u5auQwgtUV"
      },
      "source": [
        "### Labels"
      ]
    },
    {
      "cell_type": "code",
      "metadata": {
        "id": "oNCtWs8-gtUV"
      },
      "source": [
        "#g.add((nombre, RDFS.subPropertyOf, RDFS.label))\n",
        "#g.add((n.habilidad, RDFS.subPropertyOf, RDFS.label))\n",
        "#g.add((n.categoria, RDFS.subPropertyOf, RDFS.label))\n",
        "#g.add((n.evolucion, RDFS.subPropertyOf, RDFS.label))\n"
      ],
      "execution_count": 10,
      "outputs": []
    },
    {
      "cell_type": "code",
      "metadata": {
        "colab": {
          "base_uri": "https://localhost:8080/"
        },
        "id": "0h58lVhKgtUW",
        "outputId": "b7b516ff-5dbc-4abb-a05a-3e3953150ba5"
      },
      "source": [
        "print(str(g.serialize(format='xml')).replace('\\\\n', ''))"
      ],
      "execution_count": 11,
      "outputs": [
        {
          "output_type": "stream",
          "text": [
            "b'<?xml version=\"1.0\" encoding=\"UTF-8\"?><rdf:RDF   xmlns:ns1=\"https://pokemon.fandom.com/es/wiki/\"   xmlns:ns2=\"https://pokemon.fandom.com/es/wiki/Tipos_elementales#\"   xmlns:rdf=\"http://www.w3.org/1999/02/22-rdf-syntax-ns#\"   xmlns:rdfs=\"http://www.w3.org/2000/01/rdf-schema#\">  <rdf:Description rdf:about=\"https://api.pokemon.com/el/pokedex/regice\">    <rdf:type rdf:resource=\"https://pokemon.fandom.com/es/wiki/tipo_hielo\"/>    <ns1:mote>Regice</ns1:mote>    <rdf:type rdf:resource=\"https://pokemon.fandom.com/es/wiki/tercera_generacion\"/>    <ns1:habilidad rdf:resource=\"https://pokemon.fandom.com/es/wiki/cuerpo_puro\"/>  </rdf:Description>  <rdf:Description rdf:about=\"https://pokemon.fandom.com/es/wiki/cuarta_generacion\">    <rdfs:subClassOf rdf:resource=\"https://pokemon.fandom.com/es/wiki/pokemon\"/>  </rdf:Description>  <rdf:Description rdf:about=\"https://api.pokemon.com/el/pokedex/blaziken\">    <ns1:habilidad rdf:resource=\"https://pokemon.fandom.com/es/wiki/mar_llamas\"/>    <rdf:type rdf:resource=\"https://pokemon.fandom.com/es/wiki/tercera_generacion\"/>    <rdf:type rdf:resource=\"https://pokemon.fandom.com/es/wiki/tipo_lucha\"/>    <ns1:mote>Blaziken</ns1:mote>    <rdf:type rdf:resource=\"https://pokemon.fandom.com/es/wiki/tipo_fuego\"/>  </rdf:Description>  <rdf:Description rdf:about=\"https://pokemon.fandom.com/es/wiki/primera_generacion\">    <rdfs:subClassOf rdf:resource=\"https://pokemon.fandom.com/es/wiki/pokemon\"/>  </rdf:Description>  <rdf:Description rdf:about=\"https://pokemon.fandom.com/es/wiki/tipo_hielo\">    <rdfs:subClassOf rdf:resource=\"https://pokemon.fandom.com/es/wiki/pokemon\"/>  </rdf:Description>  <rdf:Description rdf:about=\"https://api.pokemon.com/el/pokedex/combusken\">    <rdf:type rdf:resource=\"https://pokemon.fandom.com/es/wiki/tipo_lucha\"/>    <rdf:type rdf:resource=\"https://pokemon.fandom.com/es/wiki/tercera_generacion\"/>    <ns1:mote>Combusken</ns1:mote>    <rdf:type rdf:resource=\"https://pokemon.fandom.com/es/wiki/tipo_fuego\"/>    <ns1:evolucion rdf:resource=\"https://api.pokemon.com/el/pokedex/blaziken\"/>    <ns1:habilidad rdf:resource=\"https://pokemon.fandom.com/es/wiki/mar_llamas\"/>  </rdf:Description>  <rdf:Description rdf:about=\"https://api.pokemon.com/el/pokedex/raichu\">    <rdf:type rdf:resource=\"https://pokemon.fandom.com/es/wiki/tipo_electrico\"/>    <ns1:habilidad rdf:resource=\"https://pokemon.fandom.com/es/wiki/electricidad_estatica\"/>    <ns1:mote>Raichu</ns1:mote>    <rdf:type rdf:resource=\"https://pokemon.fandom.com/es/wiki/primera_generacion\"/>  </rdf:Description>  <rdf:Description rdf:about=\"https://api.pokemon.com/el/pokedex/bagon\">    <rdf:type rdf:resource=\"https://pokemon.fandom.com/es/wiki/tercera_generacion\"/>    <ns1:habilidad rdf:resource=\"https://pokemon.fandom.com/es/wiki/cabeza_roca\"/>    <rdf:type rdf:resource=\"https://pokemon.fandom.com/es/wiki/tipo_dragon\"/>    <ns1:mote>Bagon</ns1:mote>    <ns1:evolucion rdf:resource=\"https://api.pokemon.com/el/pokedex/Shelgon\"/>  </rdf:Description>  <rdf:Description rdf:about=\"https://pokemon.fandom.com/es/wiki/evolucion\">    <rdfs:subPropertyOf rdf:resource=\"https://pokemon.fandom.com/es/wiki/pantalla_de_datos\"/>    <rdfs:subPropertyOf rdf:resource=\"http://www.w3.org/2000/01/rdf-schema#label\"/>    <rdfs:range rdf:resource=\"https://pokemon.fandom.com/es/wiki/pokemon\"/>    <rdfs:domain rdf:resource=\"https://pokemon.fandom.com/es/wiki/pokemon\"/>  </rdf:Description>  <rdf:Description rdf:about=\"https://api.pokemon.com/el/pokedex/pikachu\">    <ns1:mote>Pikachu</ns1:mote>    <ns1:habilidad rdf:resource=\"https://pokemon.fandom.com/es/wiki/electricidad_estatica\"/>    <rdf:type rdf:resource=\"https://pokemon.fandom.com/es/wiki/tipo_electrico\"/>    <ns1:evolucion rdf:resource=\"https://api.pokemon.com/el/pokedex/raichu\"/>    <rdf:type rdf:resource=\"https://pokemon.fandom.com/es/wiki/primera_generacion\"/>  </rdf:Description>  <rdf:Description rdf:about=\"https://pokemon.fandom.com/es/wiki/segunda_generacion\">    <rdfs:subClassOf rdf:resource=\"https://pokemon.fandom.com/es/wiki/pokemon\"/>  </rdf:Description>  <rdf:Description rdf:about=\"https://api.pokemon.com/el/pokedex/Shelgon\">    <rdf:type rdf:resource=\"https://pokemon.fandom.com/es/wiki/tercera_generacion\"/>    <rdf:type rdf:resource=\"https://pokemon.fandom.com/es/wiki/tipo_dragon\"/>    <ns1:habilidad rdf:resource=\"https://pokemon.fandom.com/es/wiki/cabeza_roca\"/>    <ns1:evolucion rdf:resource=\"https://api.pokemon.com/el/pokedex/https://api.pokemon.com/el/pokedex/Salamence\"/>    <ns1:mote>Bagon</ns1:mote>  </rdf:Description>  <rdf:Description rdf:about=\"https://pokemon.fandom.com/es/wiki/tipo_volador\">    <ns2:Efectividades_de_los_tipos rdf:resource=\"https://pokemon.fandom.com/es/wiki/bicho\"/>    <ns2:Efectividades_de_los_tipos rdf:resource=\"https://pokemon.fandom.com/es/wiki/lucha\"/>    <rdfs:subClassOf rdf:resource=\"https://pokemon.fandom.com/es/wiki/pokemon\"/>    <ns2:Efectividades_de_los_tipos rdf:resource=\"https://pokemon.fandom.com/es/wiki/planta\"/>  </rdf:Description>  <rdf:Description rdf:about=\"https://api.pokemon.com/el/pokedex/torchic\">    <ns1:evolucion rdf:resource=\"https://api.pokemon.com/el/pokedex/combusken\"/>    <rdf:type rdf:resource=\"https://pokemon.fandom.com/es/wiki/tipo_fuego\"/>    <ns1:mote>Torchic</ns1:mote>    <rdf:type rdf:resource=\"https://pokemon.fandom.com/es/wiki/tercera_generacion\"/>    <ns1:habilidad rdf:resource=\"https://pokemon.fandom.com/es/wiki/mar_llamas\"/>  </rdf:Description>  <rdf:Description rdf:about=\"https://pokemon.fandom.com/es/wiki/tipo_lucha\">    <rdfs:subClassOf rdf:resource=\"https://pokemon.fandom.com/es/wiki/pokemon\"/>  </rdf:Description>  <rdf:Description rdf:about=\"https://pokemon.fandom.com/es/wiki/tipo_tierra\">    <rdfs:subClassOf rdf:resource=\"https://pokemon.fandom.com/es/wiki/pokemon\"/>    <ns2:Efectividades_de_los_tipos rdf:resource=\"https://pokemon.fandom.com/es/wiki/tipo_acero\"/>  </rdf:Description>  <rdf:Description rdf:about=\"https://pokemon.fandom.com/es/wiki/tipo_electrico\">    <ns2:Efectividades_de_los_tipos rdf:resource=\"https://pokemon.fandom.com/es/wiki/volador\"/>    <ns2:Efectividades_de_los_tipos rdf:resource=\"https://pokemon.fandom.com/es/wiki/agua\"/>    <rdfs:subClassOf rdf:resource=\"https://pokemon.fandom.com/es/wiki/pokemon\"/>  </rdf:Description>  <rdf:Description rdf:about=\"https://api.pokemon.com/el/pokedex/https://api.pokemon.com/el/pokedex/Salamence\">    <ns1:habilidad rdf:resource=\"https://pokemon.fandom.com/es/wiki/intimidacion\"/>    <rdf:type rdf:resource=\"https://pokemon.fandom.com/es/wiki/tipo_dragon\"/>    <rdf:type rdf:resource=\"https://pokemon.fandom.com/es/wiki/tercera_generacion\"/>    <rdf:type rdf:resource=\"https://pokemon.fandom.com/es/wiki/tipo_volador\"/>    <ns1:mote>Salamence</ns1:mote>  </rdf:Description>  <rdf:Description rdf:about=\"https://api.pokemon.com/el/pokedex/charizard\">    <rdf:type rdf:resource=\"https://pokemon.fandom.com/es/wiki/tipo_fuego\"/>    <ns1:mote>Charizard</ns1:mote>    <rdf:type rdf:resource=\"https://pokemon.fandom.com/es/wiki/primera_generacion\"/>    <rdf:type rdf:resource=\"https://pokemon.fandom.com/es/wiki/tipo_volador\"/>    <ns1:habilidad rdf:resource=\"https://pokemon.fandom.com/es/wiki/mar_llamas\"/>  </rdf:Description>  <rdf:Description rdf:about=\"https://api.pokemon.com/el/pokedex/charmeleon\">    <rdf:type rdf:resource=\"https://pokemon.fandom.com/es/wiki/tipo_fuego\"/>    <ns1:evolucion rdf:resource=\"https://api.pokemon.com/el/pokedex/charizard\"/>    <rdf:type rdf:resource=\"https://pokemon.fandom.com/es/wiki/primera_generacion\"/>    <ns1:mote>Charmeleon</ns1:mote>    <ns1:habilidad rdf:resource=\"https://pokemon.fandom.com/es/wiki/mar_llamas\"/>  </rdf:Description>  <rdf:Description rdf:about=\"https://api.pokemon.com/el/pokedex/pichu\">    <ns1:habilidad rdf:resource=\"https://pokemon.fandom.com/es/wiki/electricidad_estatica\"/>    <rdf:type rdf:resource=\"https://pokemon.fandom.com/es/wiki/tipo_electrico\"/>    <rdf:type rdf:resource=\"https://pokemon.fandom.com/es/wiki/primera_generacion\"/>    <ns1:evolucion rdf:resource=\"https://api.pokemon.com/el/pokedex/pikachu\"/>    <ns1:mote>Pichu</ns1:mote>  </rdf:Description>  <rdf:Description rdf:about=\"https://pokemon.fandom.com/es/wiki/especie\">    <rdfs:subPropertyOf rdf:resource=\"https://pokemon.fandom.com/es/wiki/pantalla_de_datos\"/>    <rdfs:subPropertyOf rdf:resource=\"http://www.w3.org/2000/01/rdf-schema#label\"/>  </rdf:Description>  <rdf:Description rdf:about=\"https://pokemon.fandom.com/es/wiki/mote\">    <rdfs:subPropertyOf rdf:resource=\"http://www.w3.org/2000/01/rdf-schema#label\"/>    <rdfs:subPropertyOf rdf:resource=\"https://pokemon.fandom.com/es/wiki/pantalla_de_datos\"/>  </rdf:Description>  <rdf:Description rdf:about=\"https://api.pokemon.com/el/pokedex/charmander\">    <rdf:type rdf:resource=\"https://pokemon.fandom.com/es/wiki/primera_generacion\"/>    <rdf:type rdf:resource=\"https://pokemon.fandom.com/es/wiki/tipo_fuego\"/>    <ns1:mote>Charmander</ns1:mote>    <ns1:evolucion rdf:resource=\"https://api.pokemon.com/el/pokedex/charmeleon\"/>    <ns1:habilidad rdf:resource=\"https://pokemon.fandom.com/es/wiki/mar_llamas\"/>  </rdf:Description>  <rdf:Description rdf:about=\"https://pokemon.fandom.com/es/wiki/habilidad\">    <rdfs:subPropertyOf rdf:resource=\"https://pokemon.fandom.com/es/wiki/pantalla_de_datos\"/>    <rdfs:subPropertyOf rdf:resource=\"http://www.w3.org/2000/01/rdf-schema#label\"/>  </rdf:Description>  <rdf:Description rdf:about=\"https://pokemon.fandom.com/es/wiki/tipo_planta\">    <rdfs:subClassOf rdf:resource=\"https://pokemon.fandom.com/es/wiki/pokemon\"/>  </rdf:Description>  <rdf:Description rdf:about=\"https://pokemon.fandom.com/es/wiki/Tipos_elementales#Efectividades_de_los_tipos\">    <rdfs:subPropertyOf rdf:resource=\"http://www.w3.org/2000/01/rdf-schema#label\"/>    <rdfs:subPropertyOf rdf:resource=\"https://pokemon.fandom.com/es/wiki/tipo_fuego\"/>    <rdfs:subPropertyOf rdf:resource=\"https://pokemon.fandom.com/es/wiki/tipo_electrico\"/>  </rdf:Description>  <rdf:Description rdf:about=\"https://pokemon.fandom.com/es/wiki/tipo_fuego\">    <ns2:Efectividades_de_los_tipos rdf:resource=\"https://pokemon.fandom.com/es/wiki/bicho\"/>    <ns2:Efectividades_de_los_tipos rdf:resource=\"https://pokemon.fandom.com/es/wiki/acero\"/>    <ns2:Efectividades_de_los_tipos rdf:resource=\"https://pokemon.fandom.com/es/wiki/hielo\"/>    <rdfs:subClassOf rdf:resource=\"https://pokemon.fandom.com/es/wiki/pokemon\"/>    <ns2:Efectividades_de_los_tipos rdf:resource=\"https://pokemon.fandom.com/es/wiki/planta\"/>  </rdf:Description>  <rdf:Description rdf:about=\"https://pokemon.fandom.com/es/wiki/tipo_dragon\">    <rdfs:subClassOf rdf:resource=\"https://pokemon.fandom.com/es/wiki/pokemon\"/>  </rdf:Description>  <rdf:Description rdf:about=\"https://pokemon.fandom.com/es/wiki/tipo_veneno\">    <rdfs:subClassOf rdf:resource=\"https://pokemon.fandom.com/es/wiki/pokemon\"/>  </rdf:Description>  <rdf:Description rdf:about=\"https://pokemon.fandom.com/es/wiki/tipo_bicho\">    <rdfs:subClassOf rdf:resource=\"https://pokemon.fandom.com/es/wiki/pokemon\"/>  </rdf:Description>  <rdf:Description rdf:about=\"https://pokemon.fandom.com/es/wiki/tipo_agua\">    <rdfs:subClassOf rdf:resource=\"https://pokemon.fandom.com/es/wiki/pokemon\"/>  </rdf:Description>  <rdf:Description rdf:about=\"https://pokemon.fandom.com/es/wiki/pantalla_de_datos\">    <rdfs:subPropertyOf rdf:resource=\"https://pokemon.fandom.com/es/wiki/pokemon\"/>  </rdf:Description>  <rdf:Description rdf:about=\"https://pokemon.fandom.com/es/wiki/tercera_generacion\">    <rdfs:subClassOf rdf:resource=\"https://pokemon.fandom.com/es/wiki/pokemon\"/>  </rdf:Description></rdf:RDF>'\n"
          ],
          "name": "stdout"
        }
      ]
    },
    {
      "cell_type": "code",
      "metadata": {
        "colab": {
          "base_uri": "https://localhost:8080/"
        },
        "id": "Q2RxChjWgtUW",
        "outputId": "93d71579-bf47-4668-d8cf-8375be45e0ac"
      },
      "source": [
        "texto = str(g.serialize(format=\"xml\", encoding='utf-8').decode())\n",
        "for line in texto.splitlines():\n",
        "    print(line)"
      ],
      "execution_count": 12,
      "outputs": [
        {
          "output_type": "stream",
          "text": [
            "<?xml version=\"1.0\" encoding=\"UTF-8\"?>\n",
            "<rdf:RDF\n",
            "   xmlns:ns1=\"https://pokemon.fandom.com/es/wiki/\"\n",
            "   xmlns:ns2=\"https://pokemon.fandom.com/es/wiki/Tipos_elementales#\"\n",
            "   xmlns:rdf=\"http://www.w3.org/1999/02/22-rdf-syntax-ns#\"\n",
            "   xmlns:rdfs=\"http://www.w3.org/2000/01/rdf-schema#\"\n",
            ">\n",
            "  <rdf:Description rdf:about=\"https://api.pokemon.com/el/pokedex/regice\">\n",
            "    <rdf:type rdf:resource=\"https://pokemon.fandom.com/es/wiki/tipo_hielo\"/>\n",
            "    <ns1:mote>Regice</ns1:mote>\n",
            "    <rdf:type rdf:resource=\"https://pokemon.fandom.com/es/wiki/tercera_generacion\"/>\n",
            "    <ns1:habilidad rdf:resource=\"https://pokemon.fandom.com/es/wiki/cuerpo_puro\"/>\n",
            "  </rdf:Description>\n",
            "  <rdf:Description rdf:about=\"https://pokemon.fandom.com/es/wiki/cuarta_generacion\">\n",
            "    <rdfs:subClassOf rdf:resource=\"https://pokemon.fandom.com/es/wiki/pokemon\"/>\n",
            "  </rdf:Description>\n",
            "  <rdf:Description rdf:about=\"https://api.pokemon.com/el/pokedex/blaziken\">\n",
            "    <ns1:habilidad rdf:resource=\"https://pokemon.fandom.com/es/wiki/mar_llamas\"/>\n",
            "    <rdf:type rdf:resource=\"https://pokemon.fandom.com/es/wiki/tercera_generacion\"/>\n",
            "    <rdf:type rdf:resource=\"https://pokemon.fandom.com/es/wiki/tipo_lucha\"/>\n",
            "    <ns1:mote>Blaziken</ns1:mote>\n",
            "    <rdf:type rdf:resource=\"https://pokemon.fandom.com/es/wiki/tipo_fuego\"/>\n",
            "  </rdf:Description>\n",
            "  <rdf:Description rdf:about=\"https://pokemon.fandom.com/es/wiki/primera_generacion\">\n",
            "    <rdfs:subClassOf rdf:resource=\"https://pokemon.fandom.com/es/wiki/pokemon\"/>\n",
            "  </rdf:Description>\n",
            "  <rdf:Description rdf:about=\"https://pokemon.fandom.com/es/wiki/tipo_hielo\">\n",
            "    <rdfs:subClassOf rdf:resource=\"https://pokemon.fandom.com/es/wiki/pokemon\"/>\n",
            "  </rdf:Description>\n",
            "  <rdf:Description rdf:about=\"https://api.pokemon.com/el/pokedex/combusken\">\n",
            "    <rdf:type rdf:resource=\"https://pokemon.fandom.com/es/wiki/tipo_lucha\"/>\n",
            "    <rdf:type rdf:resource=\"https://pokemon.fandom.com/es/wiki/tercera_generacion\"/>\n",
            "    <ns1:mote>Combusken</ns1:mote>\n",
            "    <rdf:type rdf:resource=\"https://pokemon.fandom.com/es/wiki/tipo_fuego\"/>\n",
            "    <ns1:evolucion rdf:resource=\"https://api.pokemon.com/el/pokedex/blaziken\"/>\n",
            "    <ns1:habilidad rdf:resource=\"https://pokemon.fandom.com/es/wiki/mar_llamas\"/>\n",
            "  </rdf:Description>\n",
            "  <rdf:Description rdf:about=\"https://api.pokemon.com/el/pokedex/raichu\">\n",
            "    <rdf:type rdf:resource=\"https://pokemon.fandom.com/es/wiki/tipo_electrico\"/>\n",
            "    <ns1:habilidad rdf:resource=\"https://pokemon.fandom.com/es/wiki/electricidad_estatica\"/>\n",
            "    <ns1:mote>Raichu</ns1:mote>\n",
            "    <rdf:type rdf:resource=\"https://pokemon.fandom.com/es/wiki/primera_generacion\"/>\n",
            "  </rdf:Description>\n",
            "  <rdf:Description rdf:about=\"https://api.pokemon.com/el/pokedex/bagon\">\n",
            "    <rdf:type rdf:resource=\"https://pokemon.fandom.com/es/wiki/tercera_generacion\"/>\n",
            "    <ns1:habilidad rdf:resource=\"https://pokemon.fandom.com/es/wiki/cabeza_roca\"/>\n",
            "    <rdf:type rdf:resource=\"https://pokemon.fandom.com/es/wiki/tipo_dragon\"/>\n",
            "    <ns1:mote>Bagon</ns1:mote>\n",
            "    <ns1:evolucion rdf:resource=\"https://api.pokemon.com/el/pokedex/Shelgon\"/>\n",
            "  </rdf:Description>\n",
            "  <rdf:Description rdf:about=\"https://pokemon.fandom.com/es/wiki/evolucion\">\n",
            "    <rdfs:subPropertyOf rdf:resource=\"https://pokemon.fandom.com/es/wiki/pantalla_de_datos\"/>\n",
            "    <rdfs:subPropertyOf rdf:resource=\"http://www.w3.org/2000/01/rdf-schema#label\"/>\n",
            "    <rdfs:range rdf:resource=\"https://pokemon.fandom.com/es/wiki/pokemon\"/>\n",
            "    <rdfs:domain rdf:resource=\"https://pokemon.fandom.com/es/wiki/pokemon\"/>\n",
            "  </rdf:Description>\n",
            "  <rdf:Description rdf:about=\"https://api.pokemon.com/el/pokedex/pikachu\">\n",
            "    <ns1:mote>Pikachu</ns1:mote>\n",
            "    <ns1:habilidad rdf:resource=\"https://pokemon.fandom.com/es/wiki/electricidad_estatica\"/>\n",
            "    <rdf:type rdf:resource=\"https://pokemon.fandom.com/es/wiki/tipo_electrico\"/>\n",
            "    <ns1:evolucion rdf:resource=\"https://api.pokemon.com/el/pokedex/raichu\"/>\n",
            "    <rdf:type rdf:resource=\"https://pokemon.fandom.com/es/wiki/primera_generacion\"/>\n",
            "  </rdf:Description>\n",
            "  <rdf:Description rdf:about=\"https://pokemon.fandom.com/es/wiki/segunda_generacion\">\n",
            "    <rdfs:subClassOf rdf:resource=\"https://pokemon.fandom.com/es/wiki/pokemon\"/>\n",
            "  </rdf:Description>\n",
            "  <rdf:Description rdf:about=\"https://api.pokemon.com/el/pokedex/Shelgon\">\n",
            "    <rdf:type rdf:resource=\"https://pokemon.fandom.com/es/wiki/tercera_generacion\"/>\n",
            "    <rdf:type rdf:resource=\"https://pokemon.fandom.com/es/wiki/tipo_dragon\"/>\n",
            "    <ns1:habilidad rdf:resource=\"https://pokemon.fandom.com/es/wiki/cabeza_roca\"/>\n",
            "    <ns1:evolucion rdf:resource=\"https://api.pokemon.com/el/pokedex/https://api.pokemon.com/el/pokedex/Salamence\"/>\n",
            "    <ns1:mote>Bagon</ns1:mote>\n",
            "  </rdf:Description>\n",
            "  <rdf:Description rdf:about=\"https://pokemon.fandom.com/es/wiki/tipo_volador\">\n",
            "    <ns2:Efectividades_de_los_tipos rdf:resource=\"https://pokemon.fandom.com/es/wiki/bicho\"/>\n",
            "    <ns2:Efectividades_de_los_tipos rdf:resource=\"https://pokemon.fandom.com/es/wiki/lucha\"/>\n",
            "    <rdfs:subClassOf rdf:resource=\"https://pokemon.fandom.com/es/wiki/pokemon\"/>\n",
            "    <ns2:Efectividades_de_los_tipos rdf:resource=\"https://pokemon.fandom.com/es/wiki/planta\"/>\n",
            "  </rdf:Description>\n",
            "  <rdf:Description rdf:about=\"https://api.pokemon.com/el/pokedex/torchic\">\n",
            "    <ns1:evolucion rdf:resource=\"https://api.pokemon.com/el/pokedex/combusken\"/>\n",
            "    <rdf:type rdf:resource=\"https://pokemon.fandom.com/es/wiki/tipo_fuego\"/>\n",
            "    <ns1:mote>Torchic</ns1:mote>\n",
            "    <rdf:type rdf:resource=\"https://pokemon.fandom.com/es/wiki/tercera_generacion\"/>\n",
            "    <ns1:habilidad rdf:resource=\"https://pokemon.fandom.com/es/wiki/mar_llamas\"/>\n",
            "  </rdf:Description>\n",
            "  <rdf:Description rdf:about=\"https://pokemon.fandom.com/es/wiki/tipo_lucha\">\n",
            "    <rdfs:subClassOf rdf:resource=\"https://pokemon.fandom.com/es/wiki/pokemon\"/>\n",
            "  </rdf:Description>\n",
            "  <rdf:Description rdf:about=\"https://pokemon.fandom.com/es/wiki/tipo_tierra\">\n",
            "    <rdfs:subClassOf rdf:resource=\"https://pokemon.fandom.com/es/wiki/pokemon\"/>\n",
            "    <ns2:Efectividades_de_los_tipos rdf:resource=\"https://pokemon.fandom.com/es/wiki/tipo_acero\"/>\n",
            "  </rdf:Description>\n",
            "  <rdf:Description rdf:about=\"https://pokemon.fandom.com/es/wiki/tipo_electrico\">\n",
            "    <ns2:Efectividades_de_los_tipos rdf:resource=\"https://pokemon.fandom.com/es/wiki/volador\"/>\n",
            "    <ns2:Efectividades_de_los_tipos rdf:resource=\"https://pokemon.fandom.com/es/wiki/agua\"/>\n",
            "    <rdfs:subClassOf rdf:resource=\"https://pokemon.fandom.com/es/wiki/pokemon\"/>\n",
            "  </rdf:Description>\n",
            "  <rdf:Description rdf:about=\"https://api.pokemon.com/el/pokedex/https://api.pokemon.com/el/pokedex/Salamence\">\n",
            "    <ns1:habilidad rdf:resource=\"https://pokemon.fandom.com/es/wiki/intimidacion\"/>\n",
            "    <rdf:type rdf:resource=\"https://pokemon.fandom.com/es/wiki/tipo_dragon\"/>\n",
            "    <rdf:type rdf:resource=\"https://pokemon.fandom.com/es/wiki/tercera_generacion\"/>\n",
            "    <rdf:type rdf:resource=\"https://pokemon.fandom.com/es/wiki/tipo_volador\"/>\n",
            "    <ns1:mote>Salamence</ns1:mote>\n",
            "  </rdf:Description>\n",
            "  <rdf:Description rdf:about=\"https://api.pokemon.com/el/pokedex/charizard\">\n",
            "    <rdf:type rdf:resource=\"https://pokemon.fandom.com/es/wiki/tipo_fuego\"/>\n",
            "    <ns1:mote>Charizard</ns1:mote>\n",
            "    <rdf:type rdf:resource=\"https://pokemon.fandom.com/es/wiki/primera_generacion\"/>\n",
            "    <rdf:type rdf:resource=\"https://pokemon.fandom.com/es/wiki/tipo_volador\"/>\n",
            "    <ns1:habilidad rdf:resource=\"https://pokemon.fandom.com/es/wiki/mar_llamas\"/>\n",
            "  </rdf:Description>\n",
            "  <rdf:Description rdf:about=\"https://api.pokemon.com/el/pokedex/charmeleon\">\n",
            "    <rdf:type rdf:resource=\"https://pokemon.fandom.com/es/wiki/tipo_fuego\"/>\n",
            "    <ns1:evolucion rdf:resource=\"https://api.pokemon.com/el/pokedex/charizard\"/>\n",
            "    <rdf:type rdf:resource=\"https://pokemon.fandom.com/es/wiki/primera_generacion\"/>\n",
            "    <ns1:mote>Charmeleon</ns1:mote>\n",
            "    <ns1:habilidad rdf:resource=\"https://pokemon.fandom.com/es/wiki/mar_llamas\"/>\n",
            "  </rdf:Description>\n",
            "  <rdf:Description rdf:about=\"https://api.pokemon.com/el/pokedex/pichu\">\n",
            "    <ns1:habilidad rdf:resource=\"https://pokemon.fandom.com/es/wiki/electricidad_estatica\"/>\n",
            "    <rdf:type rdf:resource=\"https://pokemon.fandom.com/es/wiki/tipo_electrico\"/>\n",
            "    <rdf:type rdf:resource=\"https://pokemon.fandom.com/es/wiki/primera_generacion\"/>\n",
            "    <ns1:evolucion rdf:resource=\"https://api.pokemon.com/el/pokedex/pikachu\"/>\n",
            "    <ns1:mote>Pichu</ns1:mote>\n",
            "  </rdf:Description>\n",
            "  <rdf:Description rdf:about=\"https://pokemon.fandom.com/es/wiki/especie\">\n",
            "    <rdfs:subPropertyOf rdf:resource=\"https://pokemon.fandom.com/es/wiki/pantalla_de_datos\"/>\n",
            "    <rdfs:subPropertyOf rdf:resource=\"http://www.w3.org/2000/01/rdf-schema#label\"/>\n",
            "  </rdf:Description>\n",
            "  <rdf:Description rdf:about=\"https://pokemon.fandom.com/es/wiki/mote\">\n",
            "    <rdfs:subPropertyOf rdf:resource=\"http://www.w3.org/2000/01/rdf-schema#label\"/>\n",
            "    <rdfs:subPropertyOf rdf:resource=\"https://pokemon.fandom.com/es/wiki/pantalla_de_datos\"/>\n",
            "  </rdf:Description>\n",
            "  <rdf:Description rdf:about=\"https://api.pokemon.com/el/pokedex/charmander\">\n",
            "    <rdf:type rdf:resource=\"https://pokemon.fandom.com/es/wiki/primera_generacion\"/>\n",
            "    <rdf:type rdf:resource=\"https://pokemon.fandom.com/es/wiki/tipo_fuego\"/>\n",
            "    <ns1:mote>Charmander</ns1:mote>\n",
            "    <ns1:evolucion rdf:resource=\"https://api.pokemon.com/el/pokedex/charmeleon\"/>\n",
            "    <ns1:habilidad rdf:resource=\"https://pokemon.fandom.com/es/wiki/mar_llamas\"/>\n",
            "  </rdf:Description>\n",
            "  <rdf:Description rdf:about=\"https://pokemon.fandom.com/es/wiki/habilidad\">\n",
            "    <rdfs:subPropertyOf rdf:resource=\"https://pokemon.fandom.com/es/wiki/pantalla_de_datos\"/>\n",
            "    <rdfs:subPropertyOf rdf:resource=\"http://www.w3.org/2000/01/rdf-schema#label\"/>\n",
            "  </rdf:Description>\n",
            "  <rdf:Description rdf:about=\"https://pokemon.fandom.com/es/wiki/tipo_planta\">\n",
            "    <rdfs:subClassOf rdf:resource=\"https://pokemon.fandom.com/es/wiki/pokemon\"/>\n",
            "  </rdf:Description>\n",
            "  <rdf:Description rdf:about=\"https://pokemon.fandom.com/es/wiki/Tipos_elementales#Efectividades_de_los_tipos\">\n",
            "    <rdfs:subPropertyOf rdf:resource=\"http://www.w3.org/2000/01/rdf-schema#label\"/>\n",
            "    <rdfs:subPropertyOf rdf:resource=\"https://pokemon.fandom.com/es/wiki/tipo_fuego\"/>\n",
            "    <rdfs:subPropertyOf rdf:resource=\"https://pokemon.fandom.com/es/wiki/tipo_electrico\"/>\n",
            "  </rdf:Description>\n",
            "  <rdf:Description rdf:about=\"https://pokemon.fandom.com/es/wiki/tipo_fuego\">\n",
            "    <ns2:Efectividades_de_los_tipos rdf:resource=\"https://pokemon.fandom.com/es/wiki/bicho\"/>\n",
            "    <ns2:Efectividades_de_los_tipos rdf:resource=\"https://pokemon.fandom.com/es/wiki/acero\"/>\n",
            "    <ns2:Efectividades_de_los_tipos rdf:resource=\"https://pokemon.fandom.com/es/wiki/hielo\"/>\n",
            "    <rdfs:subClassOf rdf:resource=\"https://pokemon.fandom.com/es/wiki/pokemon\"/>\n",
            "    <ns2:Efectividades_de_los_tipos rdf:resource=\"https://pokemon.fandom.com/es/wiki/planta\"/>\n",
            "  </rdf:Description>\n",
            "  <rdf:Description rdf:about=\"https://pokemon.fandom.com/es/wiki/tipo_dragon\">\n",
            "    <rdfs:subClassOf rdf:resource=\"https://pokemon.fandom.com/es/wiki/pokemon\"/>\n",
            "  </rdf:Description>\n",
            "  <rdf:Description rdf:about=\"https://pokemon.fandom.com/es/wiki/tipo_veneno\">\n",
            "    <rdfs:subClassOf rdf:resource=\"https://pokemon.fandom.com/es/wiki/pokemon\"/>\n",
            "  </rdf:Description>\n",
            "  <rdf:Description rdf:about=\"https://pokemon.fandom.com/es/wiki/tipo_bicho\">\n",
            "    <rdfs:subClassOf rdf:resource=\"https://pokemon.fandom.com/es/wiki/pokemon\"/>\n",
            "  </rdf:Description>\n",
            "  <rdf:Description rdf:about=\"https://pokemon.fandom.com/es/wiki/tipo_agua\">\n",
            "    <rdfs:subClassOf rdf:resource=\"https://pokemon.fandom.com/es/wiki/pokemon\"/>\n",
            "  </rdf:Description>\n",
            "  <rdf:Description rdf:about=\"https://pokemon.fandom.com/es/wiki/pantalla_de_datos\">\n",
            "    <rdfs:subPropertyOf rdf:resource=\"https://pokemon.fandom.com/es/wiki/pokemon\"/>\n",
            "  </rdf:Description>\n",
            "  <rdf:Description rdf:about=\"https://pokemon.fandom.com/es/wiki/tercera_generacion\">\n",
            "    <rdfs:subClassOf rdf:resource=\"https://pokemon.fandom.com/es/wiki/pokemon\"/>\n",
            "  </rdf:Description>\n",
            "</rdf:RDF>\n"
          ],
          "name": "stdout"
        }
      ]
    },
    {
      "cell_type": "markdown",
      "metadata": {
        "id": "cdYWWKB1gtUX"
      },
      "source": [
        "# Inferencias"
      ]
    },
    {
      "cell_type": "markdown",
      "metadata": {
        "id": "5EofzrYhgtUX"
      },
      "source": [
        "#### Encontrar la segunda evolución de los pokemon de tipo tierra  "
      ]
    },
    {
      "cell_type": "code",
      "metadata": {
        "id": "9gSX2n39gtUX"
      },
      "source": [
        ""
      ],
      "execution_count": null,
      "outputs": []
    }
  ]
}