{
 "cells": [
  {
   "cell_type": "markdown",
   "metadata": {
    "colab_type": "text",
    "id": "view-in-github"
   },
   "source": [
    "<a href=\"https://colab.research.google.com/github/FRD898/CC421-IA-PC1-Grupo8/blob/main/Pokemon_PC1.ipynb\" target=\"_parent\"><img src=\"https://colab.research.google.com/assets/colab-badge.svg\" alt=\"Open In Colab\"/></a>"
   ]
  },
  {
   "cell_type": "code",
   "execution_count": 51,
   "metadata": {},
   "outputs": [],
   "source": [
    "from rdflib import URIRef, BNode, Literal\n",
    "from rdflib import Namespace\n",
    "from rdflib.namespace import RDF, RDFS\n",
    "from rdflib import ConjunctiveGraph\n",
    "import pprint"
   ]
  },
  {
   "cell_type": "markdown",
   "metadata": {
    "id": "_t0SXiWVxgkb"
   },
   "source": [
    "## Ingresando  todas las URIREF"
   ]
  },
  {
   "cell_type": "code",
   "execution_count": 52,
   "metadata": {},
   "outputs": [],
   "source": [
    "weedle = URIRef(\"https://api.pokemon.com/el/pokedex/weedle\")\n",
    "kakuna = URIRef(\"https://api.pokemon.com/el/pokedex/kakuna\")\n",
    "beedrill = URIRef(\"https://api.pokemon.com/el/pokedex/beedrill\")\n",
    "pidgey = URIRef(\"https://api.pokemon.com/el/pokedex/pidgey\")\n",
    "pidgeotto = URIRef(\"https://api.pokemon.com/el/pokedex/pidgeotto\")\n",
    "pidgeot = URIRef(\"https://api.pokemon.com/el/pokedex/pidgeot\")\n"
   ]
  },
  {
   "cell_type": "markdown",
   "metadata": {},
   "source": [
    "### Habilidades"
   ]
  },
  {
   "cell_type": "code",
   "execution_count": 53,
   "metadata": {},
   "outputs": [],
   "source": [
    "espesura = URIRef(\"https://pokemon.fandom.com/es/wiki/Espesura\")\n",
    "espesura = URIRef(\"https://pokemon.fandom.com/es/wiki/Espesura\")\n",
    "espesura = URIRef(\"https://pokemon.fandom.com/es/wiki/Espesura\")\n",
    "espesura = URIRef(\"https://pokemon.fandom.com/es/wiki/Espesura\")\n",
    "espesura = URIRef(\"https://pokemon.fandom.com/es/wiki/Espesura\")\n",
    "espesura = URIRef(\"https://pokemon.fandom.com/es/wiki/Espesura\")"
   ]
  },
  {
   "cell_type": "markdown",
   "metadata": {},
   "source": [
    "## Namespace "
   ]
  },
  {
   "cell_type": "code",
   "execution_count": 54,
   "metadata": {},
   "outputs": [],
   "source": [
    "n = Namespace(\"https://pokemon.fandom.com/es/wiki/\")"
   ]
  },
  {
   "cell_type": "markdown",
   "metadata": {},
   "source": [
    "## URI Caracteristicas"
   ]
  },
  {
   "cell_type": "code",
   "execution_count": 55,
   "metadata": {},
   "outputs": [],
   "source": [
    "nombre = URIRef(\"caracteristica/nombre\")\n",
    "habilidad = URIRef(\"caracteristica/habilidad\")\n",
    "categoria = URIRef(\"caracteristica/categoria\")\n",
    "evoluciona_a = URIRef(\"caracteristica/evoluciona_a\")\n"
   ]
  },
  {
   "cell_type": "code",
   "execution_count": 56,
   "metadata": {},
   "outputs": [],
   "source": [
    "g = ConjunctiveGraph()"
   ]
  },
  {
   "cell_type": "code",
   "execution_count": 57,
   "metadata": {},
   "outputs": [],
   "source": [
    "g.add((n.tierra, RDFS.subClassOf, n.pokemon))\n",
    "g.add((n.agua, RDFS.subClassOf, n.pokemon))\n",
    "g.add((n.planta, RDFS.subClassOf, n.pokemon))\n",
    "g.add((n.fuego, RDFS.subClassOf, n.pokemon))\n",
    "g.add((n.electrico, RDFS.subClassOf, n.pokemon))\n",
    "g.add((n.bicho, RDFS.subClassOf, n.pokemon))\n",
    "g.add((n.veneno, RDFS.subClassOf, n.pokemon))\n"
   ]
  },
  {
   "cell_type": "markdown",
   "metadata": {},
   "source": [
    "### Instancias de pokemon"
   ]
  },
  {
   "cell_type": "code",
   "execution_count": 58,
   "metadata": {},
   "outputs": [],
   "source": [
    "g.add((weedle, RDF.type, n.bicho))\n",
    "g.add((weedle, RDF.type, n.veneno))\n",
    "g.add((weedle, habilidad, n.polvo_escudo))\n",
    "g.add((weedle, evoluciona_a, kakuna))\n",
    "g.add((weedle, nombre, Literal('Weedle')))\n",
    "\n",
    "g.add((kakuna, RDF.type, n.bicho))\n",
    "g.add((kakuna, RDF.type, n.veneno))\n",
    "g.add((kakuna, habilidad, n.mudar))\n",
    "g.add((kakuna, evoluciona_a, beedrill))\n",
    "g.add((kakuna, nombre, Literal('Kakuna')))\n",
    "\n"
   ]
  },
  {
   "cell_type": "markdown",
   "metadata": {},
   "source": [
    "## Properties"
   ]
  },
  {
   "cell_type": "code",
   "execution_count": 59,
   "metadata": {},
   "outputs": [],
   "source": [
    "g.add((nombre, RDFS.subPropertyOf, n.characteristic))\n",
    "g.add((habilidad, RDFS.subPropertyOf, n.characteristic))\n",
    "g.add((categoria, RDFS.subPropertyOf, n.characteristic))\n",
    "g.add((evoluciona_a, RDFS.subPropertyOf, n.characteristic))\n",
    "\n",
    "g.add((evoluciona_a, RDFS.domain, n.pokemon))\n",
    "g.add((evoluciona_a, RDFS.range, n.pokemon))"
   ]
  },
  {
   "cell_type": "markdown",
   "metadata": {},
   "source": [
    "### Labels"
   ]
  },
  {
   "cell_type": "code",
   "execution_count": 60,
   "metadata": {},
   "outputs": [],
   "source": [
    "g.add((nombre, RDFS.subPropertyOf, RDFS.label))\n",
    "g.add((habilidad, RDFS.subPropertyOf, RDFS.label))\n",
    "g.add((categoria, RDFS.subPropertyOf, RDFS.label))\n",
    "g.add((evoluciona_a, RDFS.subPropertyOf, RDFS.label))\n"
   ]
  },
  {
   "cell_type": "code",
   "execution_count": 61,
   "metadata": {},
   "outputs": [
    {
     "name": "stdout",
     "output_type": "stream",
     "text": [
      "b'<?xml version=\"1.0\" encoding=\"UTF-8\"?><rdf:RDF   xmlns:ns1=\"caracteristica/\"   xmlns:rdf=\"http://www.w3.org/1999/02/22-rdf-syntax-ns#\"   xmlns:rdfs=\"http://www.w3.org/2000/01/rdf-schema#\">  <rdf:Description rdf:about=\"https://pokemon.fandom.com/es/wiki/electrico\">    <rdfs:subClassOf rdf:resource=\"https://pokemon.fandom.com/es/wiki/pokemon\"/>  </rdf:Description>  <rdf:Description rdf:about=\"caracteristica/evoluciona_a\">    <rdfs:subPropertyOf rdf:resource=\"https://pokemon.fandom.com/es/wiki/characteristic\"/>    <rdfs:domain rdf:resource=\"https://pokemon.fandom.com/es/wiki/pokemon\"/>    <rdfs:range rdf:resource=\"https://pokemon.fandom.com/es/wiki/pokemon\"/>    <rdfs:subPropertyOf rdf:resource=\"http://www.w3.org/2000/01/rdf-schema#label\"/>  </rdf:Description>  <rdf:Description rdf:about=\"https://api.pokemon.com/el/pokedex/kakuna\">    <rdf:type rdf:resource=\"https://pokemon.fandom.com/es/wiki/bicho\"/>    <ns1:evoluciona_a rdf:resource=\"https://api.pokemon.com/el/pokedex/beedrill\"/>    <ns1:nombre>Kakuna</ns1:nombre>    <rdf:type rdf:resource=\"https://pokemon.fandom.com/es/wiki/veneno\"/>    <ns1:habilidad rdf:resource=\"https://pokemon.fandom.com/es/wiki/mudar\"/>  </rdf:Description>  <rdf:Description rdf:about=\"https://api.pokemon.com/el/pokedex/weedle\">    <rdf:type rdf:resource=\"https://pokemon.fandom.com/es/wiki/bicho\"/>    <ns1:nombre>Weedle</ns1:nombre>    <rdf:type rdf:resource=\"https://pokemon.fandom.com/es/wiki/veneno\"/>    <ns1:habilidad rdf:resource=\"https://pokemon.fandom.com/es/wiki/polvo_escudo\"/>    <ns1:evoluciona_a rdf:resource=\"https://api.pokemon.com/el/pokedex/kakuna\"/>  </rdf:Description>  <rdf:Description rdf:about=\"caracteristica/categoria\">    <rdfs:subPropertyOf rdf:resource=\"https://pokemon.fandom.com/es/wiki/characteristic\"/>    <rdfs:subPropertyOf rdf:resource=\"http://www.w3.org/2000/01/rdf-schema#label\"/>  </rdf:Description>  <rdf:Description rdf:about=\"https://pokemon.fandom.com/es/wiki/agua\">    <rdfs:subClassOf rdf:resource=\"https://pokemon.fandom.com/es/wiki/pokemon\"/>  </rdf:Description>  <rdf:Description rdf:about=\"https://pokemon.fandom.com/es/wiki/veneno\">    <rdfs:subClassOf rdf:resource=\"https://pokemon.fandom.com/es/wiki/pokemon\"/>  </rdf:Description>  <rdf:Description rdf:about=\"https://pokemon.fandom.com/es/wiki/planta\">    <rdfs:subClassOf rdf:resource=\"https://pokemon.fandom.com/es/wiki/pokemon\"/>  </rdf:Description>  <rdf:Description rdf:about=\"https://pokemon.fandom.com/es/wiki/tierra\">    <rdfs:subClassOf rdf:resource=\"https://pokemon.fandom.com/es/wiki/pokemon\"/>  </rdf:Description>  <rdf:Description rdf:about=\"https://pokemon.fandom.com/es/wiki/fuego\">    <rdfs:subClassOf rdf:resource=\"https://pokemon.fandom.com/es/wiki/pokemon\"/>  </rdf:Description>  <rdf:Description rdf:about=\"https://pokemon.fandom.com/es/wiki/bicho\">    <rdfs:subClassOf rdf:resource=\"https://pokemon.fandom.com/es/wiki/pokemon\"/>  </rdf:Description>  <rdf:Description rdf:about=\"caracteristica/nombre\">    <rdfs:subPropertyOf rdf:resource=\"https://pokemon.fandom.com/es/wiki/characteristic\"/>    <rdfs:subPropertyOf rdf:resource=\"http://www.w3.org/2000/01/rdf-schema#label\"/>  </rdf:Description>  <rdf:Description rdf:about=\"caracteristica/habilidad\">    <rdfs:subPropertyOf rdf:resource=\"http://www.w3.org/2000/01/rdf-schema#label\"/>    <rdfs:subPropertyOf rdf:resource=\"https://pokemon.fandom.com/es/wiki/characteristic\"/>  </rdf:Description></rdf:RDF>'\n"
     ]
    }
   ],
   "source": [
    "print(str(g.serialize(format='xml')).replace('\\\\n', ''))"
   ]
  },
  {
   "cell_type": "code",
   "execution_count": 62,
   "metadata": {},
   "outputs": [
    {
     "name": "stdout",
     "output_type": "stream",
     "text": [
      "<?xml version=\"1.0\" encoding=\"UTF-8\"?>\n",
      "<rdf:RDF\n",
      "   xmlns:ns1=\"caracteristica/\"\n",
      "   xmlns:rdf=\"http://www.w3.org/1999/02/22-rdf-syntax-ns#\"\n",
      "   xmlns:rdfs=\"http://www.w3.org/2000/01/rdf-schema#\"\n",
      ">\n",
      "  <rdf:Description rdf:about=\"https://pokemon.fandom.com/es/wiki/electrico\">\n",
      "    <rdfs:subClassOf rdf:resource=\"https://pokemon.fandom.com/es/wiki/pokemon\"/>\n",
      "  </rdf:Description>\n",
      "  <rdf:Description rdf:about=\"caracteristica/evoluciona_a\">\n",
      "    <rdfs:subPropertyOf rdf:resource=\"https://pokemon.fandom.com/es/wiki/characteristic\"/>\n",
      "    <rdfs:domain rdf:resource=\"https://pokemon.fandom.com/es/wiki/pokemon\"/>\n",
      "    <rdfs:range rdf:resource=\"https://pokemon.fandom.com/es/wiki/pokemon\"/>\n",
      "    <rdfs:subPropertyOf rdf:resource=\"http://www.w3.org/2000/01/rdf-schema#label\"/>\n",
      "  </rdf:Description>\n",
      "  <rdf:Description rdf:about=\"https://api.pokemon.com/el/pokedex/kakuna\">\n",
      "    <rdf:type rdf:resource=\"https://pokemon.fandom.com/es/wiki/bicho\"/>\n",
      "    <ns1:evoluciona_a rdf:resource=\"https://api.pokemon.com/el/pokedex/beedrill\"/>\n",
      "    <ns1:nombre>Kakuna</ns1:nombre>\n",
      "    <rdf:type rdf:resource=\"https://pokemon.fandom.com/es/wiki/veneno\"/>\n",
      "    <ns1:habilidad rdf:resource=\"https://pokemon.fandom.com/es/wiki/mudar\"/>\n",
      "  </rdf:Description>\n",
      "  <rdf:Description rdf:about=\"https://api.pokemon.com/el/pokedex/weedle\">\n",
      "    <rdf:type rdf:resource=\"https://pokemon.fandom.com/es/wiki/bicho\"/>\n",
      "    <ns1:nombre>Weedle</ns1:nombre>\n",
      "    <rdf:type rdf:resource=\"https://pokemon.fandom.com/es/wiki/veneno\"/>\n",
      "    <ns1:habilidad rdf:resource=\"https://pokemon.fandom.com/es/wiki/polvo_escudo\"/>\n",
      "    <ns1:evoluciona_a rdf:resource=\"https://api.pokemon.com/el/pokedex/kakuna\"/>\n",
      "  </rdf:Description>\n",
      "  <rdf:Description rdf:about=\"caracteristica/categoria\">\n",
      "    <rdfs:subPropertyOf rdf:resource=\"https://pokemon.fandom.com/es/wiki/characteristic\"/>\n",
      "    <rdfs:subPropertyOf rdf:resource=\"http://www.w3.org/2000/01/rdf-schema#label\"/>\n",
      "  </rdf:Description>\n",
      "  <rdf:Description rdf:about=\"https://pokemon.fandom.com/es/wiki/agua\">\n",
      "    <rdfs:subClassOf rdf:resource=\"https://pokemon.fandom.com/es/wiki/pokemon\"/>\n",
      "  </rdf:Description>\n",
      "  <rdf:Description rdf:about=\"https://pokemon.fandom.com/es/wiki/veneno\">\n",
      "    <rdfs:subClassOf rdf:resource=\"https://pokemon.fandom.com/es/wiki/pokemon\"/>\n",
      "  </rdf:Description>\n",
      "  <rdf:Description rdf:about=\"https://pokemon.fandom.com/es/wiki/planta\">\n",
      "    <rdfs:subClassOf rdf:resource=\"https://pokemon.fandom.com/es/wiki/pokemon\"/>\n",
      "  </rdf:Description>\n",
      "  <rdf:Description rdf:about=\"https://pokemon.fandom.com/es/wiki/tierra\">\n",
      "    <rdfs:subClassOf rdf:resource=\"https://pokemon.fandom.com/es/wiki/pokemon\"/>\n",
      "  </rdf:Description>\n",
      "  <rdf:Description rdf:about=\"https://pokemon.fandom.com/es/wiki/fuego\">\n",
      "    <rdfs:subClassOf rdf:resource=\"https://pokemon.fandom.com/es/wiki/pokemon\"/>\n",
      "  </rdf:Description>\n",
      "  <rdf:Description rdf:about=\"https://pokemon.fandom.com/es/wiki/bicho\">\n",
      "    <rdfs:subClassOf rdf:resource=\"https://pokemon.fandom.com/es/wiki/pokemon\"/>\n",
      "  </rdf:Description>\n",
      "  <rdf:Description rdf:about=\"caracteristica/nombre\">\n",
      "    <rdfs:subPropertyOf rdf:resource=\"https://pokemon.fandom.com/es/wiki/characteristic\"/>\n",
      "    <rdfs:subPropertyOf rdf:resource=\"http://www.w3.org/2000/01/rdf-schema#label\"/>\n",
      "  </rdf:Description>\n",
      "  <rdf:Description rdf:about=\"caracteristica/habilidad\">\n",
      "    <rdfs:subPropertyOf rdf:resource=\"http://www.w3.org/2000/01/rdf-schema#label\"/>\n",
      "    <rdfs:subPropertyOf rdf:resource=\"https://pokemon.fandom.com/es/wiki/characteristic\"/>\n",
      "  </rdf:Description>\n",
      "</rdf:RDF>\n"
     ]
    }
   ],
   "source": [
    "texto = str(g.serialize(format=\"xml\", encoding='utf-8').decode())\n",
    "for line in texto.splitlines():\n",
    "    print(line)"
   ]
  },
  {
   "cell_type": "code",
   "execution_count": null,
   "metadata": {},
   "outputs": [],
   "source": []
  }
 ],
 "metadata": {
  "colab": {
   "authorship_tag": "ABX9TyP1ntWpwMOVDBFEk4DvcseU",
   "include_colab_link": true,
   "name": "Pokemon-PC1.ipynb",
   "provenance": []
  },
  "kernelspec": {
   "display_name": "Python 3",
   "language": "python",
   "name": "python3"
  },
  "language_info": {
   "codemirror_mode": {
    "name": "ipython",
    "version": 3
   },
   "file_extension": ".py",
   "mimetype": "text/x-python",
   "name": "python",
   "nbconvert_exporter": "python",
   "pygments_lexer": "ipython3",
   "version": "3.9.1"
  }
 },
 "nbformat": 4,
 "nbformat_minor": 1
}
