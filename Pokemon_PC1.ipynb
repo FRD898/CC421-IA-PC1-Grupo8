{
 "cells": [
  {
   "cell_type": "markdown",
   "metadata": {
    "colab_type": "text",
    "id": "view-in-github"
   },
   "source": [
    "<a href=\"https://colab.research.google.com/github/FRD898/CC421-IA-PC1-Grupo8/blob/main/Pokemon_PC1.ipynb\" target=\"_parent\"><img src=\"https://colab.research.google.com/assets/colab-badge.svg\" alt=\"Open In Colab\"/></a>"
   ]
  },
  {
   "cell_type": "code",
   "execution_count": 74,
   "metadata": {},
   "outputs": [],
   "source": [
    "from rdflib import URIRef, BNode, Literal\n",
    "from rdflib import Namespace\n",
    "from rdflib.namespace import RDF, RDFS\n",
    "from rdflib import ConjunctiveGraph\n",
    "import pprint"
   ]
  },
  {
   "cell_type": "markdown",
   "metadata": {
    "id": "_t0SXiWVxgkb"
   },
   "source": [
    "## Ingresando  todas las URIREF"
   ]
  },
  {
   "cell_type": "code",
   "execution_count": 75,
   "metadata": {},
   "outputs": [],
   "source": [
    "charmander = URIRef(\"https://api.pokemon.com/el/pokedex/charmander\")\n",
    "charmeleon = URIRef(\"https://api.pokemon.com/el/pokedex/charmeleon\")\n",
    "charizard = URIRef(\"https://api.pokemon.com/el/pokedex/charizard\")\n",
    "\n",
    "pichu = URIRef(\"https://api.pokemon.com/el/pokedex/pichu\")\n",
    "pikachu = URIRef(\"https://api.pokemon.com/el/pokedex/pikachu\")\n",
    "raichu = URIRef(\"https://api.pokemon.com/el/pokedex/raichu\")\n",
    "\n",
    "\n",
    "pokemon = URIRef(\"https://pokemon.fandom.com/es/wiki/Pok%C3%A9mon#.C2.BFQu.C3.A9_son_los_Pok.C3.A9mon.3F\")\n",
    "generaciones = URIRef(\"https://pokemon.fandom.com/es/wiki/Generaciones_Pokémon\")\n",
    "efectividad = URIRef(\"https://pokemon.fandom.com/es/wiki/Tipos_elementales#Efectividades_de_los_tipos\")"
   ]
  },
  {
   "cell_type": "markdown",
   "metadata": {},
   "source": [
    "## Namespace "
   ]
  },
  {
   "cell_type": "code",
   "execution_count": 76,
   "metadata": {},
   "outputs": [],
   "source": [
    "n = Namespace(\"https://pokemon.fandom.com/es/wiki/\")\n"
   ]
  },
  {
   "cell_type": "code",
   "execution_count": 77,
   "metadata": {},
   "outputs": [],
   "source": [
    "g = ConjunctiveGraph()"
   ]
  },
  {
   "cell_type": "markdown",
   "metadata": {},
   "source": [
    "## URI Caracteristicas"
   ]
  },
  {
   "cell_type": "code",
   "execution_count": 78,
   "metadata": {},
   "outputs": [],
   "source": [
    "caracteristicas= n.pantalla_de_datos\n",
    "nombre = n.mote\n",
    "habilidad = n.habilidad\n",
    "especie = n.especie\n",
    "evolucion = n.evolucion\n",
    "\n",
    "g.bind(\"habilidad\",URIRef(\"https://pokemon.fandom.com/es/wiki/habilidad\"))\n",
    "g.add((nombre, RDFS.subPropertyOf, RDFS.label))\n",
    "g.add((habilidad, RDFS.subPropertyOf, RDFS.label))\n",
    "g.add((especie, RDFS.subPropertyOf, RDFS.label))\n",
    "g.add((evolucion, RDFS.subPropertyOf, RDFS.label))\n",
    "\n",
    "g.add((efectividad, RDFS.subPropertyOf, RDFS.label))\n",
    "\n",
    "#habilidad = URIRef(\"https://pokemon.fandom.com/es/wiki/Habilidad\")\n",
    "#especie = URIRef(\"https://pokemon.fandom.com/es/wiki/Especie\")\n",
    "#evoluciona_a = URIRef(\"https://pokemon.fandom.com/es/wiki/Evolucion\")\n",
    "\n"
   ]
  },
  {
   "cell_type": "markdown",
   "metadata": {},
   "source": [
    "## Subclases de Pokemon"
   ]
  },
  {
   "cell_type": "code",
   "execution_count": 79,
   "metadata": {},
   "outputs": [],
   "source": [
    "#Subclases por tipo de elemento\n",
    "g.add((n.tipo_tierra, RDFS.subClassOf, n.pokemon))\n",
    "#g.add((n.tipo_tierra, efectividad, n.tipo_acero))\n",
    "\n",
    "\n",
    "g.add((n.tipo_agua, RDFS.subClassOf, n.pokemon))\n",
    "\n",
    "g.add((n.tipo_planta, RDFS.subClassOf, n.pokemon))\n",
    "\n",
    "g.add((n.tipo_fuego, RDFS.subClassOf, n.pokemon))\n",
    "#g.add((n.tipo_fuego, efectividad, n.acero))\n",
    "#g.add((n.tipo_fuego, efectividad, n.bicho))\n",
    "#g.add((n.tipo_fuego, efectividad, n.planta))\n",
    "#g.add((n.tipo_fuego, efectividad, n.hielo))\n",
    "\n",
    "g.add((n.tipo_electrico, RDFS.subClassOf, n.pokemon))\n",
    "#g.add((n.tipo_electrico, efectividad, n.agua))\n",
    "#g.add((n.tipo_electrico, efectividad, n.volador))\n",
    "\n",
    "g.add((n.tipo_volador, RDFS.subClassOf, n.pokemon))\n",
    "#g.add((n.tipo_volador, efectividad, n.bicho))\n",
    "#g.add((n.tipo_volador, efectividad, n.lucha))\n",
    "#g.add((n.tipo_volador, efectividad, n.planta))\n",
    "\n",
    "g.add((n.tipo_bicho, RDFS.subClassOf, n.pokemon))\n",
    "\n",
    "g.add((n.tipo_veneno, RDFS.subClassOf, n.pokemon))\n",
    "\n",
    "g.add((n.tipo_planta, RDFS.subClassOf, n.pokemon))\n",
    "\n",
    "g.add((n.tipo_lucha, RDFS.subClassOf, n.pokemon))\n",
    "\n",
    "#subclases por generación\n",
    "g.add((n.primera_generacion, RDFS.subClassOf, n.pokemon))\n",
    "g.add((n.segunda_generacion, RDFS.subClassOf, n.pokemon))\n",
    "g.add((n.tercera_generacion, RDFS.subClassOf, n.pokemon))\n",
    "g.add((n.cuarta_generacion, RDFS.subClassOf, n.pokemon))\n"
   ]
  },
  {
   "cell_type": "markdown",
   "metadata": {},
   "source": [
    "## Properties"
   ]
  },
  {
   "cell_type": "code",
   "execution_count": 80,
   "metadata": {},
   "outputs": [],
   "source": [
    "g.add((caracteristicas, RDFS.subPropertyOf, n.pokemon))\n",
    "\n",
    "g.add((nombre, RDFS.subPropertyOf, caracteristicas))\n",
    "g.add((habilidad, RDFS.subPropertyOf, caracteristicas))\n",
    "g.add((especie, RDFS.subPropertyOf, caracteristicas))\n",
    "\n",
    "g.add((evolucion, RDFS.subPropertyOf, caracteristicas))\n",
    "g.add((evolucion, RDFS.domain, n.pokemon))\n",
    "g.add((evolucion, RDFS.range, n.pokemon))\n",
    "\n",
    "g.add((efectividad, RDFS.subPropertyOf, n.tipo_fuego))\n",
    "g.add((efectividad, RDFS.subPropertyOf, n.tipo_electrico))\n",
    "\n"
   ]
  },
  {
   "cell_type": "code",
   "execution_count": null,
   "metadata": {},
   "outputs": [],
   "source": []
  },
  {
   "cell_type": "markdown",
   "metadata": {},
   "source": [
    "### Instancias de pokemon"
   ]
  },
  {
   "cell_type": "code",
   "execution_count": 81,
   "metadata": {},
   "outputs": [],
   "source": [
    "g.add((charmander, RDF.type, n.tipo_fuego))\n",
    "g.add((charmander, RDF.type, n.primera_generacion))\n",
    "g.add((charmander, habilidad, n.mar_llamas))\n",
    "g.add((charmander, evolucion, charmeleon))\n",
    "g.add((charmander, nombre, Literal('Charmander')))\n",
    "\n",
    "\n",
    "g.add((charmeleon, RDF.type, n.tipo_fuego))\n",
    "g.add((charmeleon, RDF.type, n.primera_generacion))\n",
    "g.add((charmeleon, habilidad, n.mar_llamas))\n",
    "g.add((charmeleon, evolucion, charizard))\n",
    "g.add((charmeleon, nombre, Literal('Charmeleon')))\n",
    "\n",
    "g.add((charizard, RDF.type, n.tipo_fuego))\n",
    "g.add((charizard, RDF.type, n.tipo_volador))\n",
    "g.add((charizard, RDF.type, n.primera_generacion))\n",
    "g.add((charizard, habilidad, n.mar_llamas))\n",
    "g.add((charizard, nombre, Literal('Charizard')))\n",
    "\n",
    "g.add((pichu, RDF.type, n.tipo_electrico))\n",
    "g.add((pichu, RDF.type, n.primera_generacion))\n",
    "g.add((pichu, habilidad, n.electricidad_estatica))\n",
    "g.add((pichu, evolucion, pikachu))\n",
    "g.add((pichu, nombre, Literal('Pichu')))\n",
    "\n",
    "g.add((pikachu, RDF.type, n.tipo_electrico))\n",
    "g.add((pikachu, RDF.type, n.primera_generacion))\n",
    "g.add((pikachu, habilidad, n.electricidad_estatica))\n",
    "g.add((pikachu, evolucion, raichu))\n",
    "g.add((pikachu, nombre, Literal('Pikachu')))\n",
    "\n",
    "g.add((raichu, RDF.type, n.tipo_electrico))\n",
    "g.add((raichu, RDF.type, n.primera_generacion))\n",
    "g.add((raichu, habilidad, n.electricidad_estatica))\n",
    "g.add((raichu, nombre, Literal('Raichu')))\n",
    "\n",
    "\n",
    "\n"
   ]
  },
  {
   "cell_type": "markdown",
   "metadata": {},
   "source": [
    "### Labels"
   ]
  },
  {
   "cell_type": "code",
   "execution_count": 82,
   "metadata": {},
   "outputs": [],
   "source": [
    "#g.add((nombre, RDFS.subPropertyOf, RDFS.label))\n",
    "#g.add((n.habilidad, RDFS.subPropertyOf, RDFS.label))\n",
    "#g.add((n.categoria, RDFS.subPropertyOf, RDFS.label))\n",
    "#g.add((n.evolucion, RDFS.subPropertyOf, RDFS.label))\n"
   ]
  },
  {
   "cell_type": "code",
   "execution_count": 83,
   "metadata": {},
   "outputs": [
    {
     "name": "stdout",
     "output_type": "stream",
     "text": [
      "b'<?xml version=\"1.0\" encoding=\"UTF-8\"?><rdf:RDF   xmlns:ns1=\"https://pokemon.fandom.com/es/wiki/\"   xmlns:rdf=\"http://www.w3.org/1999/02/22-rdf-syntax-ns#\"   xmlns:rdfs=\"http://www.w3.org/2000/01/rdf-schema#\">  <rdf:Description rdf:about=\"https://api.pokemon.com/el/pokedex/pikachu\">    <ns1:evolucion rdf:resource=\"https://api.pokemon.com/el/pokedex/raichu\"/>    <ns1:mote>Pikachu</ns1:mote>    <rdf:type rdf:resource=\"https://pokemon.fandom.com/es/wiki/primera_generacion\"/>    <rdf:type rdf:resource=\"https://pokemon.fandom.com/es/wiki/tipo_electrico\"/>    <ns1:habilidad rdf:resource=\"https://pokemon.fandom.com/es/wiki/electricidad_estatica\"/>  </rdf:Description>  <rdf:Description rdf:about=\"https://pokemon.fandom.com/es/wiki/mote\">    <rdfs:subPropertyOf rdf:resource=\"https://pokemon.fandom.com/es/wiki/pantalla_de_datos\"/>    <rdfs:subPropertyOf rdf:resource=\"http://www.w3.org/2000/01/rdf-schema#label\"/>  </rdf:Description>  <rdf:Description rdf:about=\"https://pokemon.fandom.com/es/wiki/tipo_tierra\">    <rdfs:subClassOf rdf:resource=\"https://pokemon.fandom.com/es/wiki/pokemon\"/>  </rdf:Description>  <rdf:Description rdf:about=\"https://pokemon.fandom.com/es/wiki/tipo_electrico\">    <rdfs:subClassOf rdf:resource=\"https://pokemon.fandom.com/es/wiki/pokemon\"/>  </rdf:Description>  <rdf:Description rdf:about=\"https://pokemon.fandom.com/es/wiki/tipo_bicho\">    <rdfs:subClassOf rdf:resource=\"https://pokemon.fandom.com/es/wiki/pokemon\"/>  </rdf:Description>  <rdf:Description rdf:about=\"https://api.pokemon.com/el/pokedex/pichu\">    <ns1:habilidad rdf:resource=\"https://pokemon.fandom.com/es/wiki/electricidad_estatica\"/>    <ns1:mote>Pichu</ns1:mote>    <rdf:type rdf:resource=\"https://pokemon.fandom.com/es/wiki/tipo_electrico\"/>    <rdf:type rdf:resource=\"https://pokemon.fandom.com/es/wiki/primera_generacion\"/>    <ns1:evolucion rdf:resource=\"https://api.pokemon.com/el/pokedex/pikachu\"/>  </rdf:Description>  <rdf:Description rdf:about=\"https://api.pokemon.com/el/pokedex/charmeleon\">    <ns1:evolucion rdf:resource=\"https://api.pokemon.com/el/pokedex/charizard\"/>    <ns1:mote>Charmeleon</ns1:mote>    <ns1:habilidad rdf:resource=\"https://pokemon.fandom.com/es/wiki/mar_llamas\"/>    <rdf:type rdf:resource=\"https://pokemon.fandom.com/es/wiki/tipo_fuego\"/>    <rdf:type rdf:resource=\"https://pokemon.fandom.com/es/wiki/primera_generacion\"/>  </rdf:Description>  <rdf:Description rdf:about=\"https://api.pokemon.com/el/pokedex/charmander\">    <ns1:mote>Charmander</ns1:mote>    <rdf:type rdf:resource=\"https://pokemon.fandom.com/es/wiki/primera_generacion\"/>    <ns1:habilidad rdf:resource=\"https://pokemon.fandom.com/es/wiki/mar_llamas\"/>    <rdf:type rdf:resource=\"https://pokemon.fandom.com/es/wiki/tipo_fuego\"/>    <ns1:evolucion rdf:resource=\"https://api.pokemon.com/el/pokedex/charmeleon\"/>  </rdf:Description>  <rdf:Description rdf:about=\"https://pokemon.fandom.com/es/wiki/habilidad\">    <rdfs:subPropertyOf rdf:resource=\"http://www.w3.org/2000/01/rdf-schema#label\"/>    <rdfs:subPropertyOf rdf:resource=\"https://pokemon.fandom.com/es/wiki/pantalla_de_datos\"/>  </rdf:Description>  <rdf:Description rdf:about=\"https://api.pokemon.com/el/pokedex/charizard\">    <rdf:type rdf:resource=\"https://pokemon.fandom.com/es/wiki/tipo_volador\"/>    <ns1:mote>Charizard</ns1:mote>    <rdf:type rdf:resource=\"https://pokemon.fandom.com/es/wiki/tipo_fuego\"/>    <rdf:type rdf:resource=\"https://pokemon.fandom.com/es/wiki/primera_generacion\"/>    <ns1:habilidad rdf:resource=\"https://pokemon.fandom.com/es/wiki/mar_llamas\"/>  </rdf:Description>  <rdf:Description rdf:about=\"https://api.pokemon.com/el/pokedex/raichu\">    <ns1:mote>Raichu</ns1:mote>    <rdf:type rdf:resource=\"https://pokemon.fandom.com/es/wiki/tipo_electrico\"/>    <ns1:habilidad rdf:resource=\"https://pokemon.fandom.com/es/wiki/electricidad_estatica\"/>    <rdf:type rdf:resource=\"https://pokemon.fandom.com/es/wiki/primera_generacion\"/>  </rdf:Description>  <rdf:Description rdf:about=\"https://pokemon.fandom.com/es/wiki/tipo_lucha\">    <rdfs:subClassOf rdf:resource=\"https://pokemon.fandom.com/es/wiki/pokemon\"/>  </rdf:Description>  <rdf:Description rdf:about=\"https://pokemon.fandom.com/es/wiki/especie\">    <rdfs:subPropertyOf rdf:resource=\"http://www.w3.org/2000/01/rdf-schema#label\"/>    <rdfs:subPropertyOf rdf:resource=\"https://pokemon.fandom.com/es/wiki/pantalla_de_datos\"/>  </rdf:Description>  <rdf:Description rdf:about=\"https://pokemon.fandom.com/es/wiki/primera_generacion\">    <rdfs:subClassOf rdf:resource=\"https://pokemon.fandom.com/es/wiki/pokemon\"/>  </rdf:Description>  <rdf:Description rdf:about=\"https://pokemon.fandom.com/es/wiki/evolucion\">    <rdfs:subPropertyOf rdf:resource=\"https://pokemon.fandom.com/es/wiki/pantalla_de_datos\"/>    <rdfs:range rdf:resource=\"https://pokemon.fandom.com/es/wiki/pokemon\"/>    <rdfs:domain rdf:resource=\"https://pokemon.fandom.com/es/wiki/pokemon\"/>    <rdfs:subPropertyOf rdf:resource=\"http://www.w3.org/2000/01/rdf-schema#label\"/>  </rdf:Description>  <rdf:Description rdf:about=\"https://pokemon.fandom.com/es/wiki/tipo_agua\">    <rdfs:subClassOf rdf:resource=\"https://pokemon.fandom.com/es/wiki/pokemon\"/>  </rdf:Description>  <rdf:Description rdf:about=\"https://pokemon.fandom.com/es/wiki/segunda_generacion\">    <rdfs:subClassOf rdf:resource=\"https://pokemon.fandom.com/es/wiki/pokemon\"/>  </rdf:Description>  <rdf:Description rdf:about=\"https://pokemon.fandom.com/es/wiki/Tipos_elementales#Efectividades_de_los_tipos\">    <rdfs:subPropertyOf rdf:resource=\"https://pokemon.fandom.com/es/wiki/tipo_electrico\"/>    <rdfs:subPropertyOf rdf:resource=\"http://www.w3.org/2000/01/rdf-schema#label\"/>    <rdfs:subPropertyOf rdf:resource=\"https://pokemon.fandom.com/es/wiki/tipo_fuego\"/>  </rdf:Description>  <rdf:Description rdf:about=\"https://pokemon.fandom.com/es/wiki/cuarta_generacion\">    <rdfs:subClassOf rdf:resource=\"https://pokemon.fandom.com/es/wiki/pokemon\"/>  </rdf:Description>  <rdf:Description rdf:about=\"https://pokemon.fandom.com/es/wiki/tipo_veneno\">    <rdfs:subClassOf rdf:resource=\"https://pokemon.fandom.com/es/wiki/pokemon\"/>  </rdf:Description>  <rdf:Description rdf:about=\"https://pokemon.fandom.com/es/wiki/tipo_volador\">    <rdfs:subClassOf rdf:resource=\"https://pokemon.fandom.com/es/wiki/pokemon\"/>  </rdf:Description>  <rdf:Description rdf:about=\"https://pokemon.fandom.com/es/wiki/tercera_generacion\">    <rdfs:subClassOf rdf:resource=\"https://pokemon.fandom.com/es/wiki/pokemon\"/>  </rdf:Description>  <rdf:Description rdf:about=\"https://pokemon.fandom.com/es/wiki/tipo_planta\">    <rdfs:subClassOf rdf:resource=\"https://pokemon.fandom.com/es/wiki/pokemon\"/>  </rdf:Description>  <rdf:Description rdf:about=\"https://pokemon.fandom.com/es/wiki/tipo_fuego\">    <rdfs:subClassOf rdf:resource=\"https://pokemon.fandom.com/es/wiki/pokemon\"/>  </rdf:Description>  <rdf:Description rdf:about=\"https://pokemon.fandom.com/es/wiki/pantalla_de_datos\">    <rdfs:subPropertyOf rdf:resource=\"https://pokemon.fandom.com/es/wiki/pokemon\"/>  </rdf:Description></rdf:RDF>'\n"
     ]
    }
   ],
   "source": [
    "print(str(g.serialize(format='xml')).replace('\\\\n', ''))"
   ]
  },
  {
   "cell_type": "code",
   "execution_count": 84,
   "metadata": {},
   "outputs": [
    {
     "name": "stdout",
     "output_type": "stream",
     "text": [
      "<?xml version=\"1.0\" encoding=\"UTF-8\"?>\n",
      "<rdf:RDF\n",
      "   xmlns:ns1=\"https://pokemon.fandom.com/es/wiki/\"\n",
      "   xmlns:rdf=\"http://www.w3.org/1999/02/22-rdf-syntax-ns#\"\n",
      "   xmlns:rdfs=\"http://www.w3.org/2000/01/rdf-schema#\"\n",
      ">\n",
      "  <rdf:Description rdf:about=\"https://api.pokemon.com/el/pokedex/pikachu\">\n",
      "    <ns1:evolucion rdf:resource=\"https://api.pokemon.com/el/pokedex/raichu\"/>\n",
      "    <ns1:mote>Pikachu</ns1:mote>\n",
      "    <rdf:type rdf:resource=\"https://pokemon.fandom.com/es/wiki/primera_generacion\"/>\n",
      "    <rdf:type rdf:resource=\"https://pokemon.fandom.com/es/wiki/tipo_electrico\"/>\n",
      "    <ns1:habilidad rdf:resource=\"https://pokemon.fandom.com/es/wiki/electricidad_estatica\"/>\n",
      "  </rdf:Description>\n",
      "  <rdf:Description rdf:about=\"https://pokemon.fandom.com/es/wiki/mote\">\n",
      "    <rdfs:subPropertyOf rdf:resource=\"https://pokemon.fandom.com/es/wiki/pantalla_de_datos\"/>\n",
      "    <rdfs:subPropertyOf rdf:resource=\"http://www.w3.org/2000/01/rdf-schema#label\"/>\n",
      "  </rdf:Description>\n",
      "  <rdf:Description rdf:about=\"https://pokemon.fandom.com/es/wiki/tipo_tierra\">\n",
      "    <rdfs:subClassOf rdf:resource=\"https://pokemon.fandom.com/es/wiki/pokemon\"/>\n",
      "  </rdf:Description>\n",
      "  <rdf:Description rdf:about=\"https://pokemon.fandom.com/es/wiki/tipo_electrico\">\n",
      "    <rdfs:subClassOf rdf:resource=\"https://pokemon.fandom.com/es/wiki/pokemon\"/>\n",
      "  </rdf:Description>\n",
      "  <rdf:Description rdf:about=\"https://pokemon.fandom.com/es/wiki/tipo_bicho\">\n",
      "    <rdfs:subClassOf rdf:resource=\"https://pokemon.fandom.com/es/wiki/pokemon\"/>\n",
      "  </rdf:Description>\n",
      "  <rdf:Description rdf:about=\"https://api.pokemon.com/el/pokedex/pichu\">\n",
      "    <ns1:habilidad rdf:resource=\"https://pokemon.fandom.com/es/wiki/electricidad_estatica\"/>\n",
      "    <ns1:mote>Pichu</ns1:mote>\n",
      "    <rdf:type rdf:resource=\"https://pokemon.fandom.com/es/wiki/tipo_electrico\"/>\n",
      "    <rdf:type rdf:resource=\"https://pokemon.fandom.com/es/wiki/primera_generacion\"/>\n",
      "    <ns1:evolucion rdf:resource=\"https://api.pokemon.com/el/pokedex/pikachu\"/>\n",
      "  </rdf:Description>\n",
      "  <rdf:Description rdf:about=\"https://api.pokemon.com/el/pokedex/charmeleon\">\n",
      "    <ns1:evolucion rdf:resource=\"https://api.pokemon.com/el/pokedex/charizard\"/>\n",
      "    <ns1:mote>Charmeleon</ns1:mote>\n",
      "    <ns1:habilidad rdf:resource=\"https://pokemon.fandom.com/es/wiki/mar_llamas\"/>\n",
      "    <rdf:type rdf:resource=\"https://pokemon.fandom.com/es/wiki/tipo_fuego\"/>\n",
      "    <rdf:type rdf:resource=\"https://pokemon.fandom.com/es/wiki/primera_generacion\"/>\n",
      "  </rdf:Description>\n",
      "  <rdf:Description rdf:about=\"https://api.pokemon.com/el/pokedex/charmander\">\n",
      "    <ns1:mote>Charmander</ns1:mote>\n",
      "    <rdf:type rdf:resource=\"https://pokemon.fandom.com/es/wiki/primera_generacion\"/>\n",
      "    <ns1:habilidad rdf:resource=\"https://pokemon.fandom.com/es/wiki/mar_llamas\"/>\n",
      "    <rdf:type rdf:resource=\"https://pokemon.fandom.com/es/wiki/tipo_fuego\"/>\n",
      "    <ns1:evolucion rdf:resource=\"https://api.pokemon.com/el/pokedex/charmeleon\"/>\n",
      "  </rdf:Description>\n",
      "  <rdf:Description rdf:about=\"https://pokemon.fandom.com/es/wiki/habilidad\">\n",
      "    <rdfs:subPropertyOf rdf:resource=\"http://www.w3.org/2000/01/rdf-schema#label\"/>\n",
      "    <rdfs:subPropertyOf rdf:resource=\"https://pokemon.fandom.com/es/wiki/pantalla_de_datos\"/>\n",
      "  </rdf:Description>\n",
      "  <rdf:Description rdf:about=\"https://api.pokemon.com/el/pokedex/charizard\">\n",
      "    <rdf:type rdf:resource=\"https://pokemon.fandom.com/es/wiki/tipo_volador\"/>\n",
      "    <ns1:mote>Charizard</ns1:mote>\n",
      "    <rdf:type rdf:resource=\"https://pokemon.fandom.com/es/wiki/tipo_fuego\"/>\n",
      "    <rdf:type rdf:resource=\"https://pokemon.fandom.com/es/wiki/primera_generacion\"/>\n",
      "    <ns1:habilidad rdf:resource=\"https://pokemon.fandom.com/es/wiki/mar_llamas\"/>\n",
      "  </rdf:Description>\n",
      "  <rdf:Description rdf:about=\"https://api.pokemon.com/el/pokedex/raichu\">\n",
      "    <ns1:mote>Raichu</ns1:mote>\n",
      "    <rdf:type rdf:resource=\"https://pokemon.fandom.com/es/wiki/tipo_electrico\"/>\n",
      "    <ns1:habilidad rdf:resource=\"https://pokemon.fandom.com/es/wiki/electricidad_estatica\"/>\n",
      "    <rdf:type rdf:resource=\"https://pokemon.fandom.com/es/wiki/primera_generacion\"/>\n",
      "  </rdf:Description>\n",
      "  <rdf:Description rdf:about=\"https://pokemon.fandom.com/es/wiki/tipo_lucha\">\n",
      "    <rdfs:subClassOf rdf:resource=\"https://pokemon.fandom.com/es/wiki/pokemon\"/>\n",
      "  </rdf:Description>\n",
      "  <rdf:Description rdf:about=\"https://pokemon.fandom.com/es/wiki/especie\">\n",
      "    <rdfs:subPropertyOf rdf:resource=\"http://www.w3.org/2000/01/rdf-schema#label\"/>\n",
      "    <rdfs:subPropertyOf rdf:resource=\"https://pokemon.fandom.com/es/wiki/pantalla_de_datos\"/>\n",
      "  </rdf:Description>\n",
      "  <rdf:Description rdf:about=\"https://pokemon.fandom.com/es/wiki/primera_generacion\">\n",
      "    <rdfs:subClassOf rdf:resource=\"https://pokemon.fandom.com/es/wiki/pokemon\"/>\n",
      "  </rdf:Description>\n",
      "  <rdf:Description rdf:about=\"https://pokemon.fandom.com/es/wiki/evolucion\">\n",
      "    <rdfs:subPropertyOf rdf:resource=\"https://pokemon.fandom.com/es/wiki/pantalla_de_datos\"/>\n",
      "    <rdfs:range rdf:resource=\"https://pokemon.fandom.com/es/wiki/pokemon\"/>\n",
      "    <rdfs:domain rdf:resource=\"https://pokemon.fandom.com/es/wiki/pokemon\"/>\n",
      "    <rdfs:subPropertyOf rdf:resource=\"http://www.w3.org/2000/01/rdf-schema#label\"/>\n",
      "  </rdf:Description>\n",
      "  <rdf:Description rdf:about=\"https://pokemon.fandom.com/es/wiki/tipo_agua\">\n",
      "    <rdfs:subClassOf rdf:resource=\"https://pokemon.fandom.com/es/wiki/pokemon\"/>\n",
      "  </rdf:Description>\n",
      "  <rdf:Description rdf:about=\"https://pokemon.fandom.com/es/wiki/segunda_generacion\">\n",
      "    <rdfs:subClassOf rdf:resource=\"https://pokemon.fandom.com/es/wiki/pokemon\"/>\n",
      "  </rdf:Description>\n",
      "  <rdf:Description rdf:about=\"https://pokemon.fandom.com/es/wiki/Tipos_elementales#Efectividades_de_los_tipos\">\n",
      "    <rdfs:subPropertyOf rdf:resource=\"https://pokemon.fandom.com/es/wiki/tipo_electrico\"/>\n",
      "    <rdfs:subPropertyOf rdf:resource=\"http://www.w3.org/2000/01/rdf-schema#label\"/>\n",
      "    <rdfs:subPropertyOf rdf:resource=\"https://pokemon.fandom.com/es/wiki/tipo_fuego\"/>\n",
      "  </rdf:Description>\n",
      "  <rdf:Description rdf:about=\"https://pokemon.fandom.com/es/wiki/cuarta_generacion\">\n",
      "    <rdfs:subClassOf rdf:resource=\"https://pokemon.fandom.com/es/wiki/pokemon\"/>\n",
      "  </rdf:Description>\n",
      "  <rdf:Description rdf:about=\"https://pokemon.fandom.com/es/wiki/tipo_veneno\">\n",
      "    <rdfs:subClassOf rdf:resource=\"https://pokemon.fandom.com/es/wiki/pokemon\"/>\n",
      "  </rdf:Description>\n",
      "  <rdf:Description rdf:about=\"https://pokemon.fandom.com/es/wiki/tipo_volador\">\n",
      "    <rdfs:subClassOf rdf:resource=\"https://pokemon.fandom.com/es/wiki/pokemon\"/>\n",
      "  </rdf:Description>\n",
      "  <rdf:Description rdf:about=\"https://pokemon.fandom.com/es/wiki/tercera_generacion\">\n",
      "    <rdfs:subClassOf rdf:resource=\"https://pokemon.fandom.com/es/wiki/pokemon\"/>\n",
      "  </rdf:Description>\n",
      "  <rdf:Description rdf:about=\"https://pokemon.fandom.com/es/wiki/tipo_planta\">\n",
      "    <rdfs:subClassOf rdf:resource=\"https://pokemon.fandom.com/es/wiki/pokemon\"/>\n",
      "  </rdf:Description>\n",
      "  <rdf:Description rdf:about=\"https://pokemon.fandom.com/es/wiki/tipo_fuego\">\n",
      "    <rdfs:subClassOf rdf:resource=\"https://pokemon.fandom.com/es/wiki/pokemon\"/>\n",
      "  </rdf:Description>\n",
      "  <rdf:Description rdf:about=\"https://pokemon.fandom.com/es/wiki/pantalla_de_datos\">\n",
      "    <rdfs:subPropertyOf rdf:resource=\"https://pokemon.fandom.com/es/wiki/pokemon\"/>\n",
      "  </rdf:Description>\n",
      "</rdf:RDF>\n"
     ]
    }
   ],
   "source": [
    "texto = str(g.serialize(format=\"xml\", encoding='utf-8').decode())\n",
    "for line in texto.splitlines():\n",
    "    print(line)"
   ]
  },
  {
   "cell_type": "markdown",
   "metadata": {},
   "source": [
    "# Inferencias"
   ]
  },
  {
   "cell_type": "markdown",
   "metadata": {},
   "source": [
    "#### Encontrar la segunda evolución de los pokemon de tipo tierra  "
   ]
  },
  {
   "cell_type": "code",
   "execution_count": null,
   "metadata": {},
   "outputs": [],
   "source": []
  }
 ],
 "metadata": {
  "colab": {
   "authorship_tag": "ABX9TyP1ntWpwMOVDBFEk4DvcseU",
   "include_colab_link": true,
   "name": "Pokemon-PC1.ipynb",
   "provenance": []
  },
  "kernelspec": {
   "display_name": "Python 3",
   "language": "python",
   "name": "python3"
  },
  "language_info": {
   "codemirror_mode": {
    "name": "ipython",
    "version": 3
   },
   "file_extension": ".py",
   "mimetype": "text/x-python",
   "name": "python",
   "nbconvert_exporter": "python",
   "pygments_lexer": "ipython3",
   "version": "3.9.1"
  }
 },
 "nbformat": 4,
 "nbformat_minor": 1
}
