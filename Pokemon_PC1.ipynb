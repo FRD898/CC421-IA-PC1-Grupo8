{
 "cells": [
  {
   "cell_type": "markdown",
   "metadata": {
    "colab_type": "text",
    "id": "view-in-github"
   },
   "source": [
    "<a href=\"https://colab.research.google.com/github/FRD898/CC421-IA-PC1-Grupo8/blob/main/Pokemon_PC1.ipynb\" target=\"_parent\"><img src=\"https://colab.research.google.com/assets/colab-badge.svg\" alt=\"Open In Colab\"/></a>"
   ]
  },
  {
   "cell_type": "markdown",
   "metadata": {
    "id": "_t0SXiWVxgkb"
   },
   "source": [
    "## Ingresando  todas las URIREF"
   ]
  },
  {
   "cell_type": "code",
   "execution_count": 2,
   "metadata": {},
   "outputs": [],
   "source": [
    "from rdflib import URIRef, BNode, Literal\n",
    "from rdflib import Namespace\n",
    "from rdflib.namespace import RDF, RDFS\n",
    "from rdflib import ConjunctiveGraph\n",
    "import pprint"
   ]
  },
  {
   "cell_type": "code",
   "execution_count": 5,
   "metadata": {},
   "outputs": [],
   "source": [
    "squirtle = URIRef('https://api.pokemon.com/el/pokedex/Squirtle') \n",
    "wartortle = URIRef('https://api.pokemon.com/el/pokedex/Wartortle') \n",
    "blastoise = URIRef('https://api.pokemon.com/el/pokedex/Blastoise')\n",
    "caterpie = URIRef('https://api.pokemon.com/el/pokedex/Caterpie')\n",
    "metapod = URIRef('https://api.pokemon.com/el/pokedex/Metapod') \n",
    "butterfree = URIRef('https://api.pokemon.com/el/pokedex/Butterfree')"
   ]
  },
  {
   "cell_type": "code",
   "execution_count": 6,
   "metadata": {},
   "outputs": [],
   "source": [
    "n = Namespace(\"https://pokemon.fandom.com/es/wiki/\")"
   ]
  },
  {
   "cell_type": "code",
   "execution_count": 7,
   "metadata": {},
   "outputs": [],
   "source": [
    "g = ConjunctiveGraph()"
   ]
  },
  {
   "cell_type": "code",
   "execution_count": 8,
   "metadata": {},
   "outputs": [],
   "source": [
    "torrente = URIRef(\"https://pokemon.fandom.com/es/wiki/Torrente\")\n",
    "polvoescudo = URIRef(\"https://pokemon.fandom.com/es/wiki/Polvo_escudo\")\n",
    "mudar = URIRef(\"https://pokemon.fandom.com/es/wiki/Mudar\")\n",
    "ojocompuesto = URIRef(\"https://pokemon.fandom.com/es/wiki/Ojo_compuesto\")"
   ]
  },
  {
   "cell_type": "markdown",
   "metadata": {},
   "source": [
    "## URI Caracteristicas"
   ]
  },
  {
   "cell_type": "code",
   "execution_count": 12,
   "metadata": {},
   "outputs": [],
   "source": [
    "caracteristicas=n.pantalla_de_datos\n",
    "nombre = n.mote\n",
    "habilidad = n.habilidad\n",
    "especie=n.especie\n",
    "evolucion=n.evolucion\n",
    "efectividad=n.efectividad\n",
    "\n",
    "g.add((nombre, RDFS.subPropertyOf, RDFS.label))\n",
    "g.add((habilidad, RDFS.subPropertyOf, RDFS.label))\n",
    "g.add((especie, RDFS.subPropertyOf, RDFS.label))\n",
    "g.add((evolucion, RDFS.subPropertyOf, RDFS.label))\n",
    "\n",
    "g.add((efectividad, RDFS.subPropertyOf, RDFS.label))"
   ]
  },
  {
   "cell_type": "code",
   "execution_count": 13,
   "metadata": {},
   "outputs": [],
   "source": [
    "g.add((n.tipo_tierra, RDFS.subClassOf, n.pokemon))\n",
    "g.add((n.tipo_tierra, efectividad, n.tipo_acero))\n",
    "\n",
    "g.add((n.tipo_agua, RDFS.subClassOf, n.pokemon))\n",
    "g.add((n.tipo_agua, efectividad, n.tipo_fuego))\n",
    "\n",
    "g.add((n.tipo_planta, RDFS.subClassOf, n.pokemon))\n",
    "g.add((n.tipo_planta, efectividad, n.tipo_agua))\n",
    "\n",
    "g.add((n.tipo_fuego, RDFS.subClassOf, n.pokemon))\n",
    "g.add((n.tipo_fuego, efectividad, n.tipo_bicho))\n",
    "g.add((n.tipo_fuego, efectividad, n.tipo_planta))\n",
    "g.add((n.tipo_fuego, efectividad, n.tipo_hielo))\n",
    "\n",
    "g.add((n.tipo_electrico, RDFS.subClassOf, n.pokemon))\n",
    "g.add((n.tipo_electrico, efectividad, n.tipo_agua))\n",
    "g.add((n.tipo_electrico, efectividad, n.tipo_volador))\n",
    "\n",
    "g.add((n.tipo_bicho, RDFS.subClassOf, n.pokemon))\n",
    "g.add((n.tipo_bicho, efectividad, n.tipo_planta))\n",
    "g.add((n.tipo_bicho, efectividad, n.tipo_psiquico))\n",
    "g.add((n.tipo_bicho, efectividad, n.tipo_siniestro))\n",
    "\n",
    "g.add((n.tipo_veneno, RDFS.subClassOf, n.pokemon))\n",
    "g.add((n.tipo_volador, efectividad, n.tipo_planta))\n",
    "g.add((n.tipo_volador, efectividad, n.tipo_hada))\n",
    "\n",
    "g.add((n.tipo_volador, RDFS.subClassOf, n.pokemon))\n",
    "g.add((n.tipo_volador, efectividad, n.tipo_bicho))\n",
    "g.add((n.tipo_volador, efectividad, n.tipo_lucha))\n",
    "g.add((n.tipo_volador, efectividad, n.tipo_planta))"
   ]
  },
  {
   "cell_type": "code",
   "execution_count": 14,
   "metadata": {},
   "outputs": [],
   "source": [
    "g.add((n.primera_generacion, RDFS.subClassOf, n.pokemon))\n",
    "g.add((n.segunda_generacion, RDFS.subClassOf, n.pokemon))\n",
    "g.add((n.tercera_generacion, RDFS.subClassOf, n.pokemon))\n",
    "g.add((n.cuarta_generacion, RDFS.subClassOf, n.pokemon))"
   ]
  },
  {
   "cell_type": "code",
   "execution_count": 15,
   "metadata": {},
   "outputs": [],
   "source": [
    "g.add((caracteristicas, RDFS.subPropertyOf, n.pokemon))\n",
    "\n",
    "g.add((nombre, RDFS.subPropertyOf, caracteristicas))\n",
    "g.add((habilidad, RDFS.subPropertyOf, caracteristicas))\n",
    "g.add((especie, RDFS.subPropertyOf, caracteristicas))\n",
    "\n",
    "g.add((evolucion, RDFS.subPropertyOf, caracteristicas))\n",
    "g.add((evolucion, RDFS.domain, n.pokemon))\n",
    "g.add((evolucion, RDFS.range, n.pokemon))\n",
    "\n",
    "g.add((efectividad, RDFS.subPropertyOf, n.tipo_fuego))\n",
    "g.add((efectividad, RDFS.subPropertyOf, n.tipo_electrico))\n",
    "g.add((efectividad, RDFS.subPropertyOf, n.tipo_agua))\n",
    "g.add((efectividad, RDFS.subPropertyOf, n.tipo_volador))\n",
    "g.add((efectividad, RDFS.subPropertyOf, n.tipo_lucha))\n",
    "g.add((efectividad, RDFS.subPropertyOf, n.tipo_dragon))\n",
    "g.add((efectividad, RDFS.subPropertyOf, n.tipo_planta))\n",
    "g.add((efectividad, RDFS.subPropertyOf, n.tipo_hielo))"
   ]
  },
  {
   "cell_type": "code",
   "execution_count": 16,
   "metadata": {},
   "outputs": [],
   "source": [
    "g.add((squirtle, RDF.type, n.tipo_agua))\n",
    "g.add((squirtle, RDF.type, n.primera_generacion))\n",
    "g.add((squirtle, habilidad, n.torrente))\n",
    "g.add((squirtle, evolucion, wartortle))\n",
    "g.add((squirtle, nombre, Literal('Squirtle')))\n",
    "\n",
    "g.add((wartortle, RDF.type, n.tipo_agua))\n",
    "g.add((squirtle, RDF.type, n.primera_generacion))\n",
    "g.add((wartortle, habilidad, n.torrente))\n",
    "g.add((wartortle, evolucion, blastoise))\n",
    "g.add((wartortle, nombre, Literal('Wartortle')))\n",
    "\n",
    "g.add((blastoise, RDF.type, n.tipo_agua))\n",
    "g.add((blastoise, RDF.type, n.primera_generacion))\n",
    "g.add((blastoise, habilidad, n.torrente))\n",
    "g.add((blastoise, nombre, Literal('Blastoise')))\n",
    "\n",
    "g.add((caterpie, RDF.type, n.tipo_bicho))\n",
    "g.add((caterpie, RDF.type, n.primera_generacion))\n",
    "g.add((caterpie, habilidad, n.polvoescudo))\n",
    "g.add((caterpie, evolucion, metapod))\n",
    "g.add((caterpie, nombre, Literal('Caterpie')))\n",
    "\n",
    "g.add((metapod, RDF.type, n.tipo_bicho))\n",
    "g.add((metapod, RDF.type, n.primera_generacion))\n",
    "g.add((metapod, habilidad, n.mudar))\n",
    "g.add((metapod, evolucion, butterfree))\n",
    "g.add((metapod, nombre, Literal('Metapod')))\n",
    "\n",
    "g.add((butterfree, RDF.type, n.tipo_bicho))\n",
    "g.add((butterfree, RDF.type, n.tipo_volador))\n",
    "g.add((butterfree, RDF.type, n.primera_generacion))\n",
    "g.add((butterfree, habilidad, n.ojocompuesto))\n",
    "g.add((butterfree, nombre, Literal('Butterfree')))"
   ]
  },
  {
   "cell_type": "code",
   "execution_count": 12,
   "metadata": {},
   "outputs": [],
   "source": [
    "#g.add((nombre, RDFS.subPropertyOf, RDFS.label))\n",
    "#g.add((habilidad, RDFS.subPropertyOf, RDFS.label))\n",
    "#g.add((categoria, RDFS.subPropertyOf, RDFS.label))\n",
    "#g.add((evolucion, RDFS.subPropertyOf, RDFS.label))"
   ]
  },
  {
   "cell_type": "code",
   "execution_count": 17,
   "metadata": {},
   "outputs": [
    {
     "name": "stdout",
     "output_type": "stream",
     "text": [
      "b'<?xml version=\"1.0\" encoding=\"UTF-8\"?><rdf:RDF   xmlns:ns1=\"https://pokemon.fandom.com/es/wiki/\"   xmlns:rdf=\"http://www.w3.org/1999/02/22-rdf-syntax-ns#\"   xmlns:rdfs=\"http://www.w3.org/2000/01/rdf-schema#\">  <rdf:Description rdf:about=\"https://api.pokemon.com/el/pokedex/Metapod\">    <rdf:type rdf:resource=\"https://pokemon.fandom.com/es/wiki/tipo_bicho\"/>    <ns1:evolucion rdf:resource=\"https://api.pokemon.com/el/pokedex/Butterfree\"/>    <ns1:habilidad rdf:resource=\"https://pokemon.fandom.com/es/wiki/mudar\"/>    <rdf:type rdf:resource=\"https://pokemon.fandom.com/es/wiki/primera_generacion\"/>    <ns1:mote>Metapod</ns1:mote>  </rdf:Description>  <rdf:Description rdf:about=\"https://api.pokemon.com/el/pokedex/Squirtle\">    <ns1:mote>Squirtle</ns1:mote>    <ns1:evolucion rdf:resource=\"https://api.pokemon.com/el/pokedex/Wartortle\"/>    <rdf:type rdf:resource=\"https://pokemon.fandom.com/es/wiki/primera_generacion\"/>    <rdf:type rdf:resource=\"https://pokemon.fandom.com/es/wiki/tipo_agua\"/>    <ns1:habilidad rdf:resource=\"https://pokemon.fandom.com/es/wiki/torrente\"/>  </rdf:Description>  <rdf:Description rdf:about=\"https://pokemon.fandom.com/es/wiki/tipo_bicho\">    <rdfs:subClassOf rdf:resource=\"https://pokemon.fandom.com/es/wiki/pokemon\"/>    <ns1:efectividad rdf:resource=\"https://pokemon.fandom.com/es/wiki/tipo_planta\"/>    <ns1:efectividad rdf:resource=\"https://pokemon.fandom.com/es/wiki/tipo_siniestro\"/>    <ns1:efectividad rdf:resource=\"https://pokemon.fandom.com/es/wiki/tipo_psiquico\"/>  </rdf:Description>  <rdf:Description rdf:about=\"https://pokemon.fandom.com/es/wiki/tipo_volador\">    <ns1:efectividad rdf:resource=\"https://pokemon.fandom.com/es/wiki/tipo_planta\"/>    <ns1:efectividad rdf:resource=\"https://pokemon.fandom.com/es/wiki/tipo_lucha\"/>    <ns1:efectividad rdf:resource=\"https://pokemon.fandom.com/es/wiki/tipo_bicho\"/>    <ns1:efectividad rdf:resource=\"https://pokemon.fandom.com/es/wiki/tipo_hada\"/>    <rdfs:subClassOf rdf:resource=\"https://pokemon.fandom.com/es/wiki/pokemon\"/>  </rdf:Description>  <rdf:Description rdf:about=\"https://api.pokemon.com/el/pokedex/Caterpie\">    <ns1:mote>Caterpie</ns1:mote>    <ns1:evolucion rdf:resource=\"https://api.pokemon.com/el/pokedex/Metapod\"/>    <ns1:habilidad rdf:resource=\"https://pokemon.fandom.com/es/wiki/polvoescudo\"/>    <rdf:type rdf:resource=\"https://pokemon.fandom.com/es/wiki/primera_generacion\"/>    <rdf:type rdf:resource=\"https://pokemon.fandom.com/es/wiki/tipo_bicho\"/>  </rdf:Description>  <rdf:Description rdf:about=\"https://pokemon.fandom.com/es/wiki/efectividad\">    <rdfs:subPropertyOf rdf:resource=\"https://pokemon.fandom.com/es/wiki/tipo_electrico\"/>    <rdfs:subPropertyOf rdf:resource=\"https://pokemon.fandom.com/es/wiki/tipo_volador\"/>    <rdfs:subPropertyOf rdf:resource=\"https://pokemon.fandom.com/es/wiki/tipo_hielo\"/>    <rdfs:subPropertyOf rdf:resource=\"https://pokemon.fandom.com/es/wiki/tipo_lucha\"/>    <rdfs:subPropertyOf rdf:resource=\"http://www.w3.org/2000/01/rdf-schema#label\"/>    <rdfs:subPropertyOf rdf:resource=\"https://pokemon.fandom.com/es/wiki/tipo_planta\"/>    <rdfs:subPropertyOf rdf:resource=\"https://pokemon.fandom.com/es/wiki/tipo_dragon\"/>    <rdfs:subPropertyOf rdf:resource=\"https://pokemon.fandom.com/es/wiki/tipo_fuego\"/>    <rdfs:subPropertyOf rdf:resource=\"https://pokemon.fandom.com/es/wiki/tipo_agua\"/>  </rdf:Description>  <rdf:Description rdf:about=\"https://pokemon.fandom.com/es/wiki/tipo_tierra\">    <ns1:efectividad rdf:resource=\"https://pokemon.fandom.com/es/wiki/tipo_acero\"/>    <rdfs:subClassOf rdf:resource=\"https://pokemon.fandom.com/es/wiki/pokemon\"/>  </rdf:Description>  <rdf:Description rdf:about=\"https://pokemon.fandom.com/es/wiki/especie\">    <rdfs:subPropertyOf rdf:resource=\"http://www.w3.org/2000/01/rdf-schema#label\"/>    <rdfs:subPropertyOf rdf:resource=\"https://pokemon.fandom.com/es/wiki/pantalla_de_datos\"/>  </rdf:Description>  <rdf:Description rdf:about=\"https://pokemon.fandom.com/es/wiki/tipo_fuego\">    <rdfs:subClassOf rdf:resource=\"https://pokemon.fandom.com/es/wiki/pokemon\"/>    <ns1:efectividad rdf:resource=\"https://pokemon.fandom.com/es/wiki/tipo_hielo\"/>    <ns1:efectividad rdf:resource=\"https://pokemon.fandom.com/es/wiki/tipo_bicho\"/>    <ns1:efectividad rdf:resource=\"https://pokemon.fandom.com/es/wiki/tipo_planta\"/>  </rdf:Description>  <rdf:Description rdf:about=\"https://pokemon.fandom.com/es/wiki/mote\">    <rdfs:subPropertyOf rdf:resource=\"http://www.w3.org/2000/01/rdf-schema#label\"/>    <rdfs:subPropertyOf rdf:resource=\"https://pokemon.fandom.com/es/wiki/pantalla_de_datos\"/>  </rdf:Description>  <rdf:Description rdf:about=\"https://pokemon.fandom.com/es/wiki/evolucion\">    <rdfs:range rdf:resource=\"https://pokemon.fandom.com/es/wiki/pokemon\"/>    <rdfs:subPropertyOf rdf:resource=\"http://www.w3.org/2000/01/rdf-schema#label\"/>    <rdfs:domain rdf:resource=\"https://pokemon.fandom.com/es/wiki/pokemon\"/>    <rdfs:subPropertyOf rdf:resource=\"https://pokemon.fandom.com/es/wiki/pantalla_de_datos\"/>  </rdf:Description>  <rdf:Description rdf:about=\"https://pokemon.fandom.com/es/wiki/segunda_generacion\">    <rdfs:subClassOf rdf:resource=\"https://pokemon.fandom.com/es/wiki/pokemon\"/>  </rdf:Description>  <rdf:Description rdf:about=\"https://api.pokemon.com/el/pokedex/Wartortle\">    <ns1:evolucion rdf:resource=\"https://api.pokemon.com/el/pokedex/Blastoise\"/>    <rdf:type rdf:resource=\"https://pokemon.fandom.com/es/wiki/tipo_agua\"/>    <ns1:habilidad rdf:resource=\"https://pokemon.fandom.com/es/wiki/torrente\"/>    <ns1:mote>Wartortle</ns1:mote>  </rdf:Description>  <rdf:Description rdf:about=\"https://pokemon.fandom.com/es/wiki/tipo_electrico\">    <ns1:efectividad rdf:resource=\"https://pokemon.fandom.com/es/wiki/tipo_volador\"/>    <ns1:efectividad rdf:resource=\"https://pokemon.fandom.com/es/wiki/tipo_agua\"/>    <rdfs:subClassOf rdf:resource=\"https://pokemon.fandom.com/es/wiki/pokemon\"/>  </rdf:Description>  <rdf:Description rdf:about=\"https://pokemon.fandom.com/es/wiki/tercera_generacion\">    <rdfs:subClassOf rdf:resource=\"https://pokemon.fandom.com/es/wiki/pokemon\"/>  </rdf:Description>  <rdf:Description rdf:about=\"https://pokemon.fandom.com/es/wiki/primera_generacion\">    <rdfs:subClassOf rdf:resource=\"https://pokemon.fandom.com/es/wiki/pokemon\"/>  </rdf:Description>  <rdf:Description rdf:about=\"https://api.pokemon.com/el/pokedex/Butterfree\">    <ns1:habilidad rdf:resource=\"https://pokemon.fandom.com/es/wiki/ojocompuesto\"/>    <rdf:type rdf:resource=\"https://pokemon.fandom.com/es/wiki/tipo_volador\"/>    <rdf:type rdf:resource=\"https://pokemon.fandom.com/es/wiki/primera_generacion\"/>    <ns1:mote>Butterfree</ns1:mote>    <rdf:type rdf:resource=\"https://pokemon.fandom.com/es/wiki/tipo_bicho\"/>  </rdf:Description>  <rdf:Description rdf:about=\"https://pokemon.fandom.com/es/wiki/tipo_planta\">    <ns1:efectividad rdf:resource=\"https://pokemon.fandom.com/es/wiki/tipo_agua\"/>    <rdfs:subClassOf rdf:resource=\"https://pokemon.fandom.com/es/wiki/pokemon\"/>  </rdf:Description>  <rdf:Description rdf:about=\"https://api.pokemon.com/el/pokedex/Blastoise\">    <ns1:habilidad rdf:resource=\"https://pokemon.fandom.com/es/wiki/torrente\"/>    <ns1:mote>Blastoise</ns1:mote>    <rdf:type rdf:resource=\"https://pokemon.fandom.com/es/wiki/primera_generacion\"/>    <rdf:type rdf:resource=\"https://pokemon.fandom.com/es/wiki/tipo_agua\"/>  </rdf:Description>  <rdf:Description rdf:about=\"https://pokemon.fandom.com/es/wiki/cuarta_generacion\">    <rdfs:subClassOf rdf:resource=\"https://pokemon.fandom.com/es/wiki/pokemon\"/>  </rdf:Description>  <rdf:Description rdf:about=\"https://pokemon.fandom.com/es/wiki/pantalla_de_datos\">    <rdfs:subPropertyOf rdf:resource=\"https://pokemon.fandom.com/es/wiki/pokemon\"/>  </rdf:Description>  <rdf:Description rdf:about=\"https://pokemon.fandom.com/es/wiki/tipo_veneno\">    <rdfs:subClassOf rdf:resource=\"https://pokemon.fandom.com/es/wiki/pokemon\"/>  </rdf:Description>  <rdf:Description rdf:about=\"https://pokemon.fandom.com/es/wiki/tipo_agua\">    <rdfs:subClassOf rdf:resource=\"https://pokemon.fandom.com/es/wiki/pokemon\"/>    <ns1:efectividad rdf:resource=\"https://pokemon.fandom.com/es/wiki/tipo_fuego\"/>  </rdf:Description>  <rdf:Description rdf:about=\"https://pokemon.fandom.com/es/wiki/habilidad\">    <rdfs:subPropertyOf rdf:resource=\"https://pokemon.fandom.com/es/wiki/pantalla_de_datos\"/>    <rdfs:subPropertyOf rdf:resource=\"http://www.w3.org/2000/01/rdf-schema#label\"/>  </rdf:Description></rdf:RDF>'\n"
     ]
    }
   ],
   "source": [
    "print(str(g.serialize(format='xml')).replace('\\\\n', ''))"
   ]
  },
  {
   "cell_type": "code",
   "execution_count": 18,
   "metadata": {},
   "outputs": [
    {
     "name": "stdout",
     "output_type": "stream",
     "text": [
      "<?xml version=\"1.0\" encoding=\"UTF-8\"?>\n",
      "<rdf:RDF\n",
      "   xmlns:ns1=\"https://pokemon.fandom.com/es/wiki/\"\n",
      "   xmlns:rdf=\"http://www.w3.org/1999/02/22-rdf-syntax-ns#\"\n",
      "   xmlns:rdfs=\"http://www.w3.org/2000/01/rdf-schema#\"\n",
      ">\n",
      "  <rdf:Description rdf:about=\"https://api.pokemon.com/el/pokedex/Metapod\">\n",
      "    <rdf:type rdf:resource=\"https://pokemon.fandom.com/es/wiki/tipo_bicho\"/>\n",
      "    <ns1:evolucion rdf:resource=\"https://api.pokemon.com/el/pokedex/Butterfree\"/>\n",
      "    <ns1:habilidad rdf:resource=\"https://pokemon.fandom.com/es/wiki/mudar\"/>\n",
      "    <rdf:type rdf:resource=\"https://pokemon.fandom.com/es/wiki/primera_generacion\"/>\n",
      "    <ns1:mote>Metapod</ns1:mote>\n",
      "  </rdf:Description>\n",
      "  <rdf:Description rdf:about=\"https://api.pokemon.com/el/pokedex/Squirtle\">\n",
      "    <ns1:mote>Squirtle</ns1:mote>\n",
      "    <ns1:evolucion rdf:resource=\"https://api.pokemon.com/el/pokedex/Wartortle\"/>\n",
      "    <rdf:type rdf:resource=\"https://pokemon.fandom.com/es/wiki/primera_generacion\"/>\n",
      "    <rdf:type rdf:resource=\"https://pokemon.fandom.com/es/wiki/tipo_agua\"/>\n",
      "    <ns1:habilidad rdf:resource=\"https://pokemon.fandom.com/es/wiki/torrente\"/>\n",
      "  </rdf:Description>\n",
      "  <rdf:Description rdf:about=\"https://pokemon.fandom.com/es/wiki/tipo_bicho\">\n",
      "    <rdfs:subClassOf rdf:resource=\"https://pokemon.fandom.com/es/wiki/pokemon\"/>\n",
      "    <ns1:efectividad rdf:resource=\"https://pokemon.fandom.com/es/wiki/tipo_planta\"/>\n",
      "    <ns1:efectividad rdf:resource=\"https://pokemon.fandom.com/es/wiki/tipo_siniestro\"/>\n",
      "    <ns1:efectividad rdf:resource=\"https://pokemon.fandom.com/es/wiki/tipo_psiquico\"/>\n",
      "  </rdf:Description>\n",
      "  <rdf:Description rdf:about=\"https://pokemon.fandom.com/es/wiki/tipo_volador\">\n",
      "    <ns1:efectividad rdf:resource=\"https://pokemon.fandom.com/es/wiki/tipo_planta\"/>\n",
      "    <ns1:efectividad rdf:resource=\"https://pokemon.fandom.com/es/wiki/tipo_lucha\"/>\n",
      "    <ns1:efectividad rdf:resource=\"https://pokemon.fandom.com/es/wiki/tipo_bicho\"/>\n",
      "    <ns1:efectividad rdf:resource=\"https://pokemon.fandom.com/es/wiki/tipo_hada\"/>\n",
      "    <rdfs:subClassOf rdf:resource=\"https://pokemon.fandom.com/es/wiki/pokemon\"/>\n",
      "  </rdf:Description>\n",
      "  <rdf:Description rdf:about=\"https://api.pokemon.com/el/pokedex/Caterpie\">\n",
      "    <ns1:mote>Caterpie</ns1:mote>\n",
      "    <ns1:evolucion rdf:resource=\"https://api.pokemon.com/el/pokedex/Metapod\"/>\n",
      "    <ns1:habilidad rdf:resource=\"https://pokemon.fandom.com/es/wiki/polvoescudo\"/>\n",
      "    <rdf:type rdf:resource=\"https://pokemon.fandom.com/es/wiki/primera_generacion\"/>\n",
      "    <rdf:type rdf:resource=\"https://pokemon.fandom.com/es/wiki/tipo_bicho\"/>\n",
      "  </rdf:Description>\n",
      "  <rdf:Description rdf:about=\"https://pokemon.fandom.com/es/wiki/efectividad\">\n",
      "    <rdfs:subPropertyOf rdf:resource=\"https://pokemon.fandom.com/es/wiki/tipo_electrico\"/>\n",
      "    <rdfs:subPropertyOf rdf:resource=\"https://pokemon.fandom.com/es/wiki/tipo_volador\"/>\n",
      "    <rdfs:subPropertyOf rdf:resource=\"https://pokemon.fandom.com/es/wiki/tipo_hielo\"/>\n",
      "    <rdfs:subPropertyOf rdf:resource=\"https://pokemon.fandom.com/es/wiki/tipo_lucha\"/>\n",
      "    <rdfs:subPropertyOf rdf:resource=\"http://www.w3.org/2000/01/rdf-schema#label\"/>\n",
      "    <rdfs:subPropertyOf rdf:resource=\"https://pokemon.fandom.com/es/wiki/tipo_planta\"/>\n",
      "    <rdfs:subPropertyOf rdf:resource=\"https://pokemon.fandom.com/es/wiki/tipo_dragon\"/>\n",
      "    <rdfs:subPropertyOf rdf:resource=\"https://pokemon.fandom.com/es/wiki/tipo_fuego\"/>\n",
      "    <rdfs:subPropertyOf rdf:resource=\"https://pokemon.fandom.com/es/wiki/tipo_agua\"/>\n",
      "  </rdf:Description>\n",
      "  <rdf:Description rdf:about=\"https://pokemon.fandom.com/es/wiki/tipo_tierra\">\n",
      "    <ns1:efectividad rdf:resource=\"https://pokemon.fandom.com/es/wiki/tipo_acero\"/>\n",
      "    <rdfs:subClassOf rdf:resource=\"https://pokemon.fandom.com/es/wiki/pokemon\"/>\n",
      "  </rdf:Description>\n",
      "  <rdf:Description rdf:about=\"https://pokemon.fandom.com/es/wiki/especie\">\n",
      "    <rdfs:subPropertyOf rdf:resource=\"http://www.w3.org/2000/01/rdf-schema#label\"/>\n",
      "    <rdfs:subPropertyOf rdf:resource=\"https://pokemon.fandom.com/es/wiki/pantalla_de_datos\"/>\n",
      "  </rdf:Description>\n",
      "  <rdf:Description rdf:about=\"https://pokemon.fandom.com/es/wiki/tipo_fuego\">\n",
      "    <rdfs:subClassOf rdf:resource=\"https://pokemon.fandom.com/es/wiki/pokemon\"/>\n",
      "    <ns1:efectividad rdf:resource=\"https://pokemon.fandom.com/es/wiki/tipo_hielo\"/>\n",
      "    <ns1:efectividad rdf:resource=\"https://pokemon.fandom.com/es/wiki/tipo_bicho\"/>\n",
      "    <ns1:efectividad rdf:resource=\"https://pokemon.fandom.com/es/wiki/tipo_planta\"/>\n",
      "  </rdf:Description>\n",
      "  <rdf:Description rdf:about=\"https://pokemon.fandom.com/es/wiki/mote\">\n",
      "    <rdfs:subPropertyOf rdf:resource=\"http://www.w3.org/2000/01/rdf-schema#label\"/>\n",
      "    <rdfs:subPropertyOf rdf:resource=\"https://pokemon.fandom.com/es/wiki/pantalla_de_datos\"/>\n",
      "  </rdf:Description>\n",
      "  <rdf:Description rdf:about=\"https://pokemon.fandom.com/es/wiki/evolucion\">\n",
      "    <rdfs:range rdf:resource=\"https://pokemon.fandom.com/es/wiki/pokemon\"/>\n",
      "    <rdfs:subPropertyOf rdf:resource=\"http://www.w3.org/2000/01/rdf-schema#label\"/>\n",
      "    <rdfs:domain rdf:resource=\"https://pokemon.fandom.com/es/wiki/pokemon\"/>\n",
      "    <rdfs:subPropertyOf rdf:resource=\"https://pokemon.fandom.com/es/wiki/pantalla_de_datos\"/>\n",
      "  </rdf:Description>\n",
      "  <rdf:Description rdf:about=\"https://pokemon.fandom.com/es/wiki/segunda_generacion\">\n",
      "    <rdfs:subClassOf rdf:resource=\"https://pokemon.fandom.com/es/wiki/pokemon\"/>\n",
      "  </rdf:Description>\n",
      "  <rdf:Description rdf:about=\"https://api.pokemon.com/el/pokedex/Wartortle\">\n",
      "    <ns1:evolucion rdf:resource=\"https://api.pokemon.com/el/pokedex/Blastoise\"/>\n",
      "    <rdf:type rdf:resource=\"https://pokemon.fandom.com/es/wiki/tipo_agua\"/>\n",
      "    <ns1:habilidad rdf:resource=\"https://pokemon.fandom.com/es/wiki/torrente\"/>\n",
      "    <ns1:mote>Wartortle</ns1:mote>\n",
      "  </rdf:Description>\n",
      "  <rdf:Description rdf:about=\"https://pokemon.fandom.com/es/wiki/tipo_electrico\">\n",
      "    <ns1:efectividad rdf:resource=\"https://pokemon.fandom.com/es/wiki/tipo_volador\"/>\n",
      "    <ns1:efectividad rdf:resource=\"https://pokemon.fandom.com/es/wiki/tipo_agua\"/>\n",
      "    <rdfs:subClassOf rdf:resource=\"https://pokemon.fandom.com/es/wiki/pokemon\"/>\n",
      "  </rdf:Description>\n",
      "  <rdf:Description rdf:about=\"https://pokemon.fandom.com/es/wiki/tercera_generacion\">\n",
      "    <rdfs:subClassOf rdf:resource=\"https://pokemon.fandom.com/es/wiki/pokemon\"/>\n",
      "  </rdf:Description>\n",
      "  <rdf:Description rdf:about=\"https://pokemon.fandom.com/es/wiki/primera_generacion\">\n",
      "    <rdfs:subClassOf rdf:resource=\"https://pokemon.fandom.com/es/wiki/pokemon\"/>\n",
      "  </rdf:Description>\n",
      "  <rdf:Description rdf:about=\"https://api.pokemon.com/el/pokedex/Butterfree\">\n",
      "    <ns1:habilidad rdf:resource=\"https://pokemon.fandom.com/es/wiki/ojocompuesto\"/>\n",
      "    <rdf:type rdf:resource=\"https://pokemon.fandom.com/es/wiki/tipo_volador\"/>\n",
      "    <rdf:type rdf:resource=\"https://pokemon.fandom.com/es/wiki/primera_generacion\"/>\n",
      "    <ns1:mote>Butterfree</ns1:mote>\n",
      "    <rdf:type rdf:resource=\"https://pokemon.fandom.com/es/wiki/tipo_bicho\"/>\n",
      "  </rdf:Description>\n",
      "  <rdf:Description rdf:about=\"https://pokemon.fandom.com/es/wiki/tipo_planta\">\n",
      "    <ns1:efectividad rdf:resource=\"https://pokemon.fandom.com/es/wiki/tipo_agua\"/>\n",
      "    <rdfs:subClassOf rdf:resource=\"https://pokemon.fandom.com/es/wiki/pokemon\"/>\n",
      "  </rdf:Description>\n",
      "  <rdf:Description rdf:about=\"https://api.pokemon.com/el/pokedex/Blastoise\">\n",
      "    <ns1:habilidad rdf:resource=\"https://pokemon.fandom.com/es/wiki/torrente\"/>\n",
      "    <ns1:mote>Blastoise</ns1:mote>\n",
      "    <rdf:type rdf:resource=\"https://pokemon.fandom.com/es/wiki/primera_generacion\"/>\n",
      "    <rdf:type rdf:resource=\"https://pokemon.fandom.com/es/wiki/tipo_agua\"/>\n",
      "  </rdf:Description>\n",
      "  <rdf:Description rdf:about=\"https://pokemon.fandom.com/es/wiki/cuarta_generacion\">\n",
      "    <rdfs:subClassOf rdf:resource=\"https://pokemon.fandom.com/es/wiki/pokemon\"/>\n",
      "  </rdf:Description>\n",
      "  <rdf:Description rdf:about=\"https://pokemon.fandom.com/es/wiki/pantalla_de_datos\">\n",
      "    <rdfs:subPropertyOf rdf:resource=\"https://pokemon.fandom.com/es/wiki/pokemon\"/>\n",
      "  </rdf:Description>\n",
      "  <rdf:Description rdf:about=\"https://pokemon.fandom.com/es/wiki/tipo_veneno\">\n",
      "    <rdfs:subClassOf rdf:resource=\"https://pokemon.fandom.com/es/wiki/pokemon\"/>\n",
      "  </rdf:Description>\n",
      "  <rdf:Description rdf:about=\"https://pokemon.fandom.com/es/wiki/tipo_agua\">\n",
      "    <rdfs:subClassOf rdf:resource=\"https://pokemon.fandom.com/es/wiki/pokemon\"/>\n",
      "    <ns1:efectividad rdf:resource=\"https://pokemon.fandom.com/es/wiki/tipo_fuego\"/>\n",
      "  </rdf:Description>\n",
      "  <rdf:Description rdf:about=\"https://pokemon.fandom.com/es/wiki/habilidad\">\n",
      "    <rdfs:subPropertyOf rdf:resource=\"https://pokemon.fandom.com/es/wiki/pantalla_de_datos\"/>\n",
      "    <rdfs:subPropertyOf rdf:resource=\"http://www.w3.org/2000/01/rdf-schema#label\"/>\n",
      "  </rdf:Description>\n",
      "</rdf:RDF>\n"
     ]
    }
   ],
   "source": [
    "texto = str(g.serialize(format=\"xml\", encoding='utf-8').decode())\n",
    "for line in texto.splitlines():\n",
    "    print(line)"
   ]
  },
  {
   "cell_type": "markdown",
   "metadata": {},
   "source": [
    "### Inferencia"
   ]
  },
  {
   "cell_type": "code",
   "execution_count": 30,
   "metadata": {
    "scrolled": true
   },
   "outputs": [
    {
     "name": "stdout",
     "output_type": "stream",
     "text": [
      "None\n",
      "Metapod\n",
      "Butterfree\n",
      "Caterpie\n"
     ]
    }
   ],
   "source": [
    "for s in g.transitive_subjects(RDF.type, n.tipo_bicho):\n",
    "    print(g.value(s, nombre))"
   ]
  },
  {
   "cell_type": "code",
   "execution_count": null,
   "metadata": {},
   "outputs": [],
   "source": []
  }
 ],
 "metadata": {
  "colab": {
   "authorship_tag": "ABX9TyP1ntWpwMOVDBFEk4DvcseU",
   "include_colab_link": true,
   "name": "Pokemon-PC1.ipynb",
   "provenance": []
  },
  "kernelspec": {
   "display_name": "Python 3",
   "language": "python",
   "name": "python3"
  },
  "language_info": {
   "codemirror_mode": {
    "name": "ipython",
    "version": 3
   },
   "file_extension": ".py",
   "mimetype": "text/x-python",
   "name": "python",
   "nbconvert_exporter": "python",
   "pygments_lexer": "ipython3",
   "version": "3.8.5"
  }
 },
 "nbformat": 4,
 "nbformat_minor": 1
}
