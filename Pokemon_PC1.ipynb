{
 "cells": [
  {
   "cell_type": "markdown",
   "metadata": {},
   "source": [
    "# Estructura RDF basado en Pokemon"
   ]
  },
  {
   "cell_type": "code",
   "execution_count": 29,
   "metadata": {
    "colab": {
     "base_uri": "https://localhost:8080/"
    },
    "id": "yOdPUbFzh6dm",
    "outputId": "b2991dd2-ef69-4e38-8013-f1d997796be4"
   },
   "outputs": [],
   "source": [
    "# Google Colab\n",
    "#!pip install rdflib"
   ]
  },
  {
   "cell_type": "code",
   "execution_count": 30,
   "metadata": {
    "id": "iwNsx18MgtUJ"
   },
   "outputs": [],
   "source": [
    "from rdflib import URIRef, BNode, Literal\n",
    "from rdflib import Namespace\n",
    "from rdflib.namespace import RDF, RDFS\n",
    "from rdflib import ConjunctiveGraph\n",
    "import pprint"
   ]
  },
  {
   "cell_type": "markdown",
   "metadata": {
    "id": "_t0SXiWVxgkb"
   },
   "source": [
    "## Ingresando  todas las URIREF"
   ]
  },
  {
   "cell_type": "code",
   "execution_count": 31,
   "metadata": {
    "id": "GBiTKfeLgtUM"
   },
   "outputs": [],
   "source": [
    "charmander = URIRef(\"https://api.pokemon.com/el/pokedex/charmander\")\n",
    "charmeleon = URIRef(\"https://api.pokemon.com/el/pokedex/charmeleon\")\n",
    "charizard = URIRef(\"https://api.pokemon.com/el/pokedex/charizard\")\n",
    "\n",
    "pichu = URIRef(\"https://api.pokemon.com/el/pokedex/pichu\")\n",
    "pikachu = URIRef(\"https://api.pokemon.com/el/pokedex/pikachu\")\n",
    "raichu = URIRef(\"https://api.pokemon.com/el/pokedex/raichu\")\n",
    "\n",
    "torchic = URIRef(\"https://api.pokemon.com/el/pokedex/torchic\")\n",
    "combusken = URIRef(\"https://api.pokemon.com/el/pokedex/combusken\")\n",
    "blaziken = URIRef(\"https://api.pokemon.com/el/pokedex/blaziken\")\n",
    "\n",
    "regice = URIRef(\"https://api.pokemon.com/el/pokedex/regice\")\n",
    "\n",
    "bagon = URIRef(\"https://api.pokemon.com/el/pokedex/bagon\")\n",
    "shelgon = URIRef(\"https://api.pokemon.com/el/pokedex/Shelgon\")\n",
    "salamence = URIRef(\"https://api.pokemon.com/el/pokedex/Salamence\")\n",
    "\n",
    "chimchar = URIRef(\"https://api.pokemon.com/el/pokedex/chimchar\")\n",
    "monferno = URIRef(\"https://api.pokemon.com/el/pokedex/monferno\")\n",
    "infernape = URIRef(\"https://api.pokemon.com/el/pokedex/infernape\")\n",
    "\n",
    "piplup = URIRef(\"https://api.pokemon.com/el/pokedex/piplup\")\n",
    "prinplup = URIRef(\"https://api.pokemon.com/el/pokedex/prinplup\")\n",
    "empoleon = URIRef(\"https://api.pokemon.com/el/pokedex/empoleon\")\n",
    "\n",
    "starly = URIRef(\"https://api.pokemon.com/el/pokedex/starly\")\n",
    "staravia = URIRef(\"https://api.pokemon.com/el/pokedex/staravia\")\n",
    "staraptor = URIRef(\"https://api.pokemon.com/el/pokedex/staraptor\")\n",
    "\n",
    "squirtle = URIRef('https://api.pokemon.com/el/pokedex/squirtle') \n",
    "wartortle = URIRef('https://api.pokemon.com/el/pokedex/wartortle') \n",
    "blastoise = URIRef('https://api.pokemon.com/el/pokedex/blastoise')\n",
    "\n",
    "caterpie = URIRef('https://api.pokemon.com/el/pokedex/caterpie')\n",
    "metapod = URIRef('https://api.pokemon.com/el/pokedex/metapod') \n",
    "butterfree = URIRef('https://api.pokemon.com/el/pokedex/butterfree')\n",
    "\n",
    "nombre = URIRef(\"https://dle.rae.es/nombre\")\n",
    "#efectividad = URIRef(\"https://pokemon.fandom.com/es/wiki/Tipos_elementales#Efectividades_de_los_tipos\")\n",
    "\n"
   ]
  },
  {
   "cell_type": "markdown",
   "metadata": {
    "id": "AGd3pqS6gtUO"
   },
   "source": [
    "## Namespace "
   ]
  },
  {
   "cell_type": "code",
   "execution_count": 32,
   "metadata": {
    "id": "-GeASpTZgtUP"
   },
   "outputs": [],
   "source": [
    "n = Namespace(\"https://pokemon.fandom.com/es/wiki/\")\n"
   ]
  },
  {
   "cell_type": "markdown",
   "metadata": {},
   "source": [
    "## Grafo"
   ]
  },
  {
   "cell_type": "code",
   "execution_count": 33,
   "metadata": {
    "id": "pPS7krQKgtUQ"
   },
   "outputs": [],
   "source": [
    "g = ConjunctiveGraph()\n",
    "g.bind(\"Namespace\",n)\n",
    "g.bind(\"RAE\",URIRef(\"https://dle.rae.es/\"))"
   ]
  },
  {
   "cell_type": "markdown",
   "metadata": {
    "id": "GpH9GVV2gtUQ"
   },
   "source": [
    "## Caracteristicas"
   ]
  },
  {
   "cell_type": "code",
   "execution_count": 34,
   "metadata": {
    "id": "9KmPQFxRgtUR"
   },
   "outputs": [],
   "source": [
    "caracteristicas= n.pantalla_de_datos\n",
    "nombre_pokemon = n.mote\n",
    "habilidad = n.habilidad\n",
    "especie = n.especie\n",
    "evolucion = n.evolucion\n",
    "\n",
    "g.add((nombre_pokemon, RDFS.subPropertyOf, RDFS.label))\n",
    "g.add((nombre, RDFS.subPropertyOf, RDFS.label))\n",
    "g.add((habilidad, RDFS.subPropertyOf, RDFS.label))\n",
    "g.add((especie, RDFS.subPropertyOf, RDFS.label))\n",
    "g.add((evolucion, RDFS.subPropertyOf, RDFS.label))\n",
    "#g.add((efectividad, RDFS.subPropertyOf, RDFS.label))\n",
    "\n",
    "#habilidad = URIRef(\"https://pokemon.fandom.com/es/wiki/Habilidad\")\n",
    "#especie = URIRef(\"https://pokemon.fandom.com/es/wiki/Especie\")\n",
    "#evoluciona_a = URIRef(\"https://pokemon.fandom.com/es/wiki/Evolucion\")\n",
    "\n"
   ]
  },
  {
   "cell_type": "markdown",
   "metadata": {
    "id": "-ldbeG_-gtUS"
   },
   "source": [
    "## Subclases de Pokemon"
   ]
  },
  {
   "cell_type": "markdown",
   "metadata": {},
   "source": [
    "### Por tipo de elemento"
   ]
  },
  {
   "cell_type": "code",
   "execution_count": 35,
   "metadata": {
    "id": "y1NUzQg9gtUS"
   },
   "outputs": [],
   "source": [
    "g.add((n.tipo_tierra, RDFS.subClassOf, n.pokemon))\n",
    "g.add((n.tipo_tierra, nombre, Literal(\"Pokemon tipo tierra\") ))\n",
    "#g.add((n.tipo_tierra, efectividad, n.tipo_acero))\n",
    "\n",
    "g.add((n.tipo_agua, RDFS.subClassOf, n.pokemon))\n",
    "g.add((n.tipo_agua, nombre, Literal(\"Pokemon tipo agua\") ))\n",
    "#g.add((n.tipo_agua, efectividad, n.tipo_fuego))\n",
    "#g.add((n.tipo_agua, efectividad, n.tipo_roca))\n",
    "#g.add((n.tipo_agua, efectividad, n.tipo_tierra))\n",
    "\n",
    "g.add((n.tipo_bicho, RDFS.subClassOf, n.pokemon))\n",
    "g.add((n.tipo_bicho, nombre, Literal(\"Pokemon tipo bicho\") ))\n",
    "#g.add((n.tipo_bicho, efectividad, n.tipo_planta))\n",
    "#g.add((n.tipo_bicho, efectividad, n.tipo_psiquico))\n",
    "#g.add((n.tipo_bicho, efectividad, n.tipo_siniestro))\n",
    "\n",
    "g.add((n.tipo_dragon, RDFS.subClassOf, n.pokemon))\n",
    "g.add((n.tipo_dragon, nombre, Literal(\"Pokemon tipo dragón\") ))\n",
    "#g.add((n.tipo_dragon, efectividad, n.tipo_dragon))\n",
    "\n",
    "g.add((n.tipo_electrico, RDFS.subClassOf, n.pokemon))\n",
    "g.add((n.tipo_electrico, nombre, Literal(\"Pokemon tipo eléctrico\") ))\n",
    "#g.add((n.tipo_electrico, efectividad, n.agua))\n",
    "#g.add((n.tipo_electrico, efectividad, n.volador))\n",
    "\n",
    "g.add((n.tipo_fantasma, RDFS.subClassOf, n.pokemon))\n",
    "g.add((n.tipo_fantasma, nombre, Literal(\"Pokemon tipo fantasma\") ))\n",
    "#g.add((n.tipo_fantasma, efectividad, n.tipo_fantasma))\n",
    "#g.add((n.tipo_fantasma, efectividad, n.tipo_psiquico))\n",
    "\n",
    "g.add((n.tipo_fuego, RDFS.subClassOf, n.pokemon))\n",
    "g.add((n.tipo_fuego, nombre, Literal(\"Pokemon tipo fuego\") ))\n",
    "#g.add((n.tipo_fuego, efectividad, n.tipo_acero))\n",
    "#g.add((n.tipo_fuego, efectividad, n.tipo_bicho))\n",
    "#g.add((n.tipo_fuego, efectividad, n.tipo_planta))\n",
    "#g.add((n.tipo_fuego, efectividad, n.tipo_hielo))\n",
    "\n",
    "g.add((n.tipo_hielo, RDFS.subClassOf, n.pokemon))\n",
    "g.add((n.tipo_hielo, nombre, Literal(\"Pokemon tipo hielo\") ))\n",
    "#g.add((n.tipo_hielo, efectividad, n.tipo_dragon))\n",
    "#g.add((n.tipo_hielo, efectividad, n.tipo_planta))\n",
    "#g.add((n.tipo_hielo, efectividad, n.tipo_tierra))\n",
    "#g.add((n.tipo_hielo, efectividad, n.tipo_volador))\n",
    "\n",
    "g.add((n.tipo_lucha, RDFS.subClassOf, n.pokemon))\n",
    "g.add((n.tipo_lucha, nombre, Literal(\"Pokemon tipo lucha\") ))\n",
    "#g.add((n.tipo_lucha, efectividad, n.tipo_acero))\n",
    "#g.add((n.tipo_lucha, efectividad, n.tipo_hielo))\n",
    "#g.add((n.tipo_lucha, efectividad, n.tipo_normal))\n",
    "#g.add((n.tipo_lucha, efectividad, n.tipo_roca))\n",
    "#g.add((n.tipo_lucha, efectividad, n.tipo_siniestro))\n",
    "\n",
    "g.add((n.tipo_planta, RDFS.subClassOf, n.pokemon))\n",
    "g.add((n.tipo_planta, nombre, Literal(\"Pokemon tipo planta\") ))\n",
    "#g.add((n.tipo_planta, efectividad, n.tipo_agua))\n",
    "#g.add((n.tipo_planta, efectividad, n.tipo_roca))\n",
    "#g.add((n.tipo_planta, efectividad, n.tipo_tierra))\n",
    "\n",
    "g.add((n.tipo_psiquico, RDFS.subClassOf, n.pokemon))\n",
    "g.add((n.tipo_psiquico, nombre, Literal(\"Pokemon tipo psiquico\") ))\n",
    "#g.add((n.tipo_psiquico, efectividad, n.tipo_veneno))\n",
    "#g.add((n.tipo_psiquico, efectividad, n.tipo_lucha))\n",
    "\n",
    "g.add((n.tipo_volador, RDFS.subClassOf, n.pokemon))\n",
    "g.add((n.tipo_volador, nombre, Literal(\"Pokemon tipo volador\") ))\n",
    "#g.add((n.tipo_volador, efectividad, n.bicho))\n",
    "#g.add((n.tipo_volador, efectividad, n.lucha))\n",
    "#g.add((n.tipo_volador, efectividad, n.planta))\n",
    "\n",
    "g.add((n.tipo_veneno, RDFS.subClassOf, n.pokemon))\n",
    "g.add((n.tipo_veneno, nombre, Literal(\"Pokemon tipo veneno\") ))\n",
    "g.add((n.tipo_acero, RDFS.subClassOf, n.pokemon))\n",
    "g.add((n.tipo_acero, nombre, Literal(\"Pokemon tipo acero\") ))\n"
   ]
  },
  {
   "cell_type": "markdown",
   "metadata": {},
   "source": [
    "### Por generacion"
   ]
  },
  {
   "cell_type": "code",
   "execution_count": 36,
   "metadata": {},
   "outputs": [],
   "source": [
    "g.add((n.primera_generacion, RDFS.subClassOf, n.pokemon))\n",
    "g.add((n.primera_generacion,nombre, Literal(\"Pokemon de primera generación\")))\n",
    "g.add((n.segunda_generacion, RDFS.subClassOf, n.pokemon))\n",
    "g.add((n.segunda_generacion,nombre, Literal(\"Pokemon de segunda generación\")))\n",
    "g.add((n.tercera_generacion, RDFS.subClassOf, n.pokemon))\n",
    "g.add((n.tercera_generacion,nombre, Literal(\"Pokemon de tercera generación\")))\n",
    "g.add((n.cuarta_generacion, RDFS.subClassOf, n.pokemon))\n",
    "g.add((n.cuarta_generacion,nombre, Literal(\"Pokemon de cuarta generación\")))"
   ]
  },
  {
   "cell_type": "markdown",
   "metadata": {
    "id": "Y88Jo7BHgtUT"
   },
   "source": [
    "## Propiedades"
   ]
  },
  {
   "cell_type": "code",
   "execution_count": 37,
   "metadata": {
    "id": "yxkKH8g5gtUT"
   },
   "outputs": [],
   "source": [
    "g.add((caracteristicas, RDFS.domain,n.pokemon ))\n",
    "\n",
    "g.add((nombre_pokemon, RDFS.subPropertyOf, caracteristicas))\n",
    "g.add((nombre, RDFS.subPropertyOf, caracteristicas))\n",
    "g.add((habilidad, RDFS.subPropertyOf, caracteristicas))\n",
    "#g.add((especie, RDFS.subPropertyOf, caracteristicas))\n",
    "\n",
    "g.add((evolucion, RDFS.subPropertyOf, caracteristicas))\n",
    "g.add((evolucion, RDFS.domain, n.pokemon))\n",
    "g.add((evolucion, RDFS.range, n.pokemon))\n",
    "\n",
    "#g.add((efectividad, RDFS.subPropertyOf, n.tipo_fuego))\n",
    "#g.add((efectividad, RDFS.subPropertyOf, n.tipo_electrico))\n",
    "#g.add((efectividad, RDFS.subPropertyOf, n.tipo_agua))\n",
    "#g.add((efectividad, RDFS.subPropertyOf, n.tipo_volador))\n",
    "#g.add((efectividad, RDFS.subPropertyOf, n.tipo_lucha))\n",
    "#g.add((efectividad, RDFS.subPropertyOf, n.tipo_dragon))\n",
    "#g.add((efectividad, RDFS.subPropertyOf, n.tipo_planta))\n",
    "#g.add((efectividad, RDFS.subPropertyOf, n.tipo_hielo))"
   ]
  },
  {
   "cell_type": "markdown",
   "metadata": {
    "id": "sILjjuNzgtUU"
   },
   "source": [
    "### Instancias de pokemon"
   ]
  },
  {
   "cell_type": "code",
   "execution_count": 38,
   "metadata": {
    "id": "gT0dUjU3gtUU"
   },
   "outputs": [],
   "source": [
    "g.add((charmander, RDF.type, n.tipo_fuego))\n",
    "g.add((charmander, RDF.type, n.primera_generacion))\n",
    "g.add((charmander, habilidad, n.mar_llamas))\n",
    "g.add((charmander, evolucion, charmeleon))\n",
    "g.add((charmander, nombre_pokemon, Literal('Charmander')))\n",
    "\n",
    "\n",
    "g.add((charmeleon, RDF.type, n.tipo_fuego))\n",
    "g.add((charmeleon, RDF.type, n.primera_generacion))\n",
    "g.add((charmeleon, habilidad, n.mar_llamas))\n",
    "g.add((charmeleon, evolucion, charizard))\n",
    "g.add((charmeleon, nombre_pokemon, Literal('Charmeleon')))\n",
    "\n",
    "g.add((charizard, RDF.type, n.tipo_fuego))\n",
    "g.add((charizard, RDF.type, n.tipo_volador))\n",
    "g.add((charizard, RDF.type, n.primera_generacion))\n",
    "g.add((charizard, habilidad, n.mar_llamas))\n",
    "g.add((charizard, nombre_pokemon, Literal('Charizard')))\n",
    "\n",
    "# g.add((pichu, RDF.type, n.tipo_electrico))\n",
    "# g.add((pichu, RDF.type, n.primera_generacion))\n",
    "# g.add((pichu, habilidad, n.electricidad_estatica))\n",
    "# g.add((pichu, evolucion, pikachu))\n",
    "# g.add((pichu, nombre_pokemon, Literal('Pichu')))\n",
    "\n",
    "# g.add((pikachu, RDF.type, n.tipo_electrico))\n",
    "# g.add((pikachu, RDF.type, n.primera_generacion))\n",
    "# g.add((pikachu, habilidad, n.electricidad_estatica))\n",
    "# g.add((pikachu, evolucion, raichu))\n",
    "# g.add((pikachu, nombre_pokemon, Literal('Pikachu')))\n",
    "\n",
    "# g.add((raichu, RDF.type, n.tipo_electrico))\n",
    "# g.add((raichu, RDF.type, n.primera_generacion))\n",
    "# g.add((raichu, habilidad, n.electricidad_estatica))\n",
    "# g.add((raichu, nombre_pokemon, Literal('Raichu')))\n",
    "\n",
    "# g.add((torchic, RDF.type, n.tipo_fuego))\n",
    "# g.add((torchic, RDF.type, n.tercera_generacion))\n",
    "# g.add((torchic, habilidad, n.mar_llamas))\n",
    "# g.add((torchic, evolucion, combusken))\n",
    "# g.add((torchic, nombre_pokemon, Literal('Torchic')))\n",
    "\n",
    "# g.add((combusken, RDF.type, n.tipo_fuego))\n",
    "# g.add((combusken, RDF.type, n.tipo_lucha))\n",
    "# g.add((combusken, RDF.type, n.tercera_generacion))\n",
    "# g.add((combusken, habilidad, n.mar_llamas))\n",
    "# g.add((combusken, evolucion, blaziken))\n",
    "# g.add((combusken, nombre_pokemon, Literal('Combusken')))\n",
    "\n",
    "# g.add((blaziken, RDF.type, n.tipo_fuego))\n",
    "# g.add((blaziken, RDF.type, n.tipo_lucha))\n",
    "# g.add((blaziken, RDF.type, n.tercera_generacion))\n",
    "# g.add((blaziken, habilidad, n.mar_llamas))\n",
    "# g.add((blaziken, nombre_pokemon, Literal('Blaziken')))\n",
    "\n",
    "# g.add((regice, RDF.type, n.tipo_hielo))\n",
    "# g.add((regice, RDF.type, n.tercera_generacion))\n",
    "# g.add((regice, habilidad, n.cuerpo_puro))\n",
    "# g.add((regice, nombre_pokemon, Literal('Regice')))\n",
    "\n",
    "# g.add((bagon, RDF.type, n.tipo_dragon))\n",
    "# g.add((bagon, RDF.type, n.tercera_generacion))\n",
    "# g.add((bagon, habilidad, n.cabeza_roca))\n",
    "# g.add((bagon, evolucion, shelgon))\n",
    "# g.add((bagon, nombre_pokemon, Literal('Bagon')))\n",
    "\n",
    "# g.add((shelgon, RDF.type, n.tipo_dragon))\n",
    "# g.add((shelgon, RDF.type, n.tercera_generacion))\n",
    "# g.add((shelgon, habilidad, n.cabeza_roca))\n",
    "# g.add((shelgon, evolucion, salamence))\n",
    "# g.add((shelgon, nombre_pokemon, Literal('Bagon')))\n",
    "\n",
    "# g.add((salamence, RDF.type, n.tipo_dragon))\n",
    "# g.add((salamence, RDF.type, n.tipo_volador))\n",
    "# g.add((salamence, RDF.type, n.tercera_generacion))\n",
    "# g.add((salamence, habilidad, n.intimidacion))\n",
    "# g.add((salamence, nombre_pokemon, Literal('Salamence')))\n",
    "\n",
    "# ###\n",
    "# g.add((chimchar, RDF.type, n.tipo_fuego))\n",
    "# g.add((chimchar, RDF.type, n.cuarta_generacion))\n",
    "# g.add((chimchar, habilidad, n.mar_llamas))\n",
    "# g.add((chimchar, evolucion, monferno))\n",
    "# g.add((chimchar, nombre_pokemon, Literal('Chimchar')))\n",
    "\n",
    "\n",
    "# g.add((monferno, RDF.type, n.tipo_fuego))\n",
    "# g.add((monferno, RDF.type, n.tipo_lucha))\n",
    "# g.add((monferno, RDF.type, n.cuarta_generacion))\n",
    "# g.add((monferno, habilidad, n.mar_llamas))\n",
    "# g.add((monferno, evolucion, infernape))\n",
    "# g.add((monferno, nombre_pokemon, Literal('Monferno')))\n",
    "\n",
    "# g.add((infernape, RDF.type, n.tipo_fuego))\n",
    "# g.add((infernape, RDF.type, n.tipo_lucha))\n",
    "# g.add((infernape, RDF.type, n.cuarta_generacion))\n",
    "# g.add((infernape, habilidad, n.mar_llamas))\n",
    "# g.add((infernape, nombre_pokemon, Literal('Infernape')))\n",
    "\n",
    "# g.add((piplup, RDF.type, n.tipo_agua))\n",
    "# g.add((piplup, RDF.type, n.cuarta_generacion))\n",
    "# g.add((piplup, habilidad, n.torrente))\n",
    "# g.add((piplup, evolucion, prinplup))\n",
    "# g.add((piplup, nombre_pokemon, Literal('Piplup')))\n",
    "\n",
    "\n",
    "# g.add((prinplup, RDF.type, n.tipo_agua))\n",
    "# g.add((prinplup, RDF.type, n.cuarta_generacion))\n",
    "# g.add((prinplup, habilidad, n.torrente))\n",
    "# g.add((prinplup, evolucion, empoleon))\n",
    "# g.add((prinplup, nombre_pokemon, Literal('Prinplup')))\n",
    "\n",
    "# g.add((empoleon, RDF.type, n.tipo_agua))\n",
    "# g.add((empoleon, RDF.type, n.tipo_acero))\n",
    "# g.add((empoleon, RDF.type, n.cuarta_generacion))\n",
    "# g.add((empoleon, habilidad, n.torrente))\n",
    "# g.add((empoleon, nombre_pokemon, Literal('Empoleon')))\n",
    "\n",
    "# g.add((starly, RDF.type, n.tipo_normal))\n",
    "# g.add((starly, RDF.type, n.tipo_volador))\n",
    "# g.add((starly, RDF.type, n.cuarta_generacion))\n",
    "# g.add((starly, habilidad, n.vista_lince))\n",
    "# g.add((starly, evolucion, staravia))\n",
    "# g.add((starly, nombre_pokemon, Literal('Starly')))\n",
    "\n",
    "\n",
    "# g.add((staravia, RDF.type, n.tipo_normal))\n",
    "# g.add((staravia, RDF.type, n.tipo_volador))\n",
    "# g.add((staravia, RDF.type, n.cuarta_generacion))\n",
    "# g.add((staravia, habilidad, n.intimidacion))\n",
    "# g.add((staravia, evolucion, staraptor))\n",
    "# g.add((staravia, nombre_pokemon, Literal('Staravia')))\n",
    "\n",
    "# g.add((staraptor, RDF.type, n.tipo_normal))\n",
    "# g.add((staraptor, RDF.type, n.tipo_volador))\n",
    "# g.add((staraptor, RDF.type, n.cuarta_generacion))\n",
    "# g.add((staraptor, habilidad, n.intimidacion))\n",
    "# g.add((staraptor, nombre_pokemon, Literal('Staraptor')))\n",
    "\n",
    "# ##\n",
    "# g.add((squirtle, RDF.type, n.tipo_agua))\n",
    "# g.add((squirtle, RDF.type, n.primera_generacion))\n",
    "# g.add((squirtle, habilidad, n.torrente))\n",
    "# g.add((squirtle, evolucion, wartortle))\n",
    "# g.add((squirtle, nombre_pokemon, Literal('Squirtle')))\n",
    "\n",
    "# g.add((wartortle, RDF.type, n.tipo_agua))\n",
    "# g.add((wartortle, RDF.type, n.primera_generacion))\n",
    "# g.add((wartortle, habilidad, n.torrente))\n",
    "# g.add((wartortle, evolucion, blastoise))\n",
    "# g.add((wartortle, nombre_pokemon, Literal('Wartortle')))\n",
    "\n",
    "# g.add((blastoise, RDF.type, n.tipo_agua))\n",
    "# g.add((blastoise, RDF.type, n.primera_generacion))\n",
    "# g.add((blastoise, habilidad, n.torrente))\n",
    "# g.add((blastoise, nombre_pokemon, Literal('Blastoise')))\n",
    "\n",
    "# g.add((caterpie, RDF.type, n.tipo_bicho))\n",
    "# g.add((caterpie, RDF.type, n.primera_generacion))\n",
    "# g.add((caterpie, habilidad, n.polvo_escudo))\n",
    "# g.add((caterpie, evolucion, metapod))\n",
    "# g.add((caterpie, nombre_pokemon, Literal('Caterpie')))\n",
    "\n",
    "# g.add((metapod, RDF.type, n.tipo_bicho))\n",
    "# g.add((metapod, RDF.type, n.primera_generacion))\n",
    "# g.add((metapod, habilidad, n.mudar))\n",
    "# g.add((metapod, evolucion, butterfree))\n",
    "# g.add((metapod, nombre_pokemon, Literal('Metapod')))\n",
    "\n",
    "# g.add((butterfree, RDF.type, n.tipo_bicho))\n",
    "# g.add((butterfree, RDF.type, n.tipo_volador))\n",
    "# g.add((butterfree, RDF.type, n.primera_generacion))\n",
    "# g.add((butterfree, habilidad, n.ojo_compuesto))\n",
    "# g.add((butterfree, nombre_pokemon, Literal('Butterfree')))"
   ]
  },
  {
   "cell_type": "markdown",
   "metadata": {},
   "source": [
    "## Serialización"
   ]
  },
  {
   "cell_type": "code",
   "execution_count": 39,
   "metadata": {
    "colab": {
     "base_uri": "https://localhost:8080/"
    },
    "id": "0h58lVhKgtUW",
    "outputId": "7477de2f-bfa6-4f07-dc9f-1c6c19c9e5d0"
   },
   "outputs": [
    {
     "name": "stdout",
     "output_type": "stream",
     "text": [
      "@prefix Namespace: <https://pokemon.fandom.com/es/wiki/> .\n",
      "@prefix RAE: <https://dle.rae.es/> .\n",
      "@prefix rdfs: <http://www.w3.org/2000/01/rdf-schema#> .\n",
      "\n",
      "<https://api.pokemon.com/el/pokedex/charmander> a Namespace:primera_generacion,\n",
      "        Namespace:tipo_fuego ;\n",
      "    Namespace:evolucion <https://api.pokemon.com/el/pokedex/charmeleon> ;\n",
      "    Namespace:habilidad Namespace:mar_llamas ;\n",
      "    Namespace:mote \"Charmander\" .\n",
      "\n",
      "RAE:nombre rdfs:subPropertyOf rdfs:label,\n",
      "        Namespace:pantalla_de_datos .\n",
      "\n",
      "Namespace:cuarta_generacion rdfs:subClassOf Namespace:pokemon ;\n",
      "    RAE:nombre \"Pokemon de cuarta generación\" .\n",
      "\n",
      "Namespace:especie rdfs:subPropertyOf rdfs:label .\n",
      "\n",
      "Namespace:evolucion rdfs:domain Namespace:pokemon ;\n",
      "    rdfs:range Namespace:pokemon ;\n",
      "    rdfs:subPropertyOf rdfs:label,\n",
      "        Namespace:pantalla_de_datos .\n",
      "\n",
      "Namespace:habilidad rdfs:subPropertyOf rdfs:label,\n",
      "        Namespace:pantalla_de_datos .\n",
      "\n",
      "Namespace:mote rdfs:subPropertyOf rdfs:label,\n",
      "        Namespace:pantalla_de_datos .\n",
      "\n",
      "Namespace:segunda_generacion rdfs:subClassOf Namespace:pokemon ;\n",
      "    RAE:nombre \"Pokemon de segunda generación\" .\n",
      "\n",
      "Namespace:tercera_generacion rdfs:subClassOf Namespace:pokemon ;\n",
      "    RAE:nombre \"Pokemon de tercera generación\" .\n",
      "\n",
      "Namespace:tipo_acero rdfs:subClassOf Namespace:pokemon ;\n",
      "    RAE:nombre \"Pokemon tipo acero\" .\n",
      "\n",
      "Namespace:tipo_agua rdfs:subClassOf Namespace:pokemon ;\n",
      "    RAE:nombre \"Pokemon tipo agua\" .\n",
      "\n",
      "Namespace:tipo_bicho rdfs:subClassOf Namespace:pokemon ;\n",
      "    RAE:nombre \"Pokemon tipo bicho\" .\n",
      "\n",
      "Namespace:tipo_dragon rdfs:subClassOf Namespace:pokemon ;\n",
      "    RAE:nombre \"Pokemon tipo dragón\" .\n",
      "\n",
      "Namespace:tipo_electrico rdfs:subClassOf Namespace:pokemon ;\n",
      "    RAE:nombre \"Pokemon tipo eléctrico\" .\n",
      "\n",
      "Namespace:tipo_fantasma rdfs:subClassOf Namespace:pokemon ;\n",
      "    RAE:nombre \"Pokemon tipo fantasma\" .\n",
      "\n",
      "Namespace:tipo_hielo rdfs:subClassOf Namespace:pokemon ;\n",
      "    RAE:nombre \"Pokemon tipo hielo\" .\n",
      "\n",
      "Namespace:tipo_lucha rdfs:subClassOf Namespace:pokemon ;\n",
      "    RAE:nombre \"Pokemon tipo lucha\" .\n",
      "\n",
      "Namespace:tipo_planta rdfs:subClassOf Namespace:pokemon ;\n",
      "    RAE:nombre \"Pokemon tipo planta\" .\n",
      "\n",
      "Namespace:tipo_psiquico rdfs:subClassOf Namespace:pokemon ;\n",
      "    RAE:nombre \"Pokemon tipo psiquico\" .\n",
      "\n",
      "Namespace:tipo_tierra rdfs:subClassOf Namespace:pokemon ;\n",
      "    RAE:nombre \"Pokemon tipo tierra\" .\n",
      "\n",
      "Namespace:tipo_veneno rdfs:subClassOf Namespace:pokemon ;\n",
      "    RAE:nombre \"Pokemon tipo veneno\" .\n",
      "\n",
      "<https://api.pokemon.com/el/pokedex/charizard> a Namespace:primera_generacion,\n",
      "        Namespace:tipo_fuego,\n",
      "        Namespace:tipo_volador ;\n",
      "    Namespace:habilidad Namespace:mar_llamas ;\n",
      "    Namespace:mote \"Charizard\" .\n",
      "\n",
      "<https://api.pokemon.com/el/pokedex/charmeleon> a Namespace:primera_generacion,\n",
      "        Namespace:tipo_fuego ;\n",
      "    Namespace:evolucion <https://api.pokemon.com/el/pokedex/charizard> ;\n",
      "    Namespace:habilidad Namespace:mar_llamas ;\n",
      "    Namespace:mote \"Charmeleon\" .\n",
      "\n",
      "Namespace:tipo_volador rdfs:subClassOf Namespace:pokemon ;\n",
      "    RAE:nombre \"Pokemon tipo volador\" .\n",
      "\n",
      "Namespace:primera_generacion rdfs:subClassOf Namespace:pokemon ;\n",
      "    RAE:nombre \"Pokemon de primera generación\" .\n",
      "\n",
      "Namespace:tipo_fuego rdfs:subClassOf Namespace:pokemon ;\n",
      "    RAE:nombre \"Pokemon tipo fuego\" .\n",
      "\n",
      "Namespace:pantalla_de_datos rdfs:domain Namespace:pokemon .\n",
      "\n",
      "\n"
     ]
    }
   ],
   "source": [
    "print(g.serialize(format='turtle').decode(\"utf-8\"))"
   ]
  },
  {
   "cell_type": "code",
   "execution_count": 40,
   "metadata": {},
   "outputs": [
    {
     "name": "stdout",
     "output_type": "stream",
     "text": [
      "<?xml version=\"1.0\" encoding=\"UTF-8\"?>\n",
      "<rdf:RDF\n",
      "   xmlns:Namespace=\"https://pokemon.fandom.com/es/wiki/\"\n",
      "   xmlns:RAE=\"https://dle.rae.es/\"\n",
      "   xmlns:rdf=\"http://www.w3.org/1999/02/22-rdf-syntax-ns#\"\n",
      "   xmlns:rdfs=\"http://www.w3.org/2000/01/rdf-schema#\"\n",
      ">\n",
      "  <rdf:Description rdf:about=\"https://pokemon.fandom.com/es/wiki/segunda_generacion\">\n",
      "    <RAE:nombre>Pokemon de segunda generación</RAE:nombre>\n",
      "    <rdfs:subClassOf rdf:resource=\"https://pokemon.fandom.com/es/wiki/pokemon\"/>\n",
      "  </rdf:Description>\n",
      "  <rdf:Description rdf:about=\"https://api.pokemon.com/el/pokedex/charmeleon\">\n",
      "    <rdf:type rdf:resource=\"https://pokemon.fandom.com/es/wiki/primera_generacion\"/>\n",
      "    <rdf:type rdf:resource=\"https://pokemon.fandom.com/es/wiki/tipo_fuego\"/>\n",
      "    <Namespace:mote>Charmeleon</Namespace:mote>\n",
      "    <Namespace:habilidad rdf:resource=\"https://pokemon.fandom.com/es/wiki/mar_llamas\"/>\n",
      "    <Namespace:evolucion rdf:resource=\"https://api.pokemon.com/el/pokedex/charizard\"/>\n",
      "  </rdf:Description>\n",
      "  <rdf:Description rdf:about=\"https://pokemon.fandom.com/es/wiki/tipo_agua\">\n",
      "    <rdfs:subClassOf rdf:resource=\"https://pokemon.fandom.com/es/wiki/pokemon\"/>\n",
      "    <RAE:nombre>Pokemon tipo agua</RAE:nombre>\n",
      "  </rdf:Description>\n",
      "  <rdf:Description rdf:about=\"https://pokemon.fandom.com/es/wiki/tipo_volador\">\n",
      "    <RAE:nombre>Pokemon tipo volador</RAE:nombre>\n",
      "    <rdfs:subClassOf rdf:resource=\"https://pokemon.fandom.com/es/wiki/pokemon\"/>\n",
      "  </rdf:Description>\n",
      "  <rdf:Description rdf:about=\"https://pokemon.fandom.com/es/wiki/tercera_generacion\">\n",
      "    <rdfs:subClassOf rdf:resource=\"https://pokemon.fandom.com/es/wiki/pokemon\"/>\n",
      "    <RAE:nombre>Pokemon de tercera generación</RAE:nombre>\n",
      "  </rdf:Description>\n",
      "  <rdf:Description rdf:about=\"https://api.pokemon.com/el/pokedex/charizard\">\n",
      "    <Namespace:habilidad rdf:resource=\"https://pokemon.fandom.com/es/wiki/mar_llamas\"/>\n",
      "    <rdf:type rdf:resource=\"https://pokemon.fandom.com/es/wiki/primera_generacion\"/>\n",
      "    <rdf:type rdf:resource=\"https://pokemon.fandom.com/es/wiki/tipo_fuego\"/>\n",
      "    <Namespace:mote>Charizard</Namespace:mote>\n",
      "    <rdf:type rdf:resource=\"https://pokemon.fandom.com/es/wiki/tipo_volador\"/>\n",
      "  </rdf:Description>\n",
      "  <rdf:Description rdf:about=\"https://pokemon.fandom.com/es/wiki/tipo_fantasma\">\n",
      "    <rdfs:subClassOf rdf:resource=\"https://pokemon.fandom.com/es/wiki/pokemon\"/>\n",
      "    <RAE:nombre>Pokemon tipo fantasma</RAE:nombre>\n",
      "  </rdf:Description>\n",
      "  <rdf:Description rdf:about=\"https://pokemon.fandom.com/es/wiki/habilidad\">\n",
      "    <rdfs:subPropertyOf rdf:resource=\"https://pokemon.fandom.com/es/wiki/pantalla_de_datos\"/>\n",
      "    <rdfs:subPropertyOf rdf:resource=\"http://www.w3.org/2000/01/rdf-schema#label\"/>\n",
      "  </rdf:Description>\n",
      "  <rdf:Description rdf:about=\"https://dle.rae.es/nombre\">\n",
      "    <rdfs:subPropertyOf rdf:resource=\"http://www.w3.org/2000/01/rdf-schema#label\"/>\n",
      "    <rdfs:subPropertyOf rdf:resource=\"https://pokemon.fandom.com/es/wiki/pantalla_de_datos\"/>\n",
      "  </rdf:Description>\n",
      "  <rdf:Description rdf:about=\"https://pokemon.fandom.com/es/wiki/tipo_fuego\">\n",
      "    <RAE:nombre>Pokemon tipo fuego</RAE:nombre>\n",
      "    <rdfs:subClassOf rdf:resource=\"https://pokemon.fandom.com/es/wiki/pokemon\"/>\n",
      "  </rdf:Description>\n",
      "  <rdf:Description rdf:about=\"https://pokemon.fandom.com/es/wiki/tipo_veneno\">\n",
      "    <rdfs:subClassOf rdf:resource=\"https://pokemon.fandom.com/es/wiki/pokemon\"/>\n",
      "    <RAE:nombre>Pokemon tipo veneno</RAE:nombre>\n",
      "  </rdf:Description>\n",
      "  <rdf:Description rdf:about=\"https://pokemon.fandom.com/es/wiki/tipo_hielo\">\n",
      "    <rdfs:subClassOf rdf:resource=\"https://pokemon.fandom.com/es/wiki/pokemon\"/>\n",
      "    <RAE:nombre>Pokemon tipo hielo</RAE:nombre>\n",
      "  </rdf:Description>\n",
      "  <rdf:Description rdf:about=\"https://api.pokemon.com/el/pokedex/charmander\">\n",
      "    <rdf:type rdf:resource=\"https://pokemon.fandom.com/es/wiki/tipo_fuego\"/>\n",
      "    <Namespace:evolucion rdf:resource=\"https://api.pokemon.com/el/pokedex/charmeleon\"/>\n",
      "    <Namespace:habilidad rdf:resource=\"https://pokemon.fandom.com/es/wiki/mar_llamas\"/>\n",
      "    <Namespace:mote>Charmander</Namespace:mote>\n",
      "    <rdf:type rdf:resource=\"https://pokemon.fandom.com/es/wiki/primera_generacion\"/>\n",
      "  </rdf:Description>\n",
      "  <rdf:Description rdf:about=\"https://pokemon.fandom.com/es/wiki/tipo_bicho\">\n",
      "    <RAE:nombre>Pokemon tipo bicho</RAE:nombre>\n",
      "    <rdfs:subClassOf rdf:resource=\"https://pokemon.fandom.com/es/wiki/pokemon\"/>\n",
      "  </rdf:Description>\n",
      "  <rdf:Description rdf:about=\"https://pokemon.fandom.com/es/wiki/primera_generacion\">\n",
      "    <rdfs:subClassOf rdf:resource=\"https://pokemon.fandom.com/es/wiki/pokemon\"/>\n",
      "    <RAE:nombre>Pokemon de primera generación</RAE:nombre>\n",
      "  </rdf:Description>\n",
      "  <rdf:Description rdf:about=\"https://pokemon.fandom.com/es/wiki/pantalla_de_datos\">\n",
      "    <rdfs:domain rdf:resource=\"https://pokemon.fandom.com/es/wiki/pokemon\"/>\n",
      "  </rdf:Description>\n",
      "  <rdf:Description rdf:about=\"https://pokemon.fandom.com/es/wiki/tipo_acero\">\n",
      "    <rdfs:subClassOf rdf:resource=\"https://pokemon.fandom.com/es/wiki/pokemon\"/>\n",
      "    <RAE:nombre>Pokemon tipo acero</RAE:nombre>\n",
      "  </rdf:Description>\n",
      "  <rdf:Description rdf:about=\"https://pokemon.fandom.com/es/wiki/tipo_tierra\">\n",
      "    <rdfs:subClassOf rdf:resource=\"https://pokemon.fandom.com/es/wiki/pokemon\"/>\n",
      "    <RAE:nombre>Pokemon tipo tierra</RAE:nombre>\n",
      "  </rdf:Description>\n",
      "  <rdf:Description rdf:about=\"https://pokemon.fandom.com/es/wiki/tipo_electrico\">\n",
      "    <RAE:nombre>Pokemon tipo eléctrico</RAE:nombre>\n",
      "    <rdfs:subClassOf rdf:resource=\"https://pokemon.fandom.com/es/wiki/pokemon\"/>\n",
      "  </rdf:Description>\n",
      "  <rdf:Description rdf:about=\"https://pokemon.fandom.com/es/wiki/mote\">\n",
      "    <rdfs:subPropertyOf rdf:resource=\"http://www.w3.org/2000/01/rdf-schema#label\"/>\n",
      "    <rdfs:subPropertyOf rdf:resource=\"https://pokemon.fandom.com/es/wiki/pantalla_de_datos\"/>\n",
      "  </rdf:Description>\n",
      "  <rdf:Description rdf:about=\"https://pokemon.fandom.com/es/wiki/tipo_psiquico\">\n",
      "    <RAE:nombre>Pokemon tipo psiquico</RAE:nombre>\n",
      "    <rdfs:subClassOf rdf:resource=\"https://pokemon.fandom.com/es/wiki/pokemon\"/>\n",
      "  </rdf:Description>\n",
      "  <rdf:Description rdf:about=\"https://pokemon.fandom.com/es/wiki/evolucion\">\n",
      "    <rdfs:domain rdf:resource=\"https://pokemon.fandom.com/es/wiki/pokemon\"/>\n",
      "    <rdfs:range rdf:resource=\"https://pokemon.fandom.com/es/wiki/pokemon\"/>\n",
      "    <rdfs:subPropertyOf rdf:resource=\"http://www.w3.org/2000/01/rdf-schema#label\"/>\n",
      "    <rdfs:subPropertyOf rdf:resource=\"https://pokemon.fandom.com/es/wiki/pantalla_de_datos\"/>\n",
      "  </rdf:Description>\n",
      "  <rdf:Description rdf:about=\"https://pokemon.fandom.com/es/wiki/cuarta_generacion\">\n",
      "    <RAE:nombre>Pokemon de cuarta generación</RAE:nombre>\n",
      "    <rdfs:subClassOf rdf:resource=\"https://pokemon.fandom.com/es/wiki/pokemon\"/>\n",
      "  </rdf:Description>\n",
      "  <rdf:Description rdf:about=\"https://pokemon.fandom.com/es/wiki/tipo_planta\">\n",
      "    <RAE:nombre>Pokemon tipo planta</RAE:nombre>\n",
      "    <rdfs:subClassOf rdf:resource=\"https://pokemon.fandom.com/es/wiki/pokemon\"/>\n",
      "  </rdf:Description>\n",
      "  <rdf:Description rdf:about=\"https://pokemon.fandom.com/es/wiki/tipo_lucha\">\n",
      "    <RAE:nombre>Pokemon tipo lucha</RAE:nombre>\n",
      "    <rdfs:subClassOf rdf:resource=\"https://pokemon.fandom.com/es/wiki/pokemon\"/>\n",
      "  </rdf:Description>\n",
      "  <rdf:Description rdf:about=\"https://pokemon.fandom.com/es/wiki/tipo_dragon\">\n",
      "    <rdfs:subClassOf rdf:resource=\"https://pokemon.fandom.com/es/wiki/pokemon\"/>\n",
      "    <RAE:nombre>Pokemon tipo dragón</RAE:nombre>\n",
      "  </rdf:Description>\n",
      "  <rdf:Description rdf:about=\"https://pokemon.fandom.com/es/wiki/especie\">\n",
      "    <rdfs:subPropertyOf rdf:resource=\"http://www.w3.org/2000/01/rdf-schema#label\"/>\n",
      "  </rdf:Description>\n",
      "</rdf:RDF>\n",
      "\n"
     ]
    }
   ],
   "source": [
    "print(g.serialize(format=\"xml\").decode(\"utf-8\"))"
   ]
  },
  {
   "cell_type": "markdown",
   "metadata": {
    "id": "cdYWWKB1gtUX"
   },
   "source": [
    "# Inferencias"
   ]
  },
  {
   "cell_type": "markdown",
   "metadata": {
    "id": "5EofzrYhgtUX"
   },
   "source": [
    "#### Encontrar la evolución de los pokemon de tipo fuego"
   ]
  },
  {
   "cell_type": "code",
   "execution_count": 41,
   "metadata": {
    "id": "9gSX2n39gtUX",
    "scrolled": true
   },
   "outputs": [
    {
     "name": "stdout",
     "output_type": "stream",
     "text": [
      "Charmander evoluciona a Charmeleon\n",
      "Charmeleon evoluciona a Charizard\n"
     ]
    }
   ],
   "source": [
    "def nextEvolution(pokemon,graph):\n",
    "    for evolucion in graph.transitive_objects(pokemon, n.evolucion):\n",
    "        if evolucion != pokemon:\n",
    "            #print('{} evoluciona a {}'.format(pokemon,evolucion))\n",
    "            return (True,evolucion)\n",
    "    return (False,None)\n",
    "\n",
    "\n",
    "for pokemon in g.transitive_subjects(RDF.type,n.tipo_fuego): \n",
    "    existe,e=nextEvolution(pokemon,g)\n",
    "    if existe:\n",
    "        print('{} evoluciona a {}'.format(g.value(pokemon,nombre_pokemon),g.value(e,nombre_pokemon)))\n",
    "\n",
    "#print(list(g.transitive_objects(pichu, n.evolucion)))\n",
    "        "
   ]
  },
  {
   "cell_type": "code",
   "execution_count": 42,
   "metadata": {},
   "outputs": [
    {
     "name": "stdout",
     "output_type": "stream",
     "text": [
      "Pokemon que son la primera evolución: \n",
      "Charmeleon\n"
     ]
    }
   ],
   "source": [
    "#for s in g.transitive_subjects(RDFS.subClassOf,n.pokemon):\n",
    "def nextEvolution(pokemon,graph):\n",
    "    for evolucion in graph.transitive_objects(pokemon, n.evolucion):\n",
    "        if evolucion != pokemon:\n",
    "            #print('{} evoluciona a {}'.format(pokemon,evolucion))\n",
    "            return (True,evolucion)\n",
    "    return (False,None)\n",
    "\n",
    "evoluciones={}\n",
    "for pokemon in g.transitive_subjects(RDF.type,n.primera_generacion): \n",
    "    existe,e=nextEvolution(pokemon,g)\n",
    "    if existe:\n",
    "        #print('{} evoluciona a {}'.format(g.value(p,nombre_pokemon),g.value(e,nombre_pokemon)))\n",
    "        evoluciones[p]=e\n",
    "\n",
    "print(\"Pokemon que son la primera evolución: \")\n",
    "\n",
    "for pokemon in evoluciones.values():\n",
    "    if pokemon in evoluciones.keys():\n",
    "        print(g.value(pokemon,nombre_pokemon))\n",
    "        #print(\"{} es la evolucion de {}\".format(pokemon,))\n",
    "\n",
    "\n",
    "#print(list(g.transitive_objects(pichu, n.evolucion)))\n",
    "\n",
    "        "
   ]
  }
 ],
 "metadata": {
  "colab": {
   "collapsed_sections": [],
   "name": "Pokemon_PC1.ipynb",
   "provenance": []
  },
  "kernelspec": {
   "display_name": "Python 3",
   "language": "python",
   "name": "python3"
  },
  "language_info": {
   "codemirror_mode": {
    "name": "ipython",
    "version": 3
   },
   "file_extension": ".py",
   "mimetype": "text/x-python",
   "name": "python",
   "nbconvert_exporter": "python",
   "pygments_lexer": "ipython3",
   "version": "3.8.5"
  }
 },
 "nbformat": 4,
 "nbformat_minor": 1
}
