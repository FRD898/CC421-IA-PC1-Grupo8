{
 "cells": [
  {
   "cell_type": "markdown",
   "metadata": {
    "colab_type": "text",
    "id": "view-in-github"
   },
   "source": [
    "<a href=\"https://colab.research.google.com/github/FRD898/CC421-IA-PC1-Grupo8/blob/main/Pokemon_PC1.ipynb\" target=\"_parent\"><img src=\"https://colab.research.google.com/assets/colab-badge.svg\" alt=\"Open In Colab\"/></a>"
   ]
  },
  {
   "cell_type": "markdown",
   "metadata": {
    "id": "_t0SXiWVxgkb"
   },
   "source": [
    "## Ingresando  todas las URIREF"
   ]
  },
  {
   "cell_type": "code",
   "execution_count": 1,
   "metadata": {},
   "outputs": [],
   "source": [
    "from rdflib import URIRef, BNode, Literal\n",
    "from rdflib import Namespace\n",
    "from rdflib.namespace import RDF, RDFS\n",
    "from rdflib import ConjunctiveGraph\n",
    "import pprint"
   ]
  },
  {
   "cell_type": "code",
   "execution_count": null,
   "metadata": {},
   "outputs": [],
   "source": [
    "squirtle = URIRef('https://api.pokemon.com/el/pokedex/Squirtle') \n",
    "wartortle = URIRef('https://api.pokemon.com/el/pokedex/Wartortle') \n",
    "blastoise = URIRef('https://api.pokemon.com/el/pokedex/Blastoise')\n",
    "caterpie = URIRef('https://api.pokemon.com/el/pokedex/Caterpie')\n",
    "metapod = URIRef('https://api.pokemon.com/el/pokedex/Metapod') \n",
    "butterfree = URIRef('https://api.pokemon.com/el/pokedex/Butterfree')"
   ]
  },
  {
   "cell_type": "code",
   "execution_count": null,
   "metadata": {},
   "outputs": [],
   "source": [
    "n = Namespace(\"https://mtg.gamepedia.com/\")"
   ]
  },
  {
   "cell_type": "code",
   "execution_count": null,
   "metadata": {},
   "outputs": [],
   "source": [
    "g = ConjunctiveGraph()"
   ]
  },
  {
   "cell_type": "code",
   "execution_count": null,
   "metadata": {},
   "outputs": [],
   "source": [
    "torrente = URIRef(\"https://pokemon.fandom.com/es/wiki/Torrente\")\n",
    "polvoescudo = URIRef(\"https://pokemon.fandom.com/es/wiki/Polvo_escudo\")\n",
    "mudar = URIRef(\"https://pokemon.fandom.com/es/wiki/Mudar\")\n",
    "ojocompuesto = URIRef(\"https://pokemon.fandom.com/es/wiki/Ojo_compuesto\")"
   ]
  },
  {
   "cell_type": "markdown",
   "metadata": {},
   "source": [
    "## URI Caracteristicas"
   ]
  },
  {
   "cell_type": "code",
   "execution_count": null,
   "metadata": {},
   "outputs": [],
   "source": [
    "nombre = URIRef(\"caracteristica/nombre\")\n",
    "habilidad = URIRef(\"caracteristica/habilidad\")\n",
    "categoria = URIRef(\"caracteristica/categoria\")\n",
    "evoluciona_a = URIRef(\"caracteristica/evoluciona_a\")"
   ]
  },
  {
   "cell_type": "code",
   "execution_count": null,
   "metadata": {},
   "outputs": [],
   "source": [
    "g.add((squirtle, RDF.type, n.agua))\n",
    "g.add((squirtle, habilidad, n.torrente))\n",
    "g.add((squirtle, evoluciona_a, wartortle))\n",
    "g.add((squirtle, nombre, Literal('Squirtle')))\n",
    "\n",
    "g.add((wartortle, RDF.type, n.agua))\n",
    "g.add((wartortle, habilidad, n.torrente))\n",
    "g.add((wartortle, evoluciona_a, blastoise))\n",
    "g.add((wartortle, nombre, Literal('Wartortle')))\n",
    "\n",
    "g.add((blastoise, RDF.type, n.agua))\n",
    "g.add((blastoise, habilidad, n.torrente))\n",
    "g.add((blastoise, nombre, Literal('Blastoise')))\n",
    "\n",
    "g.add((caterpie, RDF.type, n.bicho))\n",
    "g.add((caterpie, habilidad, n.polvoescudo))\n",
    "g.add((caterpie, evoluciona_a, metapod))\n",
    "g.add((caterpie, nombre, Literal('Caterpie')))\n",
    "\n",
    "g.add((metapod, RDF.type, n.bicho))\n",
    "g.add((metapod, habilidad, n.mudar))\n",
    "g.add((metapod, evoluciona_a, butterfree))\n",
    "g.add((metapod, nombre, Literal('Metapod')))\n",
    "\n",
    "g.add((butterfree, RDF.type, n.bicho))\n",
    "g.add((butterfree, RDF.type, n.volador))\n",
    "g.add((butterfree, habilidad, n.ojocompuesto))\n",
    "g.add((butterfree, nombre, Literal('Butterfree')))"
   ]
  },
  {
   "cell_type": "markdown",
   "metadata": {},
   "source": [
    "## Subclases"
   ]
  },
  {
   "cell_type": "code",
   "execution_count": null,
   "metadata": {},
   "outputs": [],
   "source": []
  }
 ],
 "metadata": {
  "colab": {
   "authorship_tag": "ABX9TyP1ntWpwMOVDBFEk4DvcseU",
   "include_colab_link": true,
   "name": "Pokemon-PC1.ipynb",
   "provenance": []
  },
  "kernelspec": {
   "display_name": "Python 3",
   "language": "python",
   "name": "python3"
  },
  "language_info": {
   "codemirror_mode": {
    "name": "ipython",
    "version": 3
   },
   "file_extension": ".py",
   "mimetype": "text/x-python",
   "name": "python",
   "nbconvert_exporter": "python",
   "pygments_lexer": "ipython3",
   "version": "3.8.5"
  }
 },
 "nbformat": 4,
 "nbformat_minor": 1
}
