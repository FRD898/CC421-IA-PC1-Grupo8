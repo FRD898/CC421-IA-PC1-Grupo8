{
 "cells": [
  {
   "cell_type": "markdown",
   "metadata": {
    "colab_type": "text",
    "id": "view-in-github"
   },
   "source": [
    "<a href=\"https://colab.research.google.com/github/FRD898/CC421-IA-PC1-Grupo8/blob/main/Pokemon_PC1.ipynb\" target=\"_parent\"><img src=\"https://colab.research.google.com/assets/colab-badge.svg\" alt=\"Open In Colab\"/></a>"
   ]
  },
  {
   "cell_type": "code",
   "execution_count": 18,
   "metadata": {},
   "outputs": [],
   "source": [
    "from rdflib import URIRef, BNode, Literal\n",
    "from rdflib import Namespace\n",
    "from rdflib.namespace import RDF, RDFS\n",
    "from rdflib import ConjunctiveGraph\n",
    "import pprint"
   ]
  },
  {
   "cell_type": "markdown",
   "metadata": {
    "id": "_t0SXiWVxgkb"
   },
   "source": [
    "## Ingresando  todas las URIREF"
   ]
  },
  {
   "cell_type": "code",
   "execution_count": 19,
   "metadata": {},
   "outputs": [],
   "source": [
    "weedle = URIRef(\"https://api.pokemon.com/el/pokedex/weedle\")\n",
    "kakuna = URIRef(\"https://api.pokemon.com/el/pokedex/kakuna\")\n",
    "beedrill = URIRef(\"https://api.pokemon.com/el/pokedex/beedrill\")\n",
    "pidgey = URIRef(\"https://api.pokemon.com/el/pokedex/pidgey\")\n",
    "pidgeotto = URIRef(\"https://api.pokemon.com/el/pokedex/pidgeotto\")\n",
    "pidgeot = URIRef(\"https://api.pokemon.com/el/pokedex/pidgeot\")\n"
   ]
  },
  {
   "cell_type": "markdown",
   "metadata": {},
   "source": [
    "### Habilidades"
   ]
  },
  {
   "cell_type": "code",
   "execution_count": 20,
   "metadata": {},
   "outputs": [],
   "source": [
    "espesura = URIRef(\"https://pokemon.fandom.com/es/wiki/Espesura\")\n",
    "espesura = URIRef(\"https://pokemon.fandom.com/es/wiki/Espesura\")\n",
    "espesura = URIRef(\"https://pokemon.fandom.com/es/wiki/Espesura\")\n",
    "espesura = URIRef(\"https://pokemon.fandom.com/es/wiki/Espesura\")\n",
    "espesura = URIRef(\"https://pokemon.fandom.com/es/wiki/Espesura\")\n",
    "espesura = URIRef(\"https://pokemon.fandom.com/es/wiki/Espesura\")"
   ]
  },
  {
   "cell_type": "markdown",
   "metadata": {},
   "source": [
    "## Namespace "
   ]
  },
  {
   "cell_type": "code",
   "execution_count": 21,
   "metadata": {},
   "outputs": [],
   "source": [
    "n = Namespace(\"https://pokemon.fandom.com/es/wiki/\")"
   ]
  },
  {
   "cell_type": "markdown",
   "metadata": {},
   "source": [
    "## URI Caracteristicas"
   ]
  },
  {
   "cell_type": "code",
   "execution_count": 22,
   "metadata": {},
   "outputs": [],
   "source": [
    "nombre = URIRef(\"caracteristica/nombre\")\n",
    "habilidad = URIRef(\"caracteristica/habilidad\")\n",
    "categoria = URIRef(\"caracteristica/categoria\")\n",
    "evoluciona_a = URIRef(\"caracteristica/evoluciona_a\")\n"
   ]
  },
  {
   "cell_type": "code",
   "execution_count": 23,
   "metadata": {},
   "outputs": [],
   "source": [
    "g = ConjunctiveGraph()"
   ]
  },
  {
   "cell_type": "code",
   "execution_count": 24,
   "metadata": {},
   "outputs": [],
   "source": [
    "g.add((n.tierra, RDFS.subClassOf, n.pokemon))\n",
    "g.add((n.agua, RDFS.subClassOf, n.pokemon))\n",
    "g.add((n.planta, RDFS.subClassOf, n.pokemon))\n",
    "g.add((n.fuego, RDFS.subClassOf, n.pokemon))\n",
    "g.add((n.electrico, RDFS.subClassOf, n.pokemon))\n"
   ]
  },
  {
   "cell_type": "markdown",
   "metadata": {},
   "source": [
    "### Instancias de pokemon"
   ]
  },
  {
   "cell_type": "code",
   "execution_count": 25,
   "metadata": {},
   "outputs": [],
   "source": [
    "g.add((weedle, RDF.type, n.bicho))\n",
    "g.add((weedle, RDF.type, n.veneno))\n",
    "g.add((weedle, habilidad, n.espesura))\n",
    "g.add((weedle, evoluciona_a, kakuna))\n",
    "g.add((weedle, nombre, Literal('Weedle')))\n",
    "\n"
   ]
  },
  {
   "cell_type": "markdown",
   "metadata": {},
   "source": [
    "## Properties"
   ]
  },
  {
   "cell_type": "code",
   "execution_count": 26,
   "metadata": {},
   "outputs": [],
   "source": [
    "g.add((nombre, RDFS.subPropertyOf, n.characteristic))\n",
    "g.add((habilidad, RDFS.subPropertyOf, n.characteristic))\n",
    "g.add((categoria, RDFS.subPropertyOf, n.characteristic))\n",
    "g.add((evoluciona_a, RDFS.subPropertyOf, n.characteristic))\n",
    "\n",
    "g.add((evoluciona_a, RDFS.domain, n.pokemon))\n",
    "g.add((evoluciona_a, RDFS.range, n.pokemon))"
   ]
  },
  {
   "cell_type": "markdown",
   "metadata": {},
   "source": [
    "### Labels"
   ]
  },
  {
   "cell_type": "code",
   "execution_count": 27,
   "metadata": {},
   "outputs": [],
   "source": [
    "g.add((nombre, RDFS.subPropertyOf, RDFS.label))\n",
    "g.add((habilidad, RDFS.subPropertyOf, RDFS.label))\n",
    "g.add((categoria, RDFS.subPropertyOf, RDFS.label))\n",
    "g.add((evoluciona_a, RDFS.subPropertyOf, RDFS.label))\n"
   ]
  },
  {
   "cell_type": "code",
   "execution_count": 28,
   "metadata": {},
   "outputs": [
    {
     "name": "stdout",
     "output_type": "stream",
     "text": [
      "b'<?xml version=\"1.0\" encoding=\"UTF-8\"?><rdf:RDF   xmlns:ns1=\"caracteristica/\"   xmlns:rdf=\"http://www.w3.org/1999/02/22-rdf-syntax-ns#\"   xmlns:rdfs=\"http://www.w3.org/2000/01/rdf-schema#\">  <rdf:Description rdf:about=\"https://api.pokemon.com/el/pokedex/weedle\">    <rdf:type rdf:resource=\"https://pokemon.fandom.com/es/wikiveneno\"/>    <ns1:nombre>Weedle</ns1:nombre>    <ns1:evoluciona_a rdf:resource=\"https://api.pokemon.com/el/pokedex/kakuna\"/>    <ns1:habilidad rdf:resource=\"https://pokemon.fandom.com/es/wikiespesura\"/>    <rdf:type rdf:resource=\"https://pokemon.fandom.com/es/wikibicho\"/>  </rdf:Description>  <rdf:Description rdf:about=\"caracteristica/categoria\">    <rdfs:subPropertyOf rdf:resource=\"https://pokemon.fandom.com/es/wikicharacteristic\"/>    <rdfs:subPropertyOf rdf:resource=\"http://www.w3.org/2000/01/rdf-schema#label\"/>  </rdf:Description>  <rdf:Description rdf:about=\"caracteristica/nombre\">    <rdfs:subPropertyOf rdf:resource=\"http://www.w3.org/2000/01/rdf-schema#label\"/>    <rdfs:subPropertyOf rdf:resource=\"https://pokemon.fandom.com/es/wikicharacteristic\"/>  </rdf:Description>  <rdf:Description rdf:about=\"https://pokemon.fandom.com/es/wikielectrico\">    <rdfs:subClassOf rdf:resource=\"https://pokemon.fandom.com/es/wikipokemon\"/>  </rdf:Description>  <rdf:Description rdf:about=\"caracteristica/evoluciona_a\">    <rdfs:range rdf:resource=\"https://pokemon.fandom.com/es/wikipokemon\"/>    <rdfs:subPropertyOf rdf:resource=\"https://pokemon.fandom.com/es/wikicharacteristic\"/>    <rdfs:domain rdf:resource=\"https://pokemon.fandom.com/es/wikipokemon\"/>    <rdfs:subPropertyOf rdf:resource=\"http://www.w3.org/2000/01/rdf-schema#label\"/>  </rdf:Description>  <rdf:Description rdf:about=\"https://pokemon.fandom.com/es/wikiplanta\">    <rdfs:subClassOf rdf:resource=\"https://pokemon.fandom.com/es/wikipokemon\"/>  </rdf:Description>  <rdf:Description rdf:about=\"caracteristica/habilidad\">    <rdfs:subPropertyOf rdf:resource=\"https://pokemon.fandom.com/es/wikicharacteristic\"/>    <rdfs:subPropertyOf rdf:resource=\"http://www.w3.org/2000/01/rdf-schema#label\"/>  </rdf:Description>  <rdf:Description rdf:about=\"https://pokemon.fandom.com/es/wikifuego\">    <rdfs:subClassOf rdf:resource=\"https://pokemon.fandom.com/es/wikipokemon\"/>  </rdf:Description>  <rdf:Description rdf:about=\"https://pokemon.fandom.com/es/wikiagua\">    <rdfs:subClassOf rdf:resource=\"https://pokemon.fandom.com/es/wikipokemon\"/>  </rdf:Description>  <rdf:Description rdf:about=\"https://pokemon.fandom.com/es/wikitierra\">    <rdfs:subClassOf rdf:resource=\"https://pokemon.fandom.com/es/wikipokemon\"/>  </rdf:Description></rdf:RDF>'\n"
     ]
    }
   ],
   "source": [
    "print(str(g.serialize(format='xml')).replace('\\\\n', ''))"
   ]
  },
  {
   "cell_type": "code",
   "execution_count": null,
   "metadata": {},
   "outputs": [],
   "source": []
  }
 ],
 "metadata": {
  "colab": {
   "authorship_tag": "ABX9TyP1ntWpwMOVDBFEk4DvcseU",
   "include_colab_link": true,
   "name": "Pokemon-PC1.ipynb",
   "provenance": []
  },
  "kernelspec": {
   "display_name": "Python 3",
   "language": "python",
   "name": "python3"
  },
  "language_info": {
   "codemirror_mode": {
    "name": "ipython",
    "version": 3
   },
   "file_extension": ".py",
   "mimetype": "text/x-python",
   "name": "python",
   "nbconvert_exporter": "python",
   "pygments_lexer": "ipython3",
   "version": "3.9.1"
  }
 },
 "nbformat": 4,
 "nbformat_minor": 1
}
